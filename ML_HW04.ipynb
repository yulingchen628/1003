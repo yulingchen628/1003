{
  "nbformat": 4,
  "nbformat_minor": 0,
  "metadata": {
    "colab": {
      "name": "ML_HW04.ipynb",
      "provenance": [],
      "mount_file_id": "1agpWCTH0SjaCUZrSr-XKbSqzjcftiscH",
      "authorship_tag": "ABX9TyMoMzjUQVehfwNGF5znotnw",
      "include_colab_link": true
    },
    "kernelspec": {
      "name": "python3",
      "display_name": "Python 3"
    }
  },
  "cells": [
    {
      "cell_type": "markdown",
      "metadata": {
        "id": "view-in-github",
        "colab_type": "text"
      },
      "source": [
        "<a href=\"https://colab.research.google.com/github/yulingchen628/10901ML/blob/main/ML_HW04.ipynb\" target=\"_parent\"><img src=\"https://colab.research.google.com/assets/colab-badge.svg\" alt=\"Open In Colab\"/></a>"
      ]
    },
    {
      "cell_type": "code",
      "metadata": {
        "id": "y67vZlaEa_QP"
      },
      "source": [
        "import pandas as pd\n",
        "import numpy as np\n",
        "import matplotlib.pyplot as plt\n",
        "import seaborn as sns"
      ],
      "execution_count": 1,
      "outputs": []
    },
    {
      "cell_type": "code",
      "metadata": {
        "colab": {
          "base_uri": "https://localhost:8080/"
        },
        "id": "dBAEiXN88gxQ",
        "outputId": "004e6b9c-f856-456c-8680-f2785aa3d2aa"
      },
      "source": [
        "from google.colab import drive\n",
        "drive.mount('/content/drive')"
      ],
      "execution_count": 2,
      "outputs": [
        {
          "output_type": "stream",
          "text": [
            "Drive already mounted at /content/drive; to attempt to forcibly remount, call drive.mount(\"/content/drive\", force_remount=True).\n"
          ],
          "name": "stdout"
        }
      ]
    },
    {
      "cell_type": "code",
      "metadata": {
        "colab": {
          "base_uri": "https://localhost:8080/",
          "height": 202
        },
        "id": "90rS7zFterK0",
        "outputId": "e3af414a-ca8e-4b4b-ce0f-d93345dacfb7"
      },
      "source": [
        "data = pd.read_csv('/content/drive/MyDrive/bank-full.csv')\n",
        "data.head()"
      ],
      "execution_count": 3,
      "outputs": [
        {
          "output_type": "execute_result",
          "data": {
            "text/html": [
              "<div>\n",
              "<style scoped>\n",
              "    .dataframe tbody tr th:only-of-type {\n",
              "        vertical-align: middle;\n",
              "    }\n",
              "\n",
              "    .dataframe tbody tr th {\n",
              "        vertical-align: top;\n",
              "    }\n",
              "\n",
              "    .dataframe thead th {\n",
              "        text-align: right;\n",
              "    }\n",
              "</style>\n",
              "<table border=\"1\" class=\"dataframe\">\n",
              "  <thead>\n",
              "    <tr style=\"text-align: right;\">\n",
              "      <th></th>\n",
              "      <th>age</th>\n",
              "      <th>job</th>\n",
              "      <th>marital</th>\n",
              "      <th>education</th>\n",
              "      <th>default</th>\n",
              "      <th>balance</th>\n",
              "      <th>housing</th>\n",
              "      <th>loan</th>\n",
              "      <th>contact</th>\n",
              "      <th>day</th>\n",
              "      <th>month</th>\n",
              "      <th>duration</th>\n",
              "      <th>campaign</th>\n",
              "      <th>pdays</th>\n",
              "      <th>previous</th>\n",
              "      <th>poutcome</th>\n",
              "      <th>y</th>\n",
              "    </tr>\n",
              "  </thead>\n",
              "  <tbody>\n",
              "    <tr>\n",
              "      <th>0</th>\n",
              "      <td>58</td>\n",
              "      <td>management</td>\n",
              "      <td>married</td>\n",
              "      <td>tertiary</td>\n",
              "      <td>no</td>\n",
              "      <td>2143</td>\n",
              "      <td>yes</td>\n",
              "      <td>no</td>\n",
              "      <td>unknown</td>\n",
              "      <td>5</td>\n",
              "      <td>may</td>\n",
              "      <td>261</td>\n",
              "      <td>1</td>\n",
              "      <td>-1</td>\n",
              "      <td>0</td>\n",
              "      <td>unknown</td>\n",
              "      <td>no</td>\n",
              "    </tr>\n",
              "    <tr>\n",
              "      <th>1</th>\n",
              "      <td>44</td>\n",
              "      <td>technician</td>\n",
              "      <td>single</td>\n",
              "      <td>secondary</td>\n",
              "      <td>no</td>\n",
              "      <td>29</td>\n",
              "      <td>yes</td>\n",
              "      <td>no</td>\n",
              "      <td>unknown</td>\n",
              "      <td>5</td>\n",
              "      <td>may</td>\n",
              "      <td>151</td>\n",
              "      <td>1</td>\n",
              "      <td>-1</td>\n",
              "      <td>0</td>\n",
              "      <td>unknown</td>\n",
              "      <td>no</td>\n",
              "    </tr>\n",
              "    <tr>\n",
              "      <th>2</th>\n",
              "      <td>33</td>\n",
              "      <td>entrepreneur</td>\n",
              "      <td>married</td>\n",
              "      <td>secondary</td>\n",
              "      <td>no</td>\n",
              "      <td>2</td>\n",
              "      <td>yes</td>\n",
              "      <td>yes</td>\n",
              "      <td>unknown</td>\n",
              "      <td>5</td>\n",
              "      <td>may</td>\n",
              "      <td>76</td>\n",
              "      <td>1</td>\n",
              "      <td>-1</td>\n",
              "      <td>0</td>\n",
              "      <td>unknown</td>\n",
              "      <td>no</td>\n",
              "    </tr>\n",
              "    <tr>\n",
              "      <th>3</th>\n",
              "      <td>47</td>\n",
              "      <td>blue-collar</td>\n",
              "      <td>married</td>\n",
              "      <td>unknown</td>\n",
              "      <td>no</td>\n",
              "      <td>1506</td>\n",
              "      <td>yes</td>\n",
              "      <td>no</td>\n",
              "      <td>unknown</td>\n",
              "      <td>5</td>\n",
              "      <td>may</td>\n",
              "      <td>92</td>\n",
              "      <td>1</td>\n",
              "      <td>-1</td>\n",
              "      <td>0</td>\n",
              "      <td>unknown</td>\n",
              "      <td>no</td>\n",
              "    </tr>\n",
              "    <tr>\n",
              "      <th>4</th>\n",
              "      <td>33</td>\n",
              "      <td>unknown</td>\n",
              "      <td>single</td>\n",
              "      <td>unknown</td>\n",
              "      <td>no</td>\n",
              "      <td>1</td>\n",
              "      <td>no</td>\n",
              "      <td>no</td>\n",
              "      <td>unknown</td>\n",
              "      <td>5</td>\n",
              "      <td>may</td>\n",
              "      <td>198</td>\n",
              "      <td>1</td>\n",
              "      <td>-1</td>\n",
              "      <td>0</td>\n",
              "      <td>unknown</td>\n",
              "      <td>no</td>\n",
              "    </tr>\n",
              "  </tbody>\n",
              "</table>\n",
              "</div>"
            ],
            "text/plain": [
              "   age           job  marital  education  ... pdays  previous poutcome   y\n",
              "0   58    management  married   tertiary  ...    -1         0  unknown  no\n",
              "1   44    technician   single  secondary  ...    -1         0  unknown  no\n",
              "2   33  entrepreneur  married  secondary  ...    -1         0  unknown  no\n",
              "3   47   blue-collar  married    unknown  ...    -1         0  unknown  no\n",
              "4   33       unknown   single    unknown  ...    -1         0  unknown  no\n",
              "\n",
              "[5 rows x 17 columns]"
            ]
          },
          "metadata": {
            "tags": []
          },
          "execution_count": 3
        }
      ]
    },
    {
      "cell_type": "code",
      "metadata": {
        "colab": {
          "base_uri": "https://localhost:8080/"
        },
        "id": "EUtrCXnfcEgg",
        "outputId": "0b52e688-01d3-4919-bbbe-575fb27508e1"
      },
      "source": [
        "data.shape"
      ],
      "execution_count": 4,
      "outputs": [
        {
          "output_type": "execute_result",
          "data": {
            "text/plain": [
              "(45211, 17)"
            ]
          },
          "metadata": {
            "tags": []
          },
          "execution_count": 4
        }
      ]
    },
    {
      "cell_type": "code",
      "metadata": {
        "colab": {
          "base_uri": "https://localhost:8080/"
        },
        "id": "ooYzBeCdgh8V",
        "outputId": "496515cc-9178-45ab-f6ff-31b3693e0b45"
      },
      "source": [
        "data.isnull().sum()"
      ],
      "execution_count": 5,
      "outputs": [
        {
          "output_type": "execute_result",
          "data": {
            "text/plain": [
              "age          0\n",
              "job          0\n",
              "marital      0\n",
              "education    0\n",
              "default      0\n",
              "balance      0\n",
              "housing      0\n",
              "loan         0\n",
              "contact      0\n",
              "day          0\n",
              "month        0\n",
              "duration     0\n",
              "campaign     0\n",
              "pdays        0\n",
              "previous     0\n",
              "poutcome     0\n",
              "y            0\n",
              "dtype: int64"
            ]
          },
          "metadata": {
            "tags": []
          },
          "execution_count": 5
        }
      ]
    },
    {
      "cell_type": "markdown",
      "metadata": {
        "id": "IsKmey0FBfns"
      },
      "source": [
        "LabelEncoder"
      ]
    },
    {
      "cell_type": "code",
      "metadata": {
        "id": "6WslZVUegrve"
      },
      "source": [
        "from sklearn.preprocessing import LabelEncoder\n",
        "le = LabelEncoder()"
      ],
      "execution_count": 6,
      "outputs": []
    },
    {
      "cell_type": "code",
      "metadata": {
        "colab": {
          "base_uri": "https://localhost:8080/"
        },
        "id": "tlyqWeH4hErP",
        "outputId": "52483342-9b25-428d-881a-b71d48491e87"
      },
      "source": [
        "data['job'].unique()"
      ],
      "execution_count": 7,
      "outputs": [
        {
          "output_type": "execute_result",
          "data": {
            "text/plain": [
              "array(['management', 'technician', 'entrepreneur', 'blue-collar',\n",
              "       'unknown', 'retired', 'admin.', 'services', 'self-employed',\n",
              "       'unemployed', 'housemaid', 'student'], dtype=object)"
            ]
          },
          "metadata": {
            "tags": []
          },
          "execution_count": 7
        }
      ]
    },
    {
      "cell_type": "code",
      "metadata": {
        "colab": {
          "base_uri": "https://localhost:8080/"
        },
        "id": "gT3bFcKohE01",
        "outputId": "85b2a20b-5039-418f-b46a-147348aa20a7"
      },
      "source": [
        "data['marital'].unique()"
      ],
      "execution_count": 8,
      "outputs": [
        {
          "output_type": "execute_result",
          "data": {
            "text/plain": [
              "array(['married', 'single', 'divorced'], dtype=object)"
            ]
          },
          "metadata": {
            "tags": []
          },
          "execution_count": 8
        }
      ]
    },
    {
      "cell_type": "code",
      "metadata": {
        "colab": {
          "base_uri": "https://localhost:8080/"
        },
        "id": "QStCIaIkgsEJ",
        "outputId": "b46c1ae1-2227-4bff-8a96-7479fa2dd874"
      },
      "source": [
        "data['education'].unique()"
      ],
      "execution_count": 9,
      "outputs": [
        {
          "output_type": "execute_result",
          "data": {
            "text/plain": [
              "array(['tertiary', 'secondary', 'unknown', 'primary'], dtype=object)"
            ]
          },
          "metadata": {
            "tags": []
          },
          "execution_count": 9
        }
      ]
    },
    {
      "cell_type": "code",
      "metadata": {
        "colab": {
          "base_uri": "https://localhost:8080/"
        },
        "id": "nm1LxeUr9xkG",
        "outputId": "8d063ad3-2597-4f6f-b8ad-8b120ef99f0e"
      },
      "source": [
        "data['default'].unique()"
      ],
      "execution_count": 10,
      "outputs": [
        {
          "output_type": "execute_result",
          "data": {
            "text/plain": [
              "array(['no', 'yes'], dtype=object)"
            ]
          },
          "metadata": {
            "tags": []
          },
          "execution_count": 10
        }
      ]
    },
    {
      "cell_type": "code",
      "metadata": {
        "colab": {
          "base_uri": "https://localhost:8080/"
        },
        "id": "LquoKC9l81K7",
        "outputId": "81fab648-f26e-4660-e7d6-bc16d1f25582"
      },
      "source": [
        "data['housing'].unique()"
      ],
      "execution_count": 11,
      "outputs": [
        {
          "output_type": "execute_result",
          "data": {
            "text/plain": [
              "array(['yes', 'no'], dtype=object)"
            ]
          },
          "metadata": {
            "tags": []
          },
          "execution_count": 11
        }
      ]
    },
    {
      "cell_type": "code",
      "metadata": {
        "colab": {
          "base_uri": "https://localhost:8080/"
        },
        "id": "3V0RBsib9LOZ",
        "outputId": "afa0c40b-f2ff-4929-e374-e73ac68c210a"
      },
      "source": [
        "data['loan'].unique()"
      ],
      "execution_count": 12,
      "outputs": [
        {
          "output_type": "execute_result",
          "data": {
            "text/plain": [
              "array(['no', 'yes'], dtype=object)"
            ]
          },
          "metadata": {
            "tags": []
          },
          "execution_count": 12
        }
      ]
    },
    {
      "cell_type": "code",
      "metadata": {
        "colab": {
          "base_uri": "https://localhost:8080/"
        },
        "id": "3j8DE6xjhEXe",
        "outputId": "e9c2a22d-e2a3-4fad-c058-254ec3ce1f85"
      },
      "source": [
        "data['contact'].unique()"
      ],
      "execution_count": 13,
      "outputs": [
        {
          "output_type": "execute_result",
          "data": {
            "text/plain": [
              "array(['unknown', 'cellular', 'telephone'], dtype=object)"
            ]
          },
          "metadata": {
            "tags": []
          },
          "execution_count": 13
        }
      ]
    },
    {
      "cell_type": "code",
      "metadata": {
        "colab": {
          "base_uri": "https://localhost:8080/"
        },
        "id": "3QifwsvF9Ey-",
        "outputId": "4b76045b-608f-4c72-88b4-8bd833604e15"
      },
      "source": [
        "data['month'].unique()"
      ],
      "execution_count": 14,
      "outputs": [
        {
          "output_type": "execute_result",
          "data": {
            "text/plain": [
              "array(['may', 'jun', 'jul', 'aug', 'oct', 'nov', 'dec', 'jan', 'feb',\n",
              "       'mar', 'apr', 'sep'], dtype=object)"
            ]
          },
          "metadata": {
            "tags": []
          },
          "execution_count": 14
        }
      ]
    },
    {
      "cell_type": "code",
      "metadata": {
        "colab": {
          "base_uri": "https://localhost:8080/"
        },
        "id": "-Iq2kLL588Zd",
        "outputId": "292ff74b-2983-48b5-dbb0-9d5d03af4a2c"
      },
      "source": [
        "data['poutcome'].unique()"
      ],
      "execution_count": 15,
      "outputs": [
        {
          "output_type": "execute_result",
          "data": {
            "text/plain": [
              "array(['unknown', 'failure', 'other', 'success'], dtype=object)"
            ]
          },
          "metadata": {
            "tags": []
          },
          "execution_count": 15
        }
      ]
    },
    {
      "cell_type": "code",
      "metadata": {
        "colab": {
          "base_uri": "https://localhost:8080/"
        },
        "id": "8Ra8nZRX9j7u",
        "outputId": "8974aa37-34dd-46bc-9d8e-0ccaf09d60be"
      },
      "source": [
        "data['y'].unique()"
      ],
      "execution_count": 16,
      "outputs": [
        {
          "output_type": "execute_result",
          "data": {
            "text/plain": [
              "array(['no', 'yes'], dtype=object)"
            ]
          },
          "metadata": {
            "tags": []
          },
          "execution_count": 16
        }
      ]
    },
    {
      "cell_type": "code",
      "metadata": {
        "colab": {
          "base_uri": "https://localhost:8080/",
          "height": 415
        },
        "id": "a7mx3mHMh5XQ",
        "outputId": "36762c80-43ad-4c42-cd1c-3daa4af47249"
      },
      "source": [
        "data['job'] = le.fit_transform(data['job'])\n",
        "data['marital'] = le.fit_transform(data['marital'])\n",
        "data['education'] = le.fit_transform(data['education'])\n",
        "data['default'] = le.fit_transform(data['default'])\n",
        "data['housing'] = le.fit_transform(data['housing'])\n",
        "data['loan'] = le.fit_transform(data['loan'])\n",
        "data['contact'] = le.fit_transform(data['contact'])\n",
        "data['month'] = le.fit_transform(data['month'])\n",
        "data['poutcome'] = le.fit_transform(data['poutcome'])\n",
        "data['y'] = le.fit_transform(data['y'])\n",
        "data"
      ],
      "execution_count": 17,
      "outputs": [
        {
          "output_type": "execute_result",
          "data": {
            "text/html": [
              "<div>\n",
              "<style scoped>\n",
              "    .dataframe tbody tr th:only-of-type {\n",
              "        vertical-align: middle;\n",
              "    }\n",
              "\n",
              "    .dataframe tbody tr th {\n",
              "        vertical-align: top;\n",
              "    }\n",
              "\n",
              "    .dataframe thead th {\n",
              "        text-align: right;\n",
              "    }\n",
              "</style>\n",
              "<table border=\"1\" class=\"dataframe\">\n",
              "  <thead>\n",
              "    <tr style=\"text-align: right;\">\n",
              "      <th></th>\n",
              "      <th>age</th>\n",
              "      <th>job</th>\n",
              "      <th>marital</th>\n",
              "      <th>education</th>\n",
              "      <th>default</th>\n",
              "      <th>balance</th>\n",
              "      <th>housing</th>\n",
              "      <th>loan</th>\n",
              "      <th>contact</th>\n",
              "      <th>day</th>\n",
              "      <th>month</th>\n",
              "      <th>duration</th>\n",
              "      <th>campaign</th>\n",
              "      <th>pdays</th>\n",
              "      <th>previous</th>\n",
              "      <th>poutcome</th>\n",
              "      <th>y</th>\n",
              "    </tr>\n",
              "  </thead>\n",
              "  <tbody>\n",
              "    <tr>\n",
              "      <th>0</th>\n",
              "      <td>58</td>\n",
              "      <td>4</td>\n",
              "      <td>1</td>\n",
              "      <td>2</td>\n",
              "      <td>0</td>\n",
              "      <td>2143</td>\n",
              "      <td>1</td>\n",
              "      <td>0</td>\n",
              "      <td>2</td>\n",
              "      <td>5</td>\n",
              "      <td>8</td>\n",
              "      <td>261</td>\n",
              "      <td>1</td>\n",
              "      <td>-1</td>\n",
              "      <td>0</td>\n",
              "      <td>3</td>\n",
              "      <td>0</td>\n",
              "    </tr>\n",
              "    <tr>\n",
              "      <th>1</th>\n",
              "      <td>44</td>\n",
              "      <td>9</td>\n",
              "      <td>2</td>\n",
              "      <td>1</td>\n",
              "      <td>0</td>\n",
              "      <td>29</td>\n",
              "      <td>1</td>\n",
              "      <td>0</td>\n",
              "      <td>2</td>\n",
              "      <td>5</td>\n",
              "      <td>8</td>\n",
              "      <td>151</td>\n",
              "      <td>1</td>\n",
              "      <td>-1</td>\n",
              "      <td>0</td>\n",
              "      <td>3</td>\n",
              "      <td>0</td>\n",
              "    </tr>\n",
              "    <tr>\n",
              "      <th>2</th>\n",
              "      <td>33</td>\n",
              "      <td>2</td>\n",
              "      <td>1</td>\n",
              "      <td>1</td>\n",
              "      <td>0</td>\n",
              "      <td>2</td>\n",
              "      <td>1</td>\n",
              "      <td>1</td>\n",
              "      <td>2</td>\n",
              "      <td>5</td>\n",
              "      <td>8</td>\n",
              "      <td>76</td>\n",
              "      <td>1</td>\n",
              "      <td>-1</td>\n",
              "      <td>0</td>\n",
              "      <td>3</td>\n",
              "      <td>0</td>\n",
              "    </tr>\n",
              "    <tr>\n",
              "      <th>3</th>\n",
              "      <td>47</td>\n",
              "      <td>1</td>\n",
              "      <td>1</td>\n",
              "      <td>3</td>\n",
              "      <td>0</td>\n",
              "      <td>1506</td>\n",
              "      <td>1</td>\n",
              "      <td>0</td>\n",
              "      <td>2</td>\n",
              "      <td>5</td>\n",
              "      <td>8</td>\n",
              "      <td>92</td>\n",
              "      <td>1</td>\n",
              "      <td>-1</td>\n",
              "      <td>0</td>\n",
              "      <td>3</td>\n",
              "      <td>0</td>\n",
              "    </tr>\n",
              "    <tr>\n",
              "      <th>4</th>\n",
              "      <td>33</td>\n",
              "      <td>11</td>\n",
              "      <td>2</td>\n",
              "      <td>3</td>\n",
              "      <td>0</td>\n",
              "      <td>1</td>\n",
              "      <td>0</td>\n",
              "      <td>0</td>\n",
              "      <td>2</td>\n",
              "      <td>5</td>\n",
              "      <td>8</td>\n",
              "      <td>198</td>\n",
              "      <td>1</td>\n",
              "      <td>-1</td>\n",
              "      <td>0</td>\n",
              "      <td>3</td>\n",
              "      <td>0</td>\n",
              "    </tr>\n",
              "    <tr>\n",
              "      <th>...</th>\n",
              "      <td>...</td>\n",
              "      <td>...</td>\n",
              "      <td>...</td>\n",
              "      <td>...</td>\n",
              "      <td>...</td>\n",
              "      <td>...</td>\n",
              "      <td>...</td>\n",
              "      <td>...</td>\n",
              "      <td>...</td>\n",
              "      <td>...</td>\n",
              "      <td>...</td>\n",
              "      <td>...</td>\n",
              "      <td>...</td>\n",
              "      <td>...</td>\n",
              "      <td>...</td>\n",
              "      <td>...</td>\n",
              "      <td>...</td>\n",
              "    </tr>\n",
              "    <tr>\n",
              "      <th>45206</th>\n",
              "      <td>51</td>\n",
              "      <td>9</td>\n",
              "      <td>1</td>\n",
              "      <td>2</td>\n",
              "      <td>0</td>\n",
              "      <td>825</td>\n",
              "      <td>0</td>\n",
              "      <td>0</td>\n",
              "      <td>0</td>\n",
              "      <td>17</td>\n",
              "      <td>9</td>\n",
              "      <td>977</td>\n",
              "      <td>3</td>\n",
              "      <td>-1</td>\n",
              "      <td>0</td>\n",
              "      <td>3</td>\n",
              "      <td>1</td>\n",
              "    </tr>\n",
              "    <tr>\n",
              "      <th>45207</th>\n",
              "      <td>71</td>\n",
              "      <td>5</td>\n",
              "      <td>0</td>\n",
              "      <td>0</td>\n",
              "      <td>0</td>\n",
              "      <td>1729</td>\n",
              "      <td>0</td>\n",
              "      <td>0</td>\n",
              "      <td>0</td>\n",
              "      <td>17</td>\n",
              "      <td>9</td>\n",
              "      <td>456</td>\n",
              "      <td>2</td>\n",
              "      <td>-1</td>\n",
              "      <td>0</td>\n",
              "      <td>3</td>\n",
              "      <td>1</td>\n",
              "    </tr>\n",
              "    <tr>\n",
              "      <th>45208</th>\n",
              "      <td>72</td>\n",
              "      <td>5</td>\n",
              "      <td>1</td>\n",
              "      <td>1</td>\n",
              "      <td>0</td>\n",
              "      <td>5715</td>\n",
              "      <td>0</td>\n",
              "      <td>0</td>\n",
              "      <td>0</td>\n",
              "      <td>17</td>\n",
              "      <td>9</td>\n",
              "      <td>1127</td>\n",
              "      <td>5</td>\n",
              "      <td>184</td>\n",
              "      <td>3</td>\n",
              "      <td>2</td>\n",
              "      <td>1</td>\n",
              "    </tr>\n",
              "    <tr>\n",
              "      <th>45209</th>\n",
              "      <td>57</td>\n",
              "      <td>1</td>\n",
              "      <td>1</td>\n",
              "      <td>1</td>\n",
              "      <td>0</td>\n",
              "      <td>668</td>\n",
              "      <td>0</td>\n",
              "      <td>0</td>\n",
              "      <td>1</td>\n",
              "      <td>17</td>\n",
              "      <td>9</td>\n",
              "      <td>508</td>\n",
              "      <td>4</td>\n",
              "      <td>-1</td>\n",
              "      <td>0</td>\n",
              "      <td>3</td>\n",
              "      <td>0</td>\n",
              "    </tr>\n",
              "    <tr>\n",
              "      <th>45210</th>\n",
              "      <td>37</td>\n",
              "      <td>2</td>\n",
              "      <td>1</td>\n",
              "      <td>1</td>\n",
              "      <td>0</td>\n",
              "      <td>2971</td>\n",
              "      <td>0</td>\n",
              "      <td>0</td>\n",
              "      <td>0</td>\n",
              "      <td>17</td>\n",
              "      <td>9</td>\n",
              "      <td>361</td>\n",
              "      <td>2</td>\n",
              "      <td>188</td>\n",
              "      <td>11</td>\n",
              "      <td>1</td>\n",
              "      <td>0</td>\n",
              "    </tr>\n",
              "  </tbody>\n",
              "</table>\n",
              "<p>45211 rows × 17 columns</p>\n",
              "</div>"
            ],
            "text/plain": [
              "       age  job  marital  education  ...  pdays  previous  poutcome  y\n",
              "0       58    4        1          2  ...     -1         0         3  0\n",
              "1       44    9        2          1  ...     -1         0         3  0\n",
              "2       33    2        1          1  ...     -1         0         3  0\n",
              "3       47    1        1          3  ...     -1         0         3  0\n",
              "4       33   11        2          3  ...     -1         0         3  0\n",
              "...    ...  ...      ...        ...  ...    ...       ...       ... ..\n",
              "45206   51    9        1          2  ...     -1         0         3  1\n",
              "45207   71    5        0          0  ...     -1         0         3  1\n",
              "45208   72    5        1          1  ...    184         3         2  1\n",
              "45209   57    1        1          1  ...     -1         0         3  0\n",
              "45210   37    2        1          1  ...    188        11         1  0\n",
              "\n",
              "[45211 rows x 17 columns]"
            ]
          },
          "metadata": {
            "tags": []
          },
          "execution_count": 17
        }
      ]
    },
    {
      "cell_type": "code",
      "metadata": {
        "id": "O0AEq14ItYUt"
      },
      "source": [
        "X = data[['age','job','education','default','balance','housing','loan','contact','day','month','duration','campaign','pdays','previous','poutcome']]\n",
        "Y = data['y'].values"
      ],
      "execution_count": 18,
      "outputs": []
    },
    {
      "cell_type": "code",
      "metadata": {
        "id": "e_RKPz0PscoZ"
      },
      "source": [
        "from sklearn.preprocessing import StandardScaler\n",
        "ss = StandardScaler()"
      ],
      "execution_count": 19,
      "outputs": []
    },
    {
      "cell_type": "code",
      "metadata": {
        "colab": {
          "base_uri": "https://localhost:8080/"
        },
        "id": "HEdi11Pksv_Y",
        "outputId": "4b03e128-7a97-498b-b43a-5298b55e6386"
      },
      "source": [
        "X_scaled = ss.fit_transform(X)\n",
        "X_scaled"
      ],
      "execution_count": 20,
      "outputs": [
        {
          "output_type": "execute_result",
          "data": {
            "text/plain": [
              "array([[ 1.60696496, -0.10381968,  1.03636182, ..., -0.41145311,\n",
              "        -0.25194037,  0.44489814],\n",
              "       [ 0.28852927,  1.42400783, -0.30055587, ..., -0.41145311,\n",
              "        -0.25194037,  0.44489814],\n",
              "       [-0.74738448, -0.71495069, -0.30055587, ..., -0.41145311,\n",
              "        -0.25194037,  0.44489814],\n",
              "       ...,\n",
              "       [ 2.92540065,  0.20174582, -0.30055587, ...,  1.43618859,\n",
              "         1.05047333, -0.56617504],\n",
              "       [ 1.51279098, -1.02051619, -0.30055587, ..., -0.41145311,\n",
              "        -0.25194037,  0.44489814],\n",
              "       [-0.37068857, -0.71495069, -0.30055587, ...,  1.4761376 ,\n",
              "         4.52357654, -1.57724822]])"
            ]
          },
          "metadata": {
            "tags": []
          },
          "execution_count": 20
        }
      ]
    },
    {
      "cell_type": "code",
      "metadata": {
        "id": "t5BInoag8ETI"
      },
      "source": [
        "from sklearn.model_selection import train_test_split\n",
        "from sklearn.decomposition import PCA"
      ],
      "execution_count": 21,
      "outputs": []
    },
    {
      "cell_type": "code",
      "metadata": {
        "id": "DXuCyxPQi5MN"
      },
      "source": [
        "pca = PCA(n_components=12)\n",
        "pca.fit(X_scaled)\n",
        "X_scaled = pca.fit_transform(X_scaled)"
      ],
      "execution_count": 22,
      "outputs": []
    },
    {
      "cell_type": "code",
      "metadata": {
        "id": "eNaPloeUuLdG"
      },
      "source": [
        "X_train,X_test,Y_train,Y_test = train_test_split(X_scaled,Y,test_size=0.2,random_state=1234)"
      ],
      "execution_count": 23,
      "outputs": []
    },
    {
      "cell_type": "markdown",
      "metadata": {
        "id": "Mc7vBKBgU8fx"
      },
      "source": [
        "SVM"
      ]
    },
    {
      "cell_type": "code",
      "metadata": {
        "id": "ZN7gi1SOja2l"
      },
      "source": [
        "from sklearn.model_selection import cross_val_score\n",
        "from sklearn.svm import SVC"
      ],
      "execution_count": 24,
      "outputs": []
    },
    {
      "cell_type": "code",
      "metadata": {
        "colab": {
          "base_uri": "https://localhost:8080/"
        },
        "id": "c3oFJF7jqoOK",
        "outputId": "c08dbca6-493f-49e4-8c5a-ad1d3899d51b"
      },
      "source": [
        "svc = SVC(kernel='rbf')\n",
        "cross_val_score(svc,X_test,Y_test,scoring='accuracy',cv=10).mean()"
      ],
      "execution_count": 25,
      "outputs": [
        {
          "output_type": "execute_result",
          "data": {
            "text/plain": [
              "0.8921812203588715"
            ]
          },
          "metadata": {
            "tags": []
          },
          "execution_count": 25
        }
      ]
    },
    {
      "cell_type": "markdown",
      "metadata": {
        "id": "AsYDt8q5Jm5h"
      },
      "source": [
        "NN"
      ]
    },
    {
      "cell_type": "code",
      "metadata": {
        "id": "-NrN54apInxR"
      },
      "source": [
        "from tensorflow.keras import Sequential \n",
        "from tensorflow.keras.layers import Dense"
      ],
      "execution_count": 26,
      "outputs": []
    },
    {
      "cell_type": "code",
      "metadata": {
        "id": "lEF5bMNgKVbt"
      },
      "source": [
        "model = Sequential() \n",
        "model.add(Dense(50,activation='tanh',input_shape=(12,)))\n",
        "model.add(Dense(30,activation='sigmoid'))\n",
        "model.add(Dense(1,activation='sigmoid'))\n",
        "model.compile(optimizer='adam',loss='binary_crossentropy',metrics=['accuracy'])"
      ],
      "execution_count": 27,
      "outputs": []
    },
    {
      "cell_type": "code",
      "metadata": {
        "colab": {
          "base_uri": "https://localhost:8080/"
        },
        "id": "ro31k_zuLH08",
        "outputId": "4b992be2-a72e-40fc-ec80-60744739e7a3"
      },
      "source": [
        "model.summary()"
      ],
      "execution_count": 28,
      "outputs": [
        {
          "output_type": "stream",
          "text": [
            "Model: \"sequential\"\n",
            "_________________________________________________________________\n",
            "Layer (type)                 Output Shape              Param #   \n",
            "=================================================================\n",
            "dense (Dense)                (None, 50)                650       \n",
            "_________________________________________________________________\n",
            "dense_1 (Dense)              (None, 30)                1530      \n",
            "_________________________________________________________________\n",
            "dense_2 (Dense)              (None, 1)                 31        \n",
            "=================================================================\n",
            "Total params: 2,211\n",
            "Trainable params: 2,211\n",
            "Non-trainable params: 0\n",
            "_________________________________________________________________\n"
          ],
          "name": "stdout"
        }
      ]
    },
    {
      "cell_type": "code",
      "metadata": {
        "colab": {
          "base_uri": "https://localhost:8080/"
        },
        "id": "xj747MkiLPx2",
        "outputId": "be40f411-94bf-4846-c378-137e08c843e6"
      },
      "source": [
        "model.fit(X_train,Y_train,epochs=50,batch_size=12)"
      ],
      "execution_count": 29,
      "outputs": [
        {
          "output_type": "stream",
          "text": [
            "Epoch 1/50\n",
            "3014/3014 [==============================] - 3s 1ms/step - loss: 0.2615 - accuracy: 0.8909\n",
            "Epoch 2/50\n",
            "3014/3014 [==============================] - 3s 1ms/step - loss: 0.2481 - accuracy: 0.8939\n",
            "Epoch 3/50\n",
            "3014/3014 [==============================] - 3s 1ms/step - loss: 0.2435 - accuracy: 0.8957\n",
            "Epoch 4/50\n",
            "3014/3014 [==============================] - 3s 1ms/step - loss: 0.2404 - accuracy: 0.8962\n",
            "Epoch 5/50\n",
            "3014/3014 [==============================] - 3s 1ms/step - loss: 0.2383 - accuracy: 0.8965\n",
            "Epoch 6/50\n",
            "3014/3014 [==============================] - 3s 1ms/step - loss: 0.2365 - accuracy: 0.8972\n",
            "Epoch 7/50\n",
            "3014/3014 [==============================] - 3s 1ms/step - loss: 0.2347 - accuracy: 0.8989\n",
            "Epoch 8/50\n",
            "3014/3014 [==============================] - 3s 1ms/step - loss: 0.2333 - accuracy: 0.8977\n",
            "Epoch 9/50\n",
            "3014/3014 [==============================] - 3s 1ms/step - loss: 0.2319 - accuracy: 0.8994\n",
            "Epoch 10/50\n",
            "3014/3014 [==============================] - 3s 1ms/step - loss: 0.2304 - accuracy: 0.8988\n",
            "Epoch 11/50\n",
            "3014/3014 [==============================] - 3s 1ms/step - loss: 0.2292 - accuracy: 0.8996\n",
            "Epoch 12/50\n",
            "3014/3014 [==============================] - 3s 1ms/step - loss: 0.2282 - accuracy: 0.8996\n",
            "Epoch 13/50\n",
            "3014/3014 [==============================] - 3s 1ms/step - loss: 0.2273 - accuracy: 0.8996\n",
            "Epoch 14/50\n",
            "3014/3014 [==============================] - 3s 1ms/step - loss: 0.2262 - accuracy: 0.9001\n",
            "Epoch 15/50\n",
            "3014/3014 [==============================] - 3s 1ms/step - loss: 0.2255 - accuracy: 0.9004\n",
            "Epoch 16/50\n",
            "3014/3014 [==============================] - 3s 1ms/step - loss: 0.2246 - accuracy: 0.9003\n",
            "Epoch 17/50\n",
            "3014/3014 [==============================] - 4s 1ms/step - loss: 0.2240 - accuracy: 0.9005\n",
            "Epoch 18/50\n",
            "3014/3014 [==============================] - 3s 1ms/step - loss: 0.2230 - accuracy: 0.9008\n",
            "Epoch 19/50\n",
            "3014/3014 [==============================] - 3s 1ms/step - loss: 0.2223 - accuracy: 0.9021\n",
            "Epoch 20/50\n",
            "3014/3014 [==============================] - 3s 1ms/step - loss: 0.2215 - accuracy: 0.9014\n",
            "Epoch 21/50\n",
            "3014/3014 [==============================] - 3s 1ms/step - loss: 0.2210 - accuracy: 0.9025\n",
            "Epoch 22/50\n",
            "3014/3014 [==============================] - 3s 1ms/step - loss: 0.2200 - accuracy: 0.9020\n",
            "Epoch 23/50\n",
            "3014/3014 [==============================] - 3s 1ms/step - loss: 0.2192 - accuracy: 0.9022\n",
            "Epoch 24/50\n",
            "3014/3014 [==============================] - 3s 1ms/step - loss: 0.2187 - accuracy: 0.9035\n",
            "Epoch 25/50\n",
            "3014/3014 [==============================] - 3s 1ms/step - loss: 0.2173 - accuracy: 0.9036\n",
            "Epoch 26/50\n",
            "3014/3014 [==============================] - 3s 1ms/step - loss: 0.2170 - accuracy: 0.9038\n",
            "Epoch 27/50\n",
            "3014/3014 [==============================] - 3s 1ms/step - loss: 0.2164 - accuracy: 0.9039\n",
            "Epoch 28/50\n",
            "3014/3014 [==============================] - 3s 1ms/step - loss: 0.2158 - accuracy: 0.9040\n",
            "Epoch 29/50\n",
            "3014/3014 [==============================] - 3s 1ms/step - loss: 0.2147 - accuracy: 0.9046\n",
            "Epoch 30/50\n",
            "3014/3014 [==============================] - 3s 1ms/step - loss: 0.2137 - accuracy: 0.9049\n",
            "Epoch 31/50\n",
            "3014/3014 [==============================] - 3s 1ms/step - loss: 0.2135 - accuracy: 0.9052\n",
            "Epoch 32/50\n",
            "3014/3014 [==============================] - 3s 1ms/step - loss: 0.2129 - accuracy: 0.9052\n",
            "Epoch 33/50\n",
            "3014/3014 [==============================] - 3s 1ms/step - loss: 0.2122 - accuracy: 0.9059\n",
            "Epoch 34/50\n",
            "3014/3014 [==============================] - 3s 1ms/step - loss: 0.2116 - accuracy: 0.9059\n",
            "Epoch 35/50\n",
            "3014/3014 [==============================] - 3s 1ms/step - loss: 0.2110 - accuracy: 0.9058\n",
            "Epoch 36/50\n",
            "3014/3014 [==============================] - 4s 1ms/step - loss: 0.2104 - accuracy: 0.9058\n",
            "Epoch 37/50\n",
            "3014/3014 [==============================] - 4s 1ms/step - loss: 0.2101 - accuracy: 0.9061\n",
            "Epoch 38/50\n",
            "3014/3014 [==============================] - 3s 1ms/step - loss: 0.2090 - accuracy: 0.9073\n",
            "Epoch 39/50\n",
            "3014/3014 [==============================] - 3s 1ms/step - loss: 0.2086 - accuracy: 0.9076\n",
            "Epoch 40/50\n",
            "3014/3014 [==============================] - 3s 1ms/step - loss: 0.2080 - accuracy: 0.9073\n",
            "Epoch 41/50\n",
            "3014/3014 [==============================] - 3s 1ms/step - loss: 0.2073 - accuracy: 0.9082\n",
            "Epoch 42/50\n",
            "3014/3014 [==============================] - 3s 1ms/step - loss: 0.2065 - accuracy: 0.9089\n",
            "Epoch 43/50\n",
            "3014/3014 [==============================] - 4s 1ms/step - loss: 0.2065 - accuracy: 0.9083\n",
            "Epoch 44/50\n",
            "3014/3014 [==============================] - 4s 1ms/step - loss: 0.2057 - accuracy: 0.9089\n",
            "Epoch 45/50\n",
            "3014/3014 [==============================] - 3s 1ms/step - loss: 0.2051 - accuracy: 0.9086\n",
            "Epoch 46/50\n",
            "3014/3014 [==============================] - 3s 1ms/step - loss: 0.2042 - accuracy: 0.9090\n",
            "Epoch 47/50\n",
            "3014/3014 [==============================] - 3s 1ms/step - loss: 0.2040 - accuracy: 0.9099\n",
            "Epoch 48/50\n",
            "3014/3014 [==============================] - 3s 1ms/step - loss: 0.2033 - accuracy: 0.9095\n",
            "Epoch 49/50\n",
            "3014/3014 [==============================] - 3s 1ms/step - loss: 0.2031 - accuracy: 0.9103\n",
            "Epoch 50/50\n",
            "3014/3014 [==============================] - 3s 1ms/step - loss: 0.2020 - accuracy: 0.9106\n"
          ],
          "name": "stdout"
        },
        {
          "output_type": "execute_result",
          "data": {
            "text/plain": [
              "<tensorflow.python.keras.callbacks.History at 0x7f6d0f01fcc0>"
            ]
          },
          "metadata": {
            "tags": []
          },
          "execution_count": 29
        }
      ]
    },
    {
      "cell_type": "code",
      "metadata": {
        "colab": {
          "base_uri": "https://localhost:8080/"
        },
        "id": "4j1cr8FMN5RG",
        "outputId": "6c61f561-b179-488e-efcc-95d8830f4bd7"
      },
      "source": [
        "test_los,test_acc = model.evaluate(X_test, Y_test)"
      ],
      "execution_count": 30,
      "outputs": [
        {
          "output_type": "stream",
          "text": [
            "283/283 [==============================] - 0s 811us/step - loss: 0.2403 - accuracy: 0.8954\n"
          ],
          "name": "stdout"
        }
      ]
    },
    {
      "cell_type": "markdown",
      "metadata": {
        "id": "w7AV0XafdVGN"
      },
      "source": [
        "Logistic Regression with NN"
      ]
    },
    {
      "cell_type": "code",
      "metadata": {
        "id": "LdgEdZfhdU4n"
      },
      "source": [
        "model1 = Sequential() \n",
        "model1.add(Dense(1,activation='sigmoid'))\n",
        "model1.compile(optimizer='adam',loss='binary_crossentropy',metrics=['accuracy'])"
      ],
      "execution_count": 31,
      "outputs": []
    },
    {
      "cell_type": "code",
      "metadata": {
        "colab": {
          "base_uri": "https://localhost:8080/"
        },
        "id": "92BnanyNev8N",
        "outputId": "d1f7bf4b-d270-4d46-8d84-1b56fadb2a26"
      },
      "source": [
        "model1.fit(X_train,Y_train,epochs=50,batch_size=12)"
      ],
      "execution_count": 32,
      "outputs": [
        {
          "output_type": "stream",
          "text": [
            "Epoch 1/50\n",
            "3014/3014 [==============================] - 2s 802us/step - loss: 0.4283 - accuracy: 0.8304\n",
            "Epoch 2/50\n",
            "3014/3014 [==============================] - 2s 818us/step - loss: 0.2819 - accuracy: 0.8889\n",
            "Epoch 3/50\n",
            "3014/3014 [==============================] - 2s 789us/step - loss: 0.2754 - accuracy: 0.8885\n",
            "Epoch 4/50\n",
            "3014/3014 [==============================] - 2s 785us/step - loss: 0.2750 - accuracy: 0.8886\n",
            "Epoch 5/50\n",
            "3014/3014 [==============================] - 2s 790us/step - loss: 0.2748 - accuracy: 0.8883\n",
            "Epoch 6/50\n",
            "3014/3014 [==============================] - 4s 1ms/step - loss: 0.2748 - accuracy: 0.8887\n",
            "Epoch 7/50\n",
            "3014/3014 [==============================] - 3s 877us/step - loss: 0.2747 - accuracy: 0.8889\n",
            "Epoch 8/50\n",
            "3014/3014 [==============================] - 3s 845us/step - loss: 0.2747 - accuracy: 0.8890\n",
            "Epoch 9/50\n",
            "3014/3014 [==============================] - 3s 867us/step - loss: 0.2747 - accuracy: 0.8886\n",
            "Epoch 10/50\n",
            "3014/3014 [==============================] - 3s 834us/step - loss: 0.2748 - accuracy: 0.8888\n",
            "Epoch 11/50\n",
            "3014/3014 [==============================] - 3s 864us/step - loss: 0.2748 - accuracy: 0.8892\n",
            "Epoch 12/50\n",
            "3014/3014 [==============================] - 2s 808us/step - loss: 0.2748 - accuracy: 0.8887\n",
            "Epoch 13/50\n",
            "3014/3014 [==============================] - 3s 837us/step - loss: 0.2748 - accuracy: 0.8890\n",
            "Epoch 14/50\n",
            "3014/3014 [==============================] - 3s 844us/step - loss: 0.2748 - accuracy: 0.8890\n",
            "Epoch 15/50\n",
            "3014/3014 [==============================] - 2s 790us/step - loss: 0.2748 - accuracy: 0.8890\n",
            "Epoch 16/50\n",
            "3014/3014 [==============================] - 2s 817us/step - loss: 0.2747 - accuracy: 0.8888\n",
            "Epoch 17/50\n",
            "3014/3014 [==============================] - 2s 816us/step - loss: 0.2748 - accuracy: 0.8889\n",
            "Epoch 18/50\n",
            "3014/3014 [==============================] - 2s 824us/step - loss: 0.2747 - accuracy: 0.8885\n",
            "Epoch 19/50\n",
            "3014/3014 [==============================] - 3s 835us/step - loss: 0.2747 - accuracy: 0.8885\n",
            "Epoch 20/50\n",
            "3014/3014 [==============================] - 2s 810us/step - loss: 0.2747 - accuracy: 0.8887\n",
            "Epoch 21/50\n",
            "3014/3014 [==============================] - 2s 809us/step - loss: 0.2748 - accuracy: 0.8889\n",
            "Epoch 22/50\n",
            "3014/3014 [==============================] - 2s 813us/step - loss: 0.2748 - accuracy: 0.8893\n",
            "Epoch 23/50\n",
            "3014/3014 [==============================] - 2s 810us/step - loss: 0.2747 - accuracy: 0.8888\n",
            "Epoch 24/50\n",
            "3014/3014 [==============================] - 2s 800us/step - loss: 0.2747 - accuracy: 0.8885\n",
            "Epoch 25/50\n",
            "3014/3014 [==============================] - 2s 808us/step - loss: 0.2747 - accuracy: 0.8890\n",
            "Epoch 26/50\n",
            "3014/3014 [==============================] - 2s 810us/step - loss: 0.2747 - accuracy: 0.8887\n",
            "Epoch 27/50\n",
            "3014/3014 [==============================] - 2s 810us/step - loss: 0.2748 - accuracy: 0.8889\n",
            "Epoch 28/50\n",
            "3014/3014 [==============================] - 2s 822us/step - loss: 0.2748 - accuracy: 0.8888\n",
            "Epoch 29/50\n",
            "3014/3014 [==============================] - 2s 792us/step - loss: 0.2747 - accuracy: 0.8887\n",
            "Epoch 30/50\n",
            "3014/3014 [==============================] - 3s 840us/step - loss: 0.2748 - accuracy: 0.8889\n",
            "Epoch 31/50\n",
            "3014/3014 [==============================] - 2s 825us/step - loss: 0.2748 - accuracy: 0.8889\n",
            "Epoch 32/50\n",
            "3014/3014 [==============================] - 2s 811us/step - loss: 0.2747 - accuracy: 0.8888\n",
            "Epoch 33/50\n",
            "3014/3014 [==============================] - 3s 1ms/step - loss: 0.2748 - accuracy: 0.8888\n",
            "Epoch 34/50\n",
            "3014/3014 [==============================] - 3s 861us/step - loss: 0.2747 - accuracy: 0.8889\n",
            "Epoch 35/50\n",
            "3014/3014 [==============================] - 3s 876us/step - loss: 0.2747 - accuracy: 0.8884\n",
            "Epoch 36/50\n",
            "3014/3014 [==============================] - 3s 936us/step - loss: 0.2747 - accuracy: 0.8888\n",
            "Epoch 37/50\n",
            "3014/3014 [==============================] - 3s 1ms/step - loss: 0.2748 - accuracy: 0.8891\n",
            "Epoch 38/50\n",
            "3014/3014 [==============================] - 3s 993us/step - loss: 0.2748 - accuracy: 0.8889\n",
            "Epoch 39/50\n",
            "3014/3014 [==============================] - 3s 870us/step - loss: 0.2747 - accuracy: 0.8890\n",
            "Epoch 40/50\n",
            "3014/3014 [==============================] - 2s 790us/step - loss: 0.2748 - accuracy: 0.8887\n",
            "Epoch 41/50\n",
            "3014/3014 [==============================] - 3s 830us/step - loss: 0.2747 - accuracy: 0.8889\n",
            "Epoch 42/50\n",
            "3014/3014 [==============================] - 2s 801us/step - loss: 0.2747 - accuracy: 0.8887\n",
            "Epoch 43/50\n",
            "3014/3014 [==============================] - 2s 795us/step - loss: 0.2747 - accuracy: 0.8892\n",
            "Epoch 44/50\n",
            "3014/3014 [==============================] - 2s 790us/step - loss: 0.2748 - accuracy: 0.8886\n",
            "Epoch 45/50\n",
            "3014/3014 [==============================] - 3s 833us/step - loss: 0.2748 - accuracy: 0.8889\n",
            "Epoch 46/50\n",
            "3014/3014 [==============================] - 2s 780us/step - loss: 0.2747 - accuracy: 0.8883\n",
            "Epoch 47/50\n",
            "3014/3014 [==============================] - 2s 799us/step - loss: 0.2748 - accuracy: 0.8891\n",
            "Epoch 48/50\n",
            "3014/3014 [==============================] - 2s 815us/step - loss: 0.2748 - accuracy: 0.8887\n",
            "Epoch 49/50\n",
            "3014/3014 [==============================] - 2s 823us/step - loss: 0.2748 - accuracy: 0.8885\n",
            "Epoch 50/50\n",
            "3014/3014 [==============================] - 2s 816us/step - loss: 0.2748 - accuracy: 0.8888\n"
          ],
          "name": "stdout"
        },
        {
          "output_type": "execute_result",
          "data": {
            "text/plain": [
              "<tensorflow.python.keras.callbacks.History at 0x7f6d0c91feb8>"
            ]
          },
          "metadata": {
            "tags": []
          },
          "execution_count": 32
        }
      ]
    },
    {
      "cell_type": "code",
      "metadata": {
        "colab": {
          "base_uri": "https://localhost:8080/"
        },
        "id": "MiPJVXXweW3K",
        "outputId": "0658492c-189f-4224-c7c7-d674e26d8bbd"
      },
      "source": [
        "test_los,test_acc = model1.evaluate(X_test, Y_test)"
      ],
      "execution_count": 33,
      "outputs": [
        {
          "output_type": "stream",
          "text": [
            "283/283 [==============================] - 0s 792us/step - loss: 0.2660 - accuracy: 0.8941\n"
          ],
          "name": "stdout"
        }
      ]
    }
  ]
}