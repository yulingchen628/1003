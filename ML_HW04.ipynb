{
  "nbformat": 4,
  "nbformat_minor": 0,
  "metadata": {
    "colab": {
      "name": "ML_HW04.ipynb",
      "provenance": [],
      "mount_file_id": "1agpWCTH0SjaCUZrSr-XKbSqzjcftiscH",
      "authorship_tag": "ABX9TyPVWtZzroeUkFxE1HJgl4M9",
      "include_colab_link": true
    },
    "kernelspec": {
      "name": "python3",
      "display_name": "Python 3"
    }
  },
  "cells": [
    {
      "cell_type": "markdown",
      "metadata": {
        "id": "view-in-github",
        "colab_type": "text"
      },
      "source": [
        "<a href=\"https://colab.research.google.com/github/yulingchen628/10901ML/blob/main/ML_HW04.ipynb\" target=\"_parent\"><img src=\"https://colab.research.google.com/assets/colab-badge.svg\" alt=\"Open In Colab\"/></a>"
      ]
    },
    {
      "cell_type": "code",
      "metadata": {
        "id": "y67vZlaEa_QP"
      },
      "source": [
        "import pandas as pd\n",
        "import numpy as np\n",
        "import matplotlib.pyplot as plt\n",
        "import seaborn as sns"
      ],
      "execution_count": 1,
      "outputs": []
    },
    {
      "cell_type": "code",
      "metadata": {
        "colab": {
          "base_uri": "https://localhost:8080/"
        },
        "id": "dBAEiXN88gxQ",
        "outputId": "4563a393-be24-4900-ec9d-59e569743102"
      },
      "source": [
        "from google.colab import drive\n",
        "drive.mount('/content/drive')"
      ],
      "execution_count": 2,
      "outputs": [
        {
          "output_type": "stream",
          "text": [
            "Drive already mounted at /content/drive; to attempt to forcibly remount, call drive.mount(\"/content/drive\", force_remount=True).\n"
          ],
          "name": "stdout"
        }
      ]
    },
    {
      "cell_type": "code",
      "metadata": {
        "colab": {
          "base_uri": "https://localhost:8080/",
          "height": 202
        },
        "id": "90rS7zFterK0",
        "outputId": "57a7a9b1-e126-43b4-fd92-000b4154d6fc"
      },
      "source": [
        "data = pd.read_csv('/content/drive/MyDrive/bank-full.csv')\n",
        "data.head()"
      ],
      "execution_count": 3,
      "outputs": [
        {
          "output_type": "execute_result",
          "data": {
            "text/html": [
              "<div>\n",
              "<style scoped>\n",
              "    .dataframe tbody tr th:only-of-type {\n",
              "        vertical-align: middle;\n",
              "    }\n",
              "\n",
              "    .dataframe tbody tr th {\n",
              "        vertical-align: top;\n",
              "    }\n",
              "\n",
              "    .dataframe thead th {\n",
              "        text-align: right;\n",
              "    }\n",
              "</style>\n",
              "<table border=\"1\" class=\"dataframe\">\n",
              "  <thead>\n",
              "    <tr style=\"text-align: right;\">\n",
              "      <th></th>\n",
              "      <th>age</th>\n",
              "      <th>job</th>\n",
              "      <th>marital</th>\n",
              "      <th>education</th>\n",
              "      <th>default</th>\n",
              "      <th>balance</th>\n",
              "      <th>housing</th>\n",
              "      <th>loan</th>\n",
              "      <th>contact</th>\n",
              "      <th>day</th>\n",
              "      <th>month</th>\n",
              "      <th>duration</th>\n",
              "      <th>campaign</th>\n",
              "      <th>pdays</th>\n",
              "      <th>previous</th>\n",
              "      <th>poutcome</th>\n",
              "      <th>y</th>\n",
              "    </tr>\n",
              "  </thead>\n",
              "  <tbody>\n",
              "    <tr>\n",
              "      <th>0</th>\n",
              "      <td>58</td>\n",
              "      <td>management</td>\n",
              "      <td>married</td>\n",
              "      <td>tertiary</td>\n",
              "      <td>no</td>\n",
              "      <td>2143</td>\n",
              "      <td>yes</td>\n",
              "      <td>no</td>\n",
              "      <td>unknown</td>\n",
              "      <td>5</td>\n",
              "      <td>may</td>\n",
              "      <td>261</td>\n",
              "      <td>1</td>\n",
              "      <td>-1</td>\n",
              "      <td>0</td>\n",
              "      <td>unknown</td>\n",
              "      <td>no</td>\n",
              "    </tr>\n",
              "    <tr>\n",
              "      <th>1</th>\n",
              "      <td>44</td>\n",
              "      <td>technician</td>\n",
              "      <td>single</td>\n",
              "      <td>secondary</td>\n",
              "      <td>no</td>\n",
              "      <td>29</td>\n",
              "      <td>yes</td>\n",
              "      <td>no</td>\n",
              "      <td>unknown</td>\n",
              "      <td>5</td>\n",
              "      <td>may</td>\n",
              "      <td>151</td>\n",
              "      <td>1</td>\n",
              "      <td>-1</td>\n",
              "      <td>0</td>\n",
              "      <td>unknown</td>\n",
              "      <td>no</td>\n",
              "    </tr>\n",
              "    <tr>\n",
              "      <th>2</th>\n",
              "      <td>33</td>\n",
              "      <td>entrepreneur</td>\n",
              "      <td>married</td>\n",
              "      <td>secondary</td>\n",
              "      <td>no</td>\n",
              "      <td>2</td>\n",
              "      <td>yes</td>\n",
              "      <td>yes</td>\n",
              "      <td>unknown</td>\n",
              "      <td>5</td>\n",
              "      <td>may</td>\n",
              "      <td>76</td>\n",
              "      <td>1</td>\n",
              "      <td>-1</td>\n",
              "      <td>0</td>\n",
              "      <td>unknown</td>\n",
              "      <td>no</td>\n",
              "    </tr>\n",
              "    <tr>\n",
              "      <th>3</th>\n",
              "      <td>47</td>\n",
              "      <td>blue-collar</td>\n",
              "      <td>married</td>\n",
              "      <td>unknown</td>\n",
              "      <td>no</td>\n",
              "      <td>1506</td>\n",
              "      <td>yes</td>\n",
              "      <td>no</td>\n",
              "      <td>unknown</td>\n",
              "      <td>5</td>\n",
              "      <td>may</td>\n",
              "      <td>92</td>\n",
              "      <td>1</td>\n",
              "      <td>-1</td>\n",
              "      <td>0</td>\n",
              "      <td>unknown</td>\n",
              "      <td>no</td>\n",
              "    </tr>\n",
              "    <tr>\n",
              "      <th>4</th>\n",
              "      <td>33</td>\n",
              "      <td>unknown</td>\n",
              "      <td>single</td>\n",
              "      <td>unknown</td>\n",
              "      <td>no</td>\n",
              "      <td>1</td>\n",
              "      <td>no</td>\n",
              "      <td>no</td>\n",
              "      <td>unknown</td>\n",
              "      <td>5</td>\n",
              "      <td>may</td>\n",
              "      <td>198</td>\n",
              "      <td>1</td>\n",
              "      <td>-1</td>\n",
              "      <td>0</td>\n",
              "      <td>unknown</td>\n",
              "      <td>no</td>\n",
              "    </tr>\n",
              "  </tbody>\n",
              "</table>\n",
              "</div>"
            ],
            "text/plain": [
              "   age           job  marital  education  ... pdays  previous poutcome   y\n",
              "0   58    management  married   tertiary  ...    -1         0  unknown  no\n",
              "1   44    technician   single  secondary  ...    -1         0  unknown  no\n",
              "2   33  entrepreneur  married  secondary  ...    -1         0  unknown  no\n",
              "3   47   blue-collar  married    unknown  ...    -1         0  unknown  no\n",
              "4   33       unknown   single    unknown  ...    -1         0  unknown  no\n",
              "\n",
              "[5 rows x 17 columns]"
            ]
          },
          "metadata": {
            "tags": []
          },
          "execution_count": 3
        }
      ]
    },
    {
      "cell_type": "code",
      "metadata": {
        "colab": {
          "base_uri": "https://localhost:8080/"
        },
        "id": "EUtrCXnfcEgg",
        "outputId": "ed0268cb-2c44-46cd-b5a3-635a84a00775"
      },
      "source": [
        "data.shape"
      ],
      "execution_count": 4,
      "outputs": [
        {
          "output_type": "execute_result",
          "data": {
            "text/plain": [
              "(45211, 17)"
            ]
          },
          "metadata": {
            "tags": []
          },
          "execution_count": 4
        }
      ]
    },
    {
      "cell_type": "code",
      "metadata": {
        "colab": {
          "base_uri": "https://localhost:8080/"
        },
        "id": "ooYzBeCdgh8V",
        "outputId": "da98ccce-da68-464f-8cbd-798448b83e33"
      },
      "source": [
        "data.isnull().sum()"
      ],
      "execution_count": 5,
      "outputs": [
        {
          "output_type": "execute_result",
          "data": {
            "text/plain": [
              "age          0\n",
              "job          0\n",
              "marital      0\n",
              "education    0\n",
              "default      0\n",
              "balance      0\n",
              "housing      0\n",
              "loan         0\n",
              "contact      0\n",
              "day          0\n",
              "month        0\n",
              "duration     0\n",
              "campaign     0\n",
              "pdays        0\n",
              "previous     0\n",
              "poutcome     0\n",
              "y            0\n",
              "dtype: int64"
            ]
          },
          "metadata": {
            "tags": []
          },
          "execution_count": 5
        }
      ]
    },
    {
      "cell_type": "markdown",
      "metadata": {
        "id": "IsKmey0FBfns"
      },
      "source": [
        "LabelEncoder"
      ]
    },
    {
      "cell_type": "code",
      "metadata": {
        "id": "6WslZVUegrve"
      },
      "source": [
        "from sklearn.preprocessing import LabelEncoder\n",
        "le = LabelEncoder()"
      ],
      "execution_count": 6,
      "outputs": []
    },
    {
      "cell_type": "code",
      "metadata": {
        "colab": {
          "base_uri": "https://localhost:8080/"
        },
        "id": "tlyqWeH4hErP",
        "outputId": "a8c91bff-0038-4c6a-8d2e-be27cc873823"
      },
      "source": [
        "data['job'].unique()"
      ],
      "execution_count": 7,
      "outputs": [
        {
          "output_type": "execute_result",
          "data": {
            "text/plain": [
              "array(['management', 'technician', 'entrepreneur', 'blue-collar',\n",
              "       'unknown', 'retired', 'admin.', 'services', 'self-employed',\n",
              "       'unemployed', 'housemaid', 'student'], dtype=object)"
            ]
          },
          "metadata": {
            "tags": []
          },
          "execution_count": 7
        }
      ]
    },
    {
      "cell_type": "code",
      "metadata": {
        "colab": {
          "base_uri": "https://localhost:8080/"
        },
        "id": "gT3bFcKohE01",
        "outputId": "71761f67-e8e9-4b5e-a40b-d2f9aad831a5"
      },
      "source": [
        "data['marital'].unique()"
      ],
      "execution_count": 8,
      "outputs": [
        {
          "output_type": "execute_result",
          "data": {
            "text/plain": [
              "array(['married', 'single', 'divorced'], dtype=object)"
            ]
          },
          "metadata": {
            "tags": []
          },
          "execution_count": 8
        }
      ]
    },
    {
      "cell_type": "code",
      "metadata": {
        "colab": {
          "base_uri": "https://localhost:8080/"
        },
        "id": "QStCIaIkgsEJ",
        "outputId": "beef446c-634c-4f32-8841-ea8d08b7e966"
      },
      "source": [
        "data['education'].unique()"
      ],
      "execution_count": 9,
      "outputs": [
        {
          "output_type": "execute_result",
          "data": {
            "text/plain": [
              "array(['tertiary', 'secondary', 'unknown', 'primary'], dtype=object)"
            ]
          },
          "metadata": {
            "tags": []
          },
          "execution_count": 9
        }
      ]
    },
    {
      "cell_type": "code",
      "metadata": {
        "colab": {
          "base_uri": "https://localhost:8080/"
        },
        "id": "nm1LxeUr9xkG",
        "outputId": "67127902-6e46-41de-dc3e-7e0776c224c9"
      },
      "source": [
        "data['default'].unique()"
      ],
      "execution_count": 10,
      "outputs": [
        {
          "output_type": "execute_result",
          "data": {
            "text/plain": [
              "array(['no', 'yes'], dtype=object)"
            ]
          },
          "metadata": {
            "tags": []
          },
          "execution_count": 10
        }
      ]
    },
    {
      "cell_type": "code",
      "metadata": {
        "colab": {
          "base_uri": "https://localhost:8080/"
        },
        "id": "LquoKC9l81K7",
        "outputId": "26c50248-d678-4ca7-91d2-36302c8c7608"
      },
      "source": [
        "data['housing'].unique()"
      ],
      "execution_count": 11,
      "outputs": [
        {
          "output_type": "execute_result",
          "data": {
            "text/plain": [
              "array(['yes', 'no'], dtype=object)"
            ]
          },
          "metadata": {
            "tags": []
          },
          "execution_count": 11
        }
      ]
    },
    {
      "cell_type": "code",
      "metadata": {
        "colab": {
          "base_uri": "https://localhost:8080/"
        },
        "id": "3V0RBsib9LOZ",
        "outputId": "17a5b9f9-f8f6-40ef-db76-8ee109db74d7"
      },
      "source": [
        "data['loan'].unique()"
      ],
      "execution_count": 12,
      "outputs": [
        {
          "output_type": "execute_result",
          "data": {
            "text/plain": [
              "array(['no', 'yes'], dtype=object)"
            ]
          },
          "metadata": {
            "tags": []
          },
          "execution_count": 12
        }
      ]
    },
    {
      "cell_type": "code",
      "metadata": {
        "colab": {
          "base_uri": "https://localhost:8080/"
        },
        "id": "3j8DE6xjhEXe",
        "outputId": "6fb88a5c-a463-44bb-c255-14689ceb4882"
      },
      "source": [
        "data['contact'].unique()"
      ],
      "execution_count": 13,
      "outputs": [
        {
          "output_type": "execute_result",
          "data": {
            "text/plain": [
              "array(['unknown', 'cellular', 'telephone'], dtype=object)"
            ]
          },
          "metadata": {
            "tags": []
          },
          "execution_count": 13
        }
      ]
    },
    {
      "cell_type": "code",
      "metadata": {
        "colab": {
          "base_uri": "https://localhost:8080/"
        },
        "id": "3QifwsvF9Ey-",
        "outputId": "660f9d77-993d-4eb8-b9cc-43b885d31e0f"
      },
      "source": [
        "data['month'].unique()"
      ],
      "execution_count": 14,
      "outputs": [
        {
          "output_type": "execute_result",
          "data": {
            "text/plain": [
              "array(['may', 'jun', 'jul', 'aug', 'oct', 'nov', 'dec', 'jan', 'feb',\n",
              "       'mar', 'apr', 'sep'], dtype=object)"
            ]
          },
          "metadata": {
            "tags": []
          },
          "execution_count": 14
        }
      ]
    },
    {
      "cell_type": "code",
      "metadata": {
        "colab": {
          "base_uri": "https://localhost:8080/"
        },
        "id": "-Iq2kLL588Zd",
        "outputId": "38f54ae3-02d0-49a4-becc-95dfe5bc396a"
      },
      "source": [
        "data['poutcome'].unique()"
      ],
      "execution_count": 15,
      "outputs": [
        {
          "output_type": "execute_result",
          "data": {
            "text/plain": [
              "array(['unknown', 'failure', 'other', 'success'], dtype=object)"
            ]
          },
          "metadata": {
            "tags": []
          },
          "execution_count": 15
        }
      ]
    },
    {
      "cell_type": "code",
      "metadata": {
        "colab": {
          "base_uri": "https://localhost:8080/"
        },
        "id": "8Ra8nZRX9j7u",
        "outputId": "549b7313-01af-4a72-ec4a-360fd0d31c08"
      },
      "source": [
        "data['y'].unique()"
      ],
      "execution_count": 16,
      "outputs": [
        {
          "output_type": "execute_result",
          "data": {
            "text/plain": [
              "array(['no', 'yes'], dtype=object)"
            ]
          },
          "metadata": {
            "tags": []
          },
          "execution_count": 16
        }
      ]
    },
    {
      "cell_type": "code",
      "metadata": {
        "colab": {
          "base_uri": "https://localhost:8080/",
          "height": 415
        },
        "id": "a7mx3mHMh5XQ",
        "outputId": "1f2847ea-254f-47ec-a996-913af298974b"
      },
      "source": [
        "data['job'] = le.fit_transform(data['job'])\n",
        "data['marital'] = le.fit_transform(data['marital'])\n",
        "data['education'] = le.fit_transform(data['education'])\n",
        "data['default'] = le.fit_transform(data['default'])\n",
        "data['housing'] = le.fit_transform(data['housing'])\n",
        "data['loan'] = le.fit_transform(data['loan'])\n",
        "data['contact'] = le.fit_transform(data['contact'])\n",
        "data['month'] = le.fit_transform(data['month'])\n",
        "data['poutcome'] = le.fit_transform(data['poutcome'])\n",
        "data['y'] = le.fit_transform(data['y'])\n",
        "data"
      ],
      "execution_count": 17,
      "outputs": [
        {
          "output_type": "execute_result",
          "data": {
            "text/html": [
              "<div>\n",
              "<style scoped>\n",
              "    .dataframe tbody tr th:only-of-type {\n",
              "        vertical-align: middle;\n",
              "    }\n",
              "\n",
              "    .dataframe tbody tr th {\n",
              "        vertical-align: top;\n",
              "    }\n",
              "\n",
              "    .dataframe thead th {\n",
              "        text-align: right;\n",
              "    }\n",
              "</style>\n",
              "<table border=\"1\" class=\"dataframe\">\n",
              "  <thead>\n",
              "    <tr style=\"text-align: right;\">\n",
              "      <th></th>\n",
              "      <th>age</th>\n",
              "      <th>job</th>\n",
              "      <th>marital</th>\n",
              "      <th>education</th>\n",
              "      <th>default</th>\n",
              "      <th>balance</th>\n",
              "      <th>housing</th>\n",
              "      <th>loan</th>\n",
              "      <th>contact</th>\n",
              "      <th>day</th>\n",
              "      <th>month</th>\n",
              "      <th>duration</th>\n",
              "      <th>campaign</th>\n",
              "      <th>pdays</th>\n",
              "      <th>previous</th>\n",
              "      <th>poutcome</th>\n",
              "      <th>y</th>\n",
              "    </tr>\n",
              "  </thead>\n",
              "  <tbody>\n",
              "    <tr>\n",
              "      <th>0</th>\n",
              "      <td>58</td>\n",
              "      <td>4</td>\n",
              "      <td>1</td>\n",
              "      <td>2</td>\n",
              "      <td>0</td>\n",
              "      <td>2143</td>\n",
              "      <td>1</td>\n",
              "      <td>0</td>\n",
              "      <td>2</td>\n",
              "      <td>5</td>\n",
              "      <td>8</td>\n",
              "      <td>261</td>\n",
              "      <td>1</td>\n",
              "      <td>-1</td>\n",
              "      <td>0</td>\n",
              "      <td>3</td>\n",
              "      <td>0</td>\n",
              "    </tr>\n",
              "    <tr>\n",
              "      <th>1</th>\n",
              "      <td>44</td>\n",
              "      <td>9</td>\n",
              "      <td>2</td>\n",
              "      <td>1</td>\n",
              "      <td>0</td>\n",
              "      <td>29</td>\n",
              "      <td>1</td>\n",
              "      <td>0</td>\n",
              "      <td>2</td>\n",
              "      <td>5</td>\n",
              "      <td>8</td>\n",
              "      <td>151</td>\n",
              "      <td>1</td>\n",
              "      <td>-1</td>\n",
              "      <td>0</td>\n",
              "      <td>3</td>\n",
              "      <td>0</td>\n",
              "    </tr>\n",
              "    <tr>\n",
              "      <th>2</th>\n",
              "      <td>33</td>\n",
              "      <td>2</td>\n",
              "      <td>1</td>\n",
              "      <td>1</td>\n",
              "      <td>0</td>\n",
              "      <td>2</td>\n",
              "      <td>1</td>\n",
              "      <td>1</td>\n",
              "      <td>2</td>\n",
              "      <td>5</td>\n",
              "      <td>8</td>\n",
              "      <td>76</td>\n",
              "      <td>1</td>\n",
              "      <td>-1</td>\n",
              "      <td>0</td>\n",
              "      <td>3</td>\n",
              "      <td>0</td>\n",
              "    </tr>\n",
              "    <tr>\n",
              "      <th>3</th>\n",
              "      <td>47</td>\n",
              "      <td>1</td>\n",
              "      <td>1</td>\n",
              "      <td>3</td>\n",
              "      <td>0</td>\n",
              "      <td>1506</td>\n",
              "      <td>1</td>\n",
              "      <td>0</td>\n",
              "      <td>2</td>\n",
              "      <td>5</td>\n",
              "      <td>8</td>\n",
              "      <td>92</td>\n",
              "      <td>1</td>\n",
              "      <td>-1</td>\n",
              "      <td>0</td>\n",
              "      <td>3</td>\n",
              "      <td>0</td>\n",
              "    </tr>\n",
              "    <tr>\n",
              "      <th>4</th>\n",
              "      <td>33</td>\n",
              "      <td>11</td>\n",
              "      <td>2</td>\n",
              "      <td>3</td>\n",
              "      <td>0</td>\n",
              "      <td>1</td>\n",
              "      <td>0</td>\n",
              "      <td>0</td>\n",
              "      <td>2</td>\n",
              "      <td>5</td>\n",
              "      <td>8</td>\n",
              "      <td>198</td>\n",
              "      <td>1</td>\n",
              "      <td>-1</td>\n",
              "      <td>0</td>\n",
              "      <td>3</td>\n",
              "      <td>0</td>\n",
              "    </tr>\n",
              "    <tr>\n",
              "      <th>...</th>\n",
              "      <td>...</td>\n",
              "      <td>...</td>\n",
              "      <td>...</td>\n",
              "      <td>...</td>\n",
              "      <td>...</td>\n",
              "      <td>...</td>\n",
              "      <td>...</td>\n",
              "      <td>...</td>\n",
              "      <td>...</td>\n",
              "      <td>...</td>\n",
              "      <td>...</td>\n",
              "      <td>...</td>\n",
              "      <td>...</td>\n",
              "      <td>...</td>\n",
              "      <td>...</td>\n",
              "      <td>...</td>\n",
              "      <td>...</td>\n",
              "    </tr>\n",
              "    <tr>\n",
              "      <th>45206</th>\n",
              "      <td>51</td>\n",
              "      <td>9</td>\n",
              "      <td>1</td>\n",
              "      <td>2</td>\n",
              "      <td>0</td>\n",
              "      <td>825</td>\n",
              "      <td>0</td>\n",
              "      <td>0</td>\n",
              "      <td>0</td>\n",
              "      <td>17</td>\n",
              "      <td>9</td>\n",
              "      <td>977</td>\n",
              "      <td>3</td>\n",
              "      <td>-1</td>\n",
              "      <td>0</td>\n",
              "      <td>3</td>\n",
              "      <td>1</td>\n",
              "    </tr>\n",
              "    <tr>\n",
              "      <th>45207</th>\n",
              "      <td>71</td>\n",
              "      <td>5</td>\n",
              "      <td>0</td>\n",
              "      <td>0</td>\n",
              "      <td>0</td>\n",
              "      <td>1729</td>\n",
              "      <td>0</td>\n",
              "      <td>0</td>\n",
              "      <td>0</td>\n",
              "      <td>17</td>\n",
              "      <td>9</td>\n",
              "      <td>456</td>\n",
              "      <td>2</td>\n",
              "      <td>-1</td>\n",
              "      <td>0</td>\n",
              "      <td>3</td>\n",
              "      <td>1</td>\n",
              "    </tr>\n",
              "    <tr>\n",
              "      <th>45208</th>\n",
              "      <td>72</td>\n",
              "      <td>5</td>\n",
              "      <td>1</td>\n",
              "      <td>1</td>\n",
              "      <td>0</td>\n",
              "      <td>5715</td>\n",
              "      <td>0</td>\n",
              "      <td>0</td>\n",
              "      <td>0</td>\n",
              "      <td>17</td>\n",
              "      <td>9</td>\n",
              "      <td>1127</td>\n",
              "      <td>5</td>\n",
              "      <td>184</td>\n",
              "      <td>3</td>\n",
              "      <td>2</td>\n",
              "      <td>1</td>\n",
              "    </tr>\n",
              "    <tr>\n",
              "      <th>45209</th>\n",
              "      <td>57</td>\n",
              "      <td>1</td>\n",
              "      <td>1</td>\n",
              "      <td>1</td>\n",
              "      <td>0</td>\n",
              "      <td>668</td>\n",
              "      <td>0</td>\n",
              "      <td>0</td>\n",
              "      <td>1</td>\n",
              "      <td>17</td>\n",
              "      <td>9</td>\n",
              "      <td>508</td>\n",
              "      <td>4</td>\n",
              "      <td>-1</td>\n",
              "      <td>0</td>\n",
              "      <td>3</td>\n",
              "      <td>0</td>\n",
              "    </tr>\n",
              "    <tr>\n",
              "      <th>45210</th>\n",
              "      <td>37</td>\n",
              "      <td>2</td>\n",
              "      <td>1</td>\n",
              "      <td>1</td>\n",
              "      <td>0</td>\n",
              "      <td>2971</td>\n",
              "      <td>0</td>\n",
              "      <td>0</td>\n",
              "      <td>0</td>\n",
              "      <td>17</td>\n",
              "      <td>9</td>\n",
              "      <td>361</td>\n",
              "      <td>2</td>\n",
              "      <td>188</td>\n",
              "      <td>11</td>\n",
              "      <td>1</td>\n",
              "      <td>0</td>\n",
              "    </tr>\n",
              "  </tbody>\n",
              "</table>\n",
              "<p>45211 rows × 17 columns</p>\n",
              "</div>"
            ],
            "text/plain": [
              "       age  job  marital  education  ...  pdays  previous  poutcome  y\n",
              "0       58    4        1          2  ...     -1         0         3  0\n",
              "1       44    9        2          1  ...     -1         0         3  0\n",
              "2       33    2        1          1  ...     -1         0         3  0\n",
              "3       47    1        1          3  ...     -1         0         3  0\n",
              "4       33   11        2          3  ...     -1         0         3  0\n",
              "...    ...  ...      ...        ...  ...    ...       ...       ... ..\n",
              "45206   51    9        1          2  ...     -1         0         3  1\n",
              "45207   71    5        0          0  ...     -1         0         3  1\n",
              "45208   72    5        1          1  ...    184         3         2  1\n",
              "45209   57    1        1          1  ...     -1         0         3  0\n",
              "45210   37    2        1          1  ...    188        11         1  0\n",
              "\n",
              "[45211 rows x 17 columns]"
            ]
          },
          "metadata": {
            "tags": []
          },
          "execution_count": 17
        }
      ]
    },
    {
      "cell_type": "code",
      "metadata": {
        "id": "O0AEq14ItYUt"
      },
      "source": [
        "X = data[['age','job','education','default','balance','housing','loan','contact','day','month','duration','campaign','pdays','previous','poutcome']]\n",
        "Y = data['y'].values"
      ],
      "execution_count": 18,
      "outputs": []
    },
    {
      "cell_type": "code",
      "metadata": {
        "id": "e_RKPz0PscoZ"
      },
      "source": [
        "from sklearn.preprocessing import StandardScaler\n",
        "ss = StandardScaler()"
      ],
      "execution_count": 19,
      "outputs": []
    },
    {
      "cell_type": "code",
      "metadata": {
        "colab": {
          "base_uri": "https://localhost:8080/"
        },
        "id": "HEdi11Pksv_Y",
        "outputId": "a1c48210-da42-413b-efad-3241b6fd1d8d"
      },
      "source": [
        "X_scaled = ss.fit_transform(X)\n",
        "X_scaled"
      ],
      "execution_count": 20,
      "outputs": [
        {
          "output_type": "execute_result",
          "data": {
            "text/plain": [
              "array([[ 1.60696496, -0.10381968,  1.03636182, ..., -0.41145311,\n",
              "        -0.25194037,  0.44489814],\n",
              "       [ 0.28852927,  1.42400783, -0.30055587, ..., -0.41145311,\n",
              "        -0.25194037,  0.44489814],\n",
              "       [-0.74738448, -0.71495069, -0.30055587, ..., -0.41145311,\n",
              "        -0.25194037,  0.44489814],\n",
              "       ...,\n",
              "       [ 2.92540065,  0.20174582, -0.30055587, ...,  1.43618859,\n",
              "         1.05047333, -0.56617504],\n",
              "       [ 1.51279098, -1.02051619, -0.30055587, ..., -0.41145311,\n",
              "        -0.25194037,  0.44489814],\n",
              "       [-0.37068857, -0.71495069, -0.30055587, ...,  1.4761376 ,\n",
              "         4.52357654, -1.57724822]])"
            ]
          },
          "metadata": {
            "tags": []
          },
          "execution_count": 20
        }
      ]
    },
    {
      "cell_type": "code",
      "metadata": {
        "id": "t5BInoag8ETI"
      },
      "source": [
        "from sklearn.model_selection import train_test_split\n",
        "from sklearn.decomposition import PCA"
      ],
      "execution_count": 21,
      "outputs": []
    },
    {
      "cell_type": "code",
      "metadata": {
        "id": "DXuCyxPQi5MN"
      },
      "source": [
        "pca = PCA(n_components=12)\n",
        "pca.fit(X_scaled)\n",
        "X_scaled = pca.fit_transform(X_scaled)"
      ],
      "execution_count": 22,
      "outputs": []
    },
    {
      "cell_type": "code",
      "metadata": {
        "id": "eNaPloeUuLdG"
      },
      "source": [
        "X_train,X_test,Y_train,Y_test = train_test_split(X_scaled,Y,test_size=0.2,random_state=1234)"
      ],
      "execution_count": 23,
      "outputs": []
    },
    {
      "cell_type": "markdown",
      "metadata": {
        "id": "PxLkeY6a3SsF"
      },
      "source": [
        "LogisticRegression"
      ]
    },
    {
      "cell_type": "code",
      "metadata": {
        "id": "vsmCz3iT2s-P"
      },
      "source": [
        "from sklearn.linear_model import LogisticRegression\n",
        "lr = LogisticRegression()"
      ],
      "execution_count": 24,
      "outputs": []
    },
    {
      "cell_type": "code",
      "metadata": {
        "colab": {
          "base_uri": "https://localhost:8080/"
        },
        "id": "amNoad9Q3EUU",
        "outputId": "68ccbf8a-900f-4005-fd54-c45b34027fd5"
      },
      "source": [
        "lr.fit(X_train,Y_train)\n",
        "lr.score(X_test,Y_test)"
      ],
      "execution_count": 25,
      "outputs": [
        {
          "output_type": "execute_result",
          "data": {
            "text/plain": [
              "0.8937299568727193"
            ]
          },
          "metadata": {
            "tags": []
          },
          "execution_count": 25
        }
      ]
    },
    {
      "cell_type": "markdown",
      "metadata": {
        "id": "Mc7vBKBgU8fx"
      },
      "source": [
        "Linear SVM"
      ]
    },
    {
      "cell_type": "code",
      "metadata": {
        "id": "ZN7gi1SOja2l"
      },
      "source": [
        "from sklearn.model_selection import cross_val_score\n",
        "from sklearn.svm import SVC"
      ],
      "execution_count": 26,
      "outputs": []
    },
    {
      "cell_type": "code",
      "metadata": {
        "colab": {
          "base_uri": "https://localhost:8080/"
        },
        "id": "SJmZkkz85F03",
        "outputId": "5a5b7b7c-ff22-420d-9a1a-d534d1db30be"
      },
      "source": [
        "svc = SVC(kernel='linear')\n",
        "cross_val_score(svc,X_test,Y_test,scoring='accuracy',cv=10).mean()"
      ],
      "execution_count": 27,
      "outputs": [
        {
          "output_type": "execute_result",
          "data": {
            "text/plain": [
              "0.8841094216007432"
            ]
          },
          "metadata": {
            "tags": []
          },
          "execution_count": 27
        }
      ]
    },
    {
      "cell_type": "markdown",
      "metadata": {
        "id": "wDAs58iL5Z2u"
      },
      "source": [
        "Non-linear SVM"
      ]
    },
    {
      "cell_type": "code",
      "metadata": {
        "colab": {
          "base_uri": "https://localhost:8080/"
        },
        "id": "c3oFJF7jqoOK",
        "outputId": "6d421e0c-3912-4118-cb5b-53d8f8d9d95f"
      },
      "source": [
        "svc = SVC(kernel='rbf')\n",
        "cross_val_score(svc,X_test,Y_test,scoring='accuracy',cv=10).mean()"
      ],
      "execution_count": 28,
      "outputs": [
        {
          "output_type": "execute_result",
          "data": {
            "text/plain": [
              "0.8921812203588715"
            ]
          },
          "metadata": {
            "tags": []
          },
          "execution_count": 28
        }
      ]
    },
    {
      "cell_type": "markdown",
      "metadata": {
        "id": "AsYDt8q5Jm5h"
      },
      "source": [
        "MLNN"
      ]
    },
    {
      "cell_type": "code",
      "metadata": {
        "id": "-NrN54apInxR"
      },
      "source": [
        "from tensorflow.keras import Sequential \n",
        "from tensorflow.keras.layers import Dense"
      ],
      "execution_count": 29,
      "outputs": []
    },
    {
      "cell_type": "code",
      "metadata": {
        "id": "lEF5bMNgKVbt"
      },
      "source": [
        "model = Sequential() \n",
        "model.add(Dense(50,activation='tanh',input_shape=(12,)))\n",
        "model.add(Dense(30,activation='sigmoid'))\n",
        "model.add(Dense(1,activation='sigmoid'))\n",
        "model.compile(optimizer='adam',loss='binary_crossentropy',metrics=['accuracy'])"
      ],
      "execution_count": 30,
      "outputs": []
    },
    {
      "cell_type": "code",
      "metadata": {
        "colab": {
          "base_uri": "https://localhost:8080/"
        },
        "id": "ro31k_zuLH08",
        "outputId": "02062077-a586-475e-f976-0e7526c8b927"
      },
      "source": [
        "model.summary()"
      ],
      "execution_count": 31,
      "outputs": [
        {
          "output_type": "stream",
          "text": [
            "Model: \"sequential\"\n",
            "_________________________________________________________________\n",
            "Layer (type)                 Output Shape              Param #   \n",
            "=================================================================\n",
            "dense (Dense)                (None, 50)                650       \n",
            "_________________________________________________________________\n",
            "dense_1 (Dense)              (None, 30)                1530      \n",
            "_________________________________________________________________\n",
            "dense_2 (Dense)              (None, 1)                 31        \n",
            "=================================================================\n",
            "Total params: 2,211\n",
            "Trainable params: 2,211\n",
            "Non-trainable params: 0\n",
            "_________________________________________________________________\n"
          ],
          "name": "stdout"
        }
      ]
    },
    {
      "cell_type": "code",
      "metadata": {
        "colab": {
          "base_uri": "https://localhost:8080/"
        },
        "id": "xj747MkiLPx2",
        "outputId": "5bf285a9-f867-4adc-aaca-78cde6edc14e"
      },
      "source": [
        "model.fit(X_train,Y_train,epochs=50,batch_size=12)"
      ],
      "execution_count": 32,
      "outputs": [
        {
          "output_type": "stream",
          "text": [
            "Epoch 1/50\n",
            "3014/3014 [==============================] - 3s 1ms/step - loss: 0.2679 - accuracy: 0.8873\n",
            "Epoch 2/50\n",
            "3014/3014 [==============================] - 3s 995us/step - loss: 0.2485 - accuracy: 0.8928\n",
            "Epoch 3/50\n",
            "3014/3014 [==============================] - 3s 1ms/step - loss: 0.2430 - accuracy: 0.8956\n",
            "Epoch 4/50\n",
            "3014/3014 [==============================] - 3s 1ms/step - loss: 0.2396 - accuracy: 0.8963\n",
            "Epoch 5/50\n",
            "3014/3014 [==============================] - 3s 1ms/step - loss: 0.2373 - accuracy: 0.8969\n",
            "Epoch 6/50\n",
            "3014/3014 [==============================] - 3s 1ms/step - loss: 0.2352 - accuracy: 0.8978\n",
            "Epoch 7/50\n",
            "3014/3014 [==============================] - 3s 1ms/step - loss: 0.2333 - accuracy: 0.8982\n",
            "Epoch 8/50\n",
            "3014/3014 [==============================] - 3s 992us/step - loss: 0.2316 - accuracy: 0.8983\n",
            "Epoch 9/50\n",
            "3014/3014 [==============================] - 3s 999us/step - loss: 0.2307 - accuracy: 0.8983\n",
            "Epoch 10/50\n",
            "3014/3014 [==============================] - 3s 981us/step - loss: 0.2293 - accuracy: 0.8994\n",
            "Epoch 11/50\n",
            "3014/3014 [==============================] - 3s 998us/step - loss: 0.2280 - accuracy: 0.8992\n",
            "Epoch 12/50\n",
            "3014/3014 [==============================] - 3s 997us/step - loss: 0.2271 - accuracy: 0.8996\n",
            "Epoch 13/50\n",
            "3014/3014 [==============================] - 3s 988us/step - loss: 0.2262 - accuracy: 0.8995\n",
            "Epoch 14/50\n",
            "3014/3014 [==============================] - 3s 988us/step - loss: 0.2253 - accuracy: 0.9003\n",
            "Epoch 15/50\n",
            "3014/3014 [==============================] - 3s 992us/step - loss: 0.2247 - accuracy: 0.9006\n",
            "Epoch 16/50\n",
            "3014/3014 [==============================] - 3s 987us/step - loss: 0.2237 - accuracy: 0.9006\n",
            "Epoch 17/50\n",
            "3014/3014 [==============================] - 3s 996us/step - loss: 0.2235 - accuracy: 0.9008\n",
            "Epoch 18/50\n",
            "3014/3014 [==============================] - 3s 1ms/step - loss: 0.2226 - accuracy: 0.9012\n",
            "Epoch 19/50\n",
            "3014/3014 [==============================] - 3s 1ms/step - loss: 0.2219 - accuracy: 0.9017\n",
            "Epoch 20/50\n",
            "3014/3014 [==============================] - 3s 983us/step - loss: 0.2211 - accuracy: 0.9018\n",
            "Epoch 21/50\n",
            "3014/3014 [==============================] - 3s 979us/step - loss: 0.2203 - accuracy: 0.9022\n",
            "Epoch 22/50\n",
            "3014/3014 [==============================] - 3s 999us/step - loss: 0.2198 - accuracy: 0.9018\n",
            "Epoch 23/50\n",
            "3014/3014 [==============================] - 3s 987us/step - loss: 0.2191 - accuracy: 0.9018\n",
            "Epoch 24/50\n",
            "3014/3014 [==============================] - 3s 994us/step - loss: 0.2185 - accuracy: 0.9028\n",
            "Epoch 25/50\n",
            "3014/3014 [==============================] - 3s 996us/step - loss: 0.2175 - accuracy: 0.9036\n",
            "Epoch 26/50\n",
            "3014/3014 [==============================] - 3s 993us/step - loss: 0.2171 - accuracy: 0.9028\n",
            "Epoch 27/50\n",
            "3014/3014 [==============================] - 3s 1ms/step - loss: 0.2165 - accuracy: 0.9032\n",
            "Epoch 28/50\n",
            "3014/3014 [==============================] - 3s 999us/step - loss: 0.2160 - accuracy: 0.9030\n",
            "Epoch 29/50\n",
            "3014/3014 [==============================] - 3s 989us/step - loss: 0.2148 - accuracy: 0.9031\n",
            "Epoch 30/50\n",
            "3014/3014 [==============================] - 3s 980us/step - loss: 0.2144 - accuracy: 0.9042\n",
            "Epoch 31/50\n",
            "3014/3014 [==============================] - 3s 1ms/step - loss: 0.2139 - accuracy: 0.9039\n",
            "Epoch 32/50\n",
            "3014/3014 [==============================] - 3s 1ms/step - loss: 0.2133 - accuracy: 0.9050\n",
            "Epoch 33/50\n",
            "3014/3014 [==============================] - 3s 1000us/step - loss: 0.2124 - accuracy: 0.9045\n",
            "Epoch 34/50\n",
            "3014/3014 [==============================] - 3s 999us/step - loss: 0.2118 - accuracy: 0.9039\n",
            "Epoch 35/50\n",
            "3014/3014 [==============================] - 3s 1ms/step - loss: 0.2111 - accuracy: 0.9051\n",
            "Epoch 36/50\n",
            "3014/3014 [==============================] - 3s 1ms/step - loss: 0.2109 - accuracy: 0.9049\n",
            "Epoch 37/50\n",
            "3014/3014 [==============================] - 3s 1ms/step - loss: 0.2104 - accuracy: 0.9056\n",
            "Epoch 38/50\n",
            "3014/3014 [==============================] - 3s 994us/step - loss: 0.2097 - accuracy: 0.9060\n",
            "Epoch 39/50\n",
            "3014/3014 [==============================] - 3s 1ms/step - loss: 0.2088 - accuracy: 0.9060\n",
            "Epoch 40/50\n",
            "3014/3014 [==============================] - 3s 985us/step - loss: 0.2088 - accuracy: 0.9055\n",
            "Epoch 41/50\n",
            "3014/3014 [==============================] - 3s 995us/step - loss: 0.2076 - accuracy: 0.9069\n",
            "Epoch 42/50\n",
            "3014/3014 [==============================] - 3s 997us/step - loss: 0.2076 - accuracy: 0.9063\n",
            "Epoch 43/50\n",
            "3014/3014 [==============================] - 3s 994us/step - loss: 0.2066 - accuracy: 0.9073\n",
            "Epoch 44/50\n",
            "3014/3014 [==============================] - 3s 995us/step - loss: 0.2065 - accuracy: 0.9086\n",
            "Epoch 45/50\n",
            "3014/3014 [==============================] - 3s 995us/step - loss: 0.2057 - accuracy: 0.9080\n",
            "Epoch 46/50\n",
            "3014/3014 [==============================] - 3s 983us/step - loss: 0.2055 - accuracy: 0.9078\n",
            "Epoch 47/50\n",
            "3014/3014 [==============================] - 3s 1000us/step - loss: 0.2044 - accuracy: 0.9086\n",
            "Epoch 48/50\n",
            "3014/3014 [==============================] - 3s 997us/step - loss: 0.2046 - accuracy: 0.9078\n",
            "Epoch 49/50\n",
            "3014/3014 [==============================] - 3s 999us/step - loss: 0.2038 - accuracy: 0.9082\n",
            "Epoch 50/50\n",
            "3014/3014 [==============================] - 3s 1000us/step - loss: 0.2033 - accuracy: 0.9084\n"
          ],
          "name": "stdout"
        },
        {
          "output_type": "execute_result",
          "data": {
            "text/plain": [
              "<tensorflow.python.keras.callbacks.History at 0x7fd96369bfd0>"
            ]
          },
          "metadata": {
            "tags": []
          },
          "execution_count": 32
        }
      ]
    },
    {
      "cell_type": "code",
      "metadata": {
        "colab": {
          "base_uri": "https://localhost:8080/"
        },
        "id": "4j1cr8FMN5RG",
        "outputId": "4b8deff9-63ea-49c1-c99a-a46f8aa41f3b"
      },
      "source": [
        "test_los,test_acc = model.evaluate(X_test, Y_test)"
      ],
      "execution_count": 33,
      "outputs": [
        {
          "output_type": "stream",
          "text": [
            "283/283 [==============================] - 0s 790us/step - loss: 0.2368 - accuracy: 0.8954\n"
          ],
          "name": "stdout"
        }
      ]
    },
    {
      "cell_type": "markdown",
      "metadata": {
        "id": "w7AV0XafdVGN"
      },
      "source": [
        "Logistic Regression with MLNN"
      ]
    },
    {
      "cell_type": "code",
      "metadata": {
        "id": "LdgEdZfhdU4n"
      },
      "source": [
        "model1 = Sequential() \n",
        "model1.add(Dense(1,activation='sigmoid'))\n",
        "model1.compile(optimizer='adam',loss='binary_crossentropy',metrics=['accuracy'])"
      ],
      "execution_count": 34,
      "outputs": []
    },
    {
      "cell_type": "code",
      "metadata": {
        "colab": {
          "base_uri": "https://localhost:8080/"
        },
        "id": "92BnanyNev8N",
        "outputId": "03d3af50-0bd6-4dd2-b384-281303a9a896"
      },
      "source": [
        "model1.fit(X_train,Y_train,epochs=50,batch_size=12)"
      ],
      "execution_count": 35,
      "outputs": [
        {
          "output_type": "stream",
          "text": [
            "Epoch 1/50\n",
            "3014/3014 [==============================] - 2s 777us/step - loss: 0.4260 - accuracy: 0.8303\n",
            "Epoch 2/50\n",
            "3014/3014 [==============================] - 2s 774us/step - loss: 0.2822 - accuracy: 0.8885\n",
            "Epoch 3/50\n",
            "3014/3014 [==============================] - 2s 770us/step - loss: 0.2757 - accuracy: 0.8887\n",
            "Epoch 4/50\n",
            "3014/3014 [==============================] - 2s 767us/step - loss: 0.2749 - accuracy: 0.8888\n",
            "Epoch 5/50\n",
            "3014/3014 [==============================] - 2s 780us/step - loss: 0.2748 - accuracy: 0.8889\n",
            "Epoch 6/50\n",
            "3014/3014 [==============================] - 2s 794us/step - loss: 0.2746 - accuracy: 0.8887\n",
            "Epoch 7/50\n",
            "3014/3014 [==============================] - 2s 767us/step - loss: 0.2748 - accuracy: 0.8887\n",
            "Epoch 8/50\n",
            "3014/3014 [==============================] - 2s 785us/step - loss: 0.2748 - accuracy: 0.8889\n",
            "Epoch 9/50\n",
            "3014/3014 [==============================] - 2s 769us/step - loss: 0.2748 - accuracy: 0.8888\n",
            "Epoch 10/50\n",
            "3014/3014 [==============================] - 2s 769us/step - loss: 0.2748 - accuracy: 0.8892\n",
            "Epoch 11/50\n",
            "3014/3014 [==============================] - 2s 778us/step - loss: 0.2747 - accuracy: 0.8888\n",
            "Epoch 12/50\n",
            "3014/3014 [==============================] - 2s 780us/step - loss: 0.2747 - accuracy: 0.8889\n",
            "Epoch 13/50\n",
            "3014/3014 [==============================] - 2s 766us/step - loss: 0.2748 - accuracy: 0.8888\n",
            "Epoch 14/50\n",
            "3014/3014 [==============================] - 2s 778us/step - loss: 0.2748 - accuracy: 0.8888\n",
            "Epoch 15/50\n",
            "3014/3014 [==============================] - 2s 782us/step - loss: 0.2748 - accuracy: 0.8890\n",
            "Epoch 16/50\n",
            "3014/3014 [==============================] - 2s 774us/step - loss: 0.2747 - accuracy: 0.8889\n",
            "Epoch 17/50\n",
            "3014/3014 [==============================] - 2s 778us/step - loss: 0.2748 - accuracy: 0.8891\n",
            "Epoch 18/50\n",
            "3014/3014 [==============================] - 2s 780us/step - loss: 0.2748 - accuracy: 0.8892\n",
            "Epoch 19/50\n",
            "3014/3014 [==============================] - 2s 775us/step - loss: 0.2748 - accuracy: 0.8888\n",
            "Epoch 20/50\n",
            "3014/3014 [==============================] - 2s 774us/step - loss: 0.2748 - accuracy: 0.8888\n",
            "Epoch 21/50\n",
            "3014/3014 [==============================] - 2s 780us/step - loss: 0.2748 - accuracy: 0.8891\n",
            "Epoch 22/50\n",
            "3014/3014 [==============================] - 2s 772us/step - loss: 0.2748 - accuracy: 0.8889\n",
            "Epoch 23/50\n",
            "3014/3014 [==============================] - 2s 777us/step - loss: 0.2747 - accuracy: 0.8884\n",
            "Epoch 24/50\n",
            "3014/3014 [==============================] - 2s 784us/step - loss: 0.2748 - accuracy: 0.8892\n",
            "Epoch 25/50\n",
            "3014/3014 [==============================] - 2s 779us/step - loss: 0.2747 - accuracy: 0.8890\n",
            "Epoch 26/50\n",
            "3014/3014 [==============================] - 2s 785us/step - loss: 0.2747 - accuracy: 0.8885\n",
            "Epoch 27/50\n",
            "3014/3014 [==============================] - 2s 792us/step - loss: 0.2747 - accuracy: 0.8886\n",
            "Epoch 28/50\n",
            "3014/3014 [==============================] - 2s 783us/step - loss: 0.2748 - accuracy: 0.8886\n",
            "Epoch 29/50\n",
            "3014/3014 [==============================] - 2s 782us/step - loss: 0.2747 - accuracy: 0.8884\n",
            "Epoch 30/50\n",
            "3014/3014 [==============================] - 2s 779us/step - loss: 0.2748 - accuracy: 0.8887\n",
            "Epoch 31/50\n",
            "3014/3014 [==============================] - 2s 786us/step - loss: 0.2747 - accuracy: 0.8889\n",
            "Epoch 32/50\n",
            "3014/3014 [==============================] - 2s 773us/step - loss: 0.2748 - accuracy: 0.8889\n",
            "Epoch 33/50\n",
            "3014/3014 [==============================] - 2s 778us/step - loss: 0.2748 - accuracy: 0.8890\n",
            "Epoch 34/50\n",
            "3014/3014 [==============================] - 2s 775us/step - loss: 0.2747 - accuracy: 0.8887\n",
            "Epoch 35/50\n",
            "3014/3014 [==============================] - 2s 776us/step - loss: 0.2747 - accuracy: 0.8885\n",
            "Epoch 36/50\n",
            "3014/3014 [==============================] - 2s 777us/step - loss: 0.2747 - accuracy: 0.8892\n",
            "Epoch 37/50\n",
            "3014/3014 [==============================] - 2s 781us/step - loss: 0.2747 - accuracy: 0.8886\n",
            "Epoch 38/50\n",
            "3014/3014 [==============================] - 2s 778us/step - loss: 0.2748 - accuracy: 0.8887\n",
            "Epoch 39/50\n",
            "3014/3014 [==============================] - 2s 777us/step - loss: 0.2748 - accuracy: 0.8890\n",
            "Epoch 40/50\n",
            "3014/3014 [==============================] - 2s 782us/step - loss: 0.2747 - accuracy: 0.8889\n",
            "Epoch 41/50\n",
            "3014/3014 [==============================] - 2s 778us/step - loss: 0.2748 - accuracy: 0.8885\n",
            "Epoch 42/50\n",
            "3014/3014 [==============================] - 2s 777us/step - loss: 0.2747 - accuracy: 0.8889\n",
            "Epoch 43/50\n",
            "3014/3014 [==============================] - 2s 775us/step - loss: 0.2748 - accuracy: 0.8890\n",
            "Epoch 44/50\n",
            "3014/3014 [==============================] - 2s 773us/step - loss: 0.2748 - accuracy: 0.8892\n",
            "Epoch 45/50\n",
            "3014/3014 [==============================] - 2s 784us/step - loss: 0.2748 - accuracy: 0.8889\n",
            "Epoch 46/50\n",
            "3014/3014 [==============================] - 2s 779us/step - loss: 0.2747 - accuracy: 0.8890\n",
            "Epoch 47/50\n",
            "3014/3014 [==============================] - 2s 784us/step - loss: 0.2748 - accuracy: 0.8885\n",
            "Epoch 48/50\n",
            "3014/3014 [==============================] - 2s 778us/step - loss: 0.2748 - accuracy: 0.8890\n",
            "Epoch 49/50\n",
            "3014/3014 [==============================] - 2s 776us/step - loss: 0.2748 - accuracy: 0.8891\n",
            "Epoch 50/50\n",
            "3014/3014 [==============================] - 2s 766us/step - loss: 0.2747 - accuracy: 0.8884\n"
          ],
          "name": "stdout"
        },
        {
          "output_type": "execute_result",
          "data": {
            "text/plain": [
              "<tensorflow.python.keras.callbacks.History at 0x7fd960ea6d30>"
            ]
          },
          "metadata": {
            "tags": []
          },
          "execution_count": 35
        }
      ]
    },
    {
      "cell_type": "code",
      "metadata": {
        "colab": {
          "base_uri": "https://localhost:8080/"
        },
        "id": "MiPJVXXweW3K",
        "outputId": "e8969ba0-b997-41cd-ce07-8992a2d2168d"
      },
      "source": [
        "test_los,test_acc = model1.evaluate(X_test, Y_test)"
      ],
      "execution_count": 36,
      "outputs": [
        {
          "output_type": "stream",
          "text": [
            "283/283 [==============================] - 0s 747us/step - loss: 0.2667 - accuracy: 0.8935\n"
          ],
          "name": "stdout"
        }
      ]
    }
  ]
}