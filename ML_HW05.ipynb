{
  "nbformat": 4,
  "nbformat_minor": 0,
  "metadata": {
    "colab": {
      "name": "ML_HW05.ipynb",
      "provenance": [],
      "authorship_tag": "ABX9TyN/gNrNyvYrE5WJeJdbg86P",
      "include_colab_link": true
    },
    "kernelspec": {
      "name": "python3",
      "display_name": "Python 3"
    }
  },
  "cells": [
    {
      "cell_type": "markdown",
      "metadata": {
        "id": "view-in-github",
        "colab_type": "text"
      },
      "source": [
        "<a href=\"https://colab.research.google.com/github/yulingchen628/10901ML/blob/main/ML_HW05.ipynb\" target=\"_parent\"><img src=\"https://colab.research.google.com/assets/colab-badge.svg\" alt=\"Open In Colab\"/></a>"
      ]
    },
    {
      "cell_type": "code",
      "metadata": {
        "id": "8Sz9aqsYd4qv"
      },
      "source": [
        "from sklearn import datasets\r\n",
        "import matplotlib.pyplot as plt\r\n",
        "import numpy as np\r\n",
        "import pandas as pd"
      ],
      "execution_count": 1,
      "outputs": []
    },
    {
      "cell_type": "code",
      "metadata": {
        "id": "cbRh-6NIQcUK"
      },
      "source": [
        "from sklearn.datasets import load_digits\r\n",
        "digits = load_digits()"
      ],
      "execution_count": 2,
      "outputs": []
    },
    {
      "cell_type": "code",
      "metadata": {
        "id": "Ud73-IY86_ar"
      },
      "source": [
        "X = digits.data\r\n",
        "Y = digits.target"
      ],
      "execution_count": 3,
      "outputs": []
    },
    {
      "cell_type": "code",
      "metadata": {
        "colab": {
          "base_uri": "https://localhost:8080/"
        },
        "id": "5Tkr6LKTBeR4",
        "outputId": "7a6ce3ce-98d5-45d5-faab-88184845ee56"
      },
      "source": [
        "print(X)\r\n",
        "print(Y)"
      ],
      "execution_count": 4,
      "outputs": [
        {
          "output_type": "stream",
          "text": [
            "[[ 0.  0.  5. ...  0.  0.  0.]\n",
            " [ 0.  0.  0. ... 10.  0.  0.]\n",
            " [ 0.  0.  0. ... 16.  9.  0.]\n",
            " ...\n",
            " [ 0.  0.  1. ...  6.  0.  0.]\n",
            " [ 0.  0.  2. ... 12.  0.  0.]\n",
            " [ 0.  0. 10. ... 12.  1.  0.]]\n",
            "[0 1 2 ... 8 9 8]\n"
          ],
          "name": "stdout"
        }
      ]
    },
    {
      "cell_type": "code",
      "metadata": {
        "colab": {
          "base_uri": "https://localhost:8080/"
        },
        "id": "EnK7JunpWvw9",
        "outputId": "74909761-53fb-4083-8316-8bd89819b8f4"
      },
      "source": [
        "print(digits.data.shape)"
      ],
      "execution_count": 5,
      "outputs": [
        {
          "output_type": "stream",
          "text": [
            "(1797, 64)\n"
          ],
          "name": "stdout"
        }
      ]
    },
    {
      "cell_type": "code",
      "metadata": {
        "colab": {
          "base_uri": "https://localhost:8080/",
          "height": 292
        },
        "id": "6jR-jpZpZrSh",
        "outputId": "e5e3625e-4f9b-47f9-9353-8bc77d8ba12d"
      },
      "source": [
        "plt.gray() \r\n",
        "plt.matshow(digits.images[0]) \r\n",
        "plt.show() "
      ],
      "execution_count": 6,
      "outputs": [
        {
          "output_type": "display_data",
          "data": {
            "text/plain": [
              "<Figure size 432x288 with 0 Axes>"
            ]
          },
          "metadata": {
            "tags": []
          }
        },
        {
          "output_type": "display_data",
          "data": {
            "image/png": "[encoded data removed]",
            "text/plain": [
              "<Figure size 288x288 with 1 Axes>"
            ]
          },
          "metadata": {
            "tags": [],
            "needs_background": "light"
          }
        }
      ]
    },
    {
      "cell_type": "code",
      "metadata": {
        "id": "3nw4Iv4fB5cY"
      },
      "source": [
        "from sklearn.cluster import KMeans"
      ],
      "execution_count": 7,
      "outputs": []
    },
    {
      "cell_type": "code",
      "metadata": {
        "id": "BrSpXNrWB6oc"
      },
      "source": [
        "nb_clusters = [2,3,5,6,7,8,9,10]\r\n",
        "inertias = []\r\n",
        "for n in nb_clusters:\r\n",
        "    km = KMeans(n_clusters=n)\r\n",
        "    km.fit(X)\r\n",
        "    inertias.append(km.inertia_)"
      ],
      "execution_count": 8,
      "outputs": []
    },
    {
      "cell_type": "code",
      "metadata": {
        "id": "FJvE7a0SxVXc",
        "colab": {
          "base_uri": "https://localhost:8080/"
        },
        "outputId": "d859956c-3d39-4ccc-b186-e778308e956f"
      },
      "source": [
        "inertias"
      ],
      "execution_count": 9,
      "outputs": [
        {
          "output_type": "execute_result",
          "data": {
            "text/plain": [
              "[1914619.617550103,\n",
              " 1730182.2600869092,\n",
              " 1498807.7875016136,\n",
              " 1409275.6129042385,\n",
              " 1336466.464726202,\n",
              " 1265051.0639916696,\n",
              " 1202308.3741174198,\n",
              " 1165176.5563059822]"
            ]
          },
          "metadata": {
            "tags": []
          },
          "execution_count": 9
        }
      ]
    },
    {
      "cell_type": "code",
      "metadata": {
        "colab": {
          "base_uri": "https://localhost:8080/",
          "height": 283
        },
        "id": "urbB_azruovs",
        "outputId": "077c84d5-6676-4dfe-bf04-5f20b22fc37b"
      },
      "source": [
        "from sklearn.metrics import silhouette_score\r\n",
        "avg_silhouettes = []\r\n",
        "for n in nb_clusters:\r\n",
        "    km = KMeans(n_clusters=n)\r\n",
        "    Yk = km.fit_predict(digits.data)\r\n",
        "    avg_silhouettes.append(silhouette_score(digits.data, Yk))\r\n",
        "plt.plot(nb_clusters, avg_silhouettes)"
      ],
      "execution_count": 10,
      "outputs": [
        {
          "output_type": "execute_result",
          "data": {
            "text/plain": [
              "[<matplotlib.lines.Line2D at 0x7f5fbcd83fd0>]"
            ]
          },
          "metadata": {
            "tags": []
          },
          "execution_count": 10
        },
        {
          "output_type": "display_data",
          "data": {
            "image/png": "[encoded data removed]",
            "text/plain": [
              "<Figure size 432x288 with 1 Axes>"
            ]
          },
          "metadata": {
            "tags": [],
            "needs_background": "light"
          }
        }
      ]
    },
    {
      "cell_type": "code",
      "metadata": {
        "colab": {
          "base_uri": "https://localhost:8080/"
        },
        "id": "MtUrTWtteqjF",
        "outputId": "a170800e-475a-4069-85cc-a568bdbf464b"
      },
      "source": [
        "avg_silhouettes"
      ],
      "execution_count": 11,
      "outputs": [
        {
          "output_type": "execute_result",
          "data": {
            "text/plain": [
              "[0.11832841100655983,\n",
              " 0.12649498093440542,\n",
              " 0.13816386551430007,\n",
              " 0.1515184839706493,\n",
              " 0.1632895200843049,\n",
              " 0.17861503863909467,\n",
              " 0.18920824569561484,\n",
              " 0.18244527434009825]"
            ]
          },
          "metadata": {
            "tags": []
          },
          "execution_count": 11
        }
      ]
    },
    {
      "cell_type": "code",
      "metadata": {
        "colab": {
          "base_uri": "https://localhost:8080/",
          "height": 587
        },
        "id": "B0E6sXpsvBPR",
        "outputId": "9d520bc7-9bb8-476d-d40a-b27982371153"
      },
      "source": [
        "from sklearn.metrics import calinski_harabaz_score\r\n",
        "ch_scores = []\r\n",
        "for n in nb_clusters:\r\n",
        "    km = KMeans(n_clusters=n)\r\n",
        "    Yk = km.fit_predict(digits.data)\r\n",
        "    ch_scores.append(calinski_harabaz_score(digits.data, Yk))\r\n",
        "plt.plot(nb_clusters, ch_scores)"
      ],
      "execution_count": 12,
      "outputs": [
        {
          "output_type": "stream",
          "text": [
            "/usr/local/lib/python3.6/dist-packages/sklearn/utils/deprecation.py:87: FutureWarning: Function calinski_harabaz_score is deprecated; Function 'calinski_harabaz_score' has been renamed to 'calinski_harabasz_score' and will be removed in version 0.23.\n",
            "  warnings.warn(msg, category=FutureWarning)\n",
            "/usr/local/lib/python3.6/dist-packages/sklearn/utils/deprecation.py:87: FutureWarning: Function calinski_harabaz_score is deprecated; Function 'calinski_harabaz_score' has been renamed to 'calinski_harabasz_score' and will be removed in version 0.23.\n",
            "  warnings.warn(msg, category=FutureWarning)\n",
            "/usr/local/lib/python3.6/dist-packages/sklearn/utils/deprecation.py:87: FutureWarning: Function calinski_harabaz_score is deprecated; Function 'calinski_harabaz_score' has been renamed to 'calinski_harabasz_score' and will be removed in version 0.23.\n",
            "  warnings.warn(msg, category=FutureWarning)\n",
            "/usr/local/lib/python3.6/dist-packages/sklearn/utils/deprecation.py:87: FutureWarning: Function calinski_harabaz_score is deprecated; Function 'calinski_harabaz_score' has been renamed to 'calinski_harabasz_score' and will be removed in version 0.23.\n",
            "  warnings.warn(msg, category=FutureWarning)\n",
            "/usr/local/lib/python3.6/dist-packages/sklearn/utils/deprecation.py:87: FutureWarning: Function calinski_harabaz_score is deprecated; Function 'calinski_harabaz_score' has been renamed to 'calinski_harabasz_score' and will be removed in version 0.23.\n",
            "  warnings.warn(msg, category=FutureWarning)\n",
            "/usr/local/lib/python3.6/dist-packages/sklearn/utils/deprecation.py:87: FutureWarning: Function calinski_harabaz_score is deprecated; Function 'calinski_harabaz_score' has been renamed to 'calinski_harabasz_score' and will be removed in version 0.23.\n",
            "  warnings.warn(msg, category=FutureWarning)\n",
            "/usr/local/lib/python3.6/dist-packages/sklearn/utils/deprecation.py:87: FutureWarning: Function calinski_harabaz_score is deprecated; Function 'calinski_harabaz_score' has been renamed to 'calinski_harabasz_score' and will be removed in version 0.23.\n",
            "  warnings.warn(msg, category=FutureWarning)\n",
            "/usr/local/lib/python3.6/dist-packages/sklearn/utils/deprecation.py:87: FutureWarning: Function calinski_harabaz_score is deprecated; Function 'calinski_harabaz_score' has been renamed to 'calinski_harabasz_score' and will be removed in version 0.23.\n",
            "  warnings.warn(msg, category=FutureWarning)\n"
          ],
          "name": "stderr"
        },
        {
          "output_type": "execute_result",
          "data": {
            "text/plain": [
              "[<matplotlib.lines.Line2D at 0x7f5fbcd61630>]"
            ]
          },
          "metadata": {
            "tags": []
          },
          "execution_count": 12
        },
        {
          "output_type": "display_data",
          "data": {
            "image/png": "[encoded data removed]",
            "text/plain": [
              "<Figure size 432x288 with 1 Axes>"
            ]
          },
          "metadata": {
            "tags": [],
            "needs_background": "light"
          }
        }
      ]
    },
    {
      "cell_type": "code",
      "metadata": {
        "id": "X7j7bjBjefYN"
      },
      "source": [
        "from sklearn.metrics import homogeneity_score\r\n",
        "from sklearn.metrics import completeness_score\r\n",
        "from sklearn.metrics import adjusted_rand_score"
      ],
      "execution_count": 13,
      "outputs": []
    },
    {
      "cell_type": "markdown",
      "metadata": {
        "id": "S4m6sWwHwkMy"
      },
      "source": [
        "KMeans"
      ]
    },
    {
      "cell_type": "code",
      "metadata": {
        "colab": {
          "base_uri": "https://localhost:8080/"
        },
        "id": "UOv07tgye1B6",
        "outputId": "af481738-9cdd-484e-c0c9-933f89141b81"
      },
      "source": [
        "km = KMeans(n_clusters=10)\r\n",
        "Yk = km.fit_predict(digits.data)\r\n",
        "print('KMeans')\r\n",
        "print('Homogeneity score:',homogeneity_score(Y, Yk))\r\n",
        "print('Completeness_score:',completeness_score(Y, Yk))\r\n",
        "print('Adjusted_rand_score:',adjusted_rand_score(Y, Yk))"
      ],
      "execution_count": 14,
      "outputs": [
        {
          "output_type": "stream",
          "text": [
            "KMeans\n",
            "Homogeneity score: 0.7411608379835462\n",
            "Completeness_score: 0.7501932303917956\n",
            "Adjusted_rand_score: 0.6697763561710253\n"
          ],
          "name": "stdout"
        }
      ]
    },
    {
      "cell_type": "markdown",
      "metadata": {
        "id": "em5rPYnywn76"
      },
      "source": [
        "DBSCAN"
      ]
    },
    {
      "cell_type": "code",
      "metadata": {
        "colab": {
          "base_uri": "https://localhost:8080/"
        },
        "id": "EBvOU-1utyF2",
        "outputId": "001e3c58-3cb1-4e9c-fa4b-9596ab4bbcf6"
      },
      "source": [
        "from sklearn.cluster import DBSCAN\r\n",
        "dbs = DBSCAN(eps=0.1)\r\n",
        "Yp = dbs.fit_predict(digits.data)\r\n",
        "print('DBSCAN')\r\n",
        "print('Homogeneity score:',homogeneity_score(Y, Yp))\r\n",
        "print('Completeness_score:',completeness_score(Y, Yp))\r\n",
        "print('Adjusted_rand_score:',adjusted_rand_score(Y, Yp))"
      ],
      "execution_count": 15,
      "outputs": [
        {
          "output_type": "stream",
          "text": [
            "DBSCAN\n",
            "Homogeneity score: 3.616394280070181e-17\n",
            "Completeness_score: 1.0\n",
            "Adjusted_rand_score: 0.0\n"
          ],
          "name": "stdout"
        }
      ]
    },
    {
      "cell_type": "markdown",
      "metadata": {
        "id": "3EEr8TnrwpcR"
      },
      "source": [
        "SuperClustering"
      ]
    },
    {
      "cell_type": "code",
      "metadata": {
        "colab": {
          "base_uri": "https://localhost:8080/"
        },
        "id": "ugH59Ewbe4g9",
        "outputId": "4bad1cf1-27aa-4b50-e92d-9becdbee634d"
      },
      "source": [
        "from sklearn.cluster import SpectralClustering\r\n",
        "sc = SpectralClustering(n_clusters=10, affinity='nearest_neighbors')\r\n",
        "Ys = sc.fit_predict(digits.data)\r\n",
        "print('SpectralClustering')\r\n",
        "print('Homogeneity score:',homogeneity_score(Y, Ys))\r\n",
        "#print('calinski harabaz score:',calinski_harabaz_score(Y,Yk))\r\n",
        "print('Completeness_score:',completeness_score(Y, Ys))\r\n",
        "print('Adjusted_rand_score:',adjusted_rand_score(Y, Ys))"
      ],
      "execution_count": 16,
      "outputs": [
        {
          "output_type": "stream",
          "text": [
            "SpectralClustering\n",
            "Homogeneity score: 0.831690618469579\n",
            "Completeness_score: 0.8766144929016136\n",
            "Adjusted_rand_score: 0.7564608880380487\n"
          ],
          "name": "stdout"
        }
      ]
    },
    {
      "cell_type": "markdown",
      "metadata": {
        "id": "wrcImybmwwUi"
      },
      "source": [
        "AgglomerativeClustering"
      ]
    },
    {
      "cell_type": "code",
      "metadata": {
        "id": "KThzUQNefa-v"
      },
      "source": [
        "from sklearn.cluster import AgglomerativeClustering\r\n",
        "ac = AgglomerativeClustering(n_clusters=10, linkage='complete')\r\n",
        "Y_ac = ac.fit_predict(digits.data)\r\n"
      ],
      "execution_count": 19,
      "outputs": []
    },
    {
      "cell_type": "code",
      "metadata": {
        "colab": {
          "base_uri": "https://localhost:8080/"
        },
        "id": "6kwn8IKsfchG",
        "outputId": "8cec2b00-28a1-41fc-e942-6c782af64d56"
      },
      "source": [
        "print('AgglomerativeClustering')\r\n",
        "print('Homogeneity_score::',homogeneity_score(Y, Y_ac))\r\n",
        "print('completeness_score:',completeness_score(Y, Y_ac))\r\n",
        "print('adjusted_rand_score:',adjusted_rand_score(Y, Y_ac))"
      ],
      "execution_count": 20,
      "outputs": [
        {
          "output_type": "stream",
          "text": [
            "AgglomerativeClustering\n",
            "Homogeneity_score:: 0.5905493882538358\n",
            "completeness_score: 0.6377720419796353\n",
            "adjusted_rand_score: 0.4286888142937745\n"
          ],
          "name": "stdout"
        }
      ]
    }
  ]
}