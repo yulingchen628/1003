{
  "nbformat": 4,
  "nbformat_minor": 0,
  "metadata": {
    "colab": {
      "name": "ML_final.ipynb",
      "provenance": [],
      "mount_file_id": "1ZvCJdSJyBOE5VlLZeqglUiP_lqCpDjDF",
      "authorship_tag": "ABX9TyMtGFiyIxtapK9KMs/aYw2r",
      "include_colab_link": true
    },
    "kernelspec": {
      "name": "python3",
      "display_name": "Python 3"
    }
  },
  "cells": [
    {
      "cell_type": "markdown",
      "metadata": {
        "id": "view-in-github",
        "colab_type": "text"
      },
      "source": [
        "<a href=\"https://colab.research.google.com/github/yulingchen628/10901ML/blob/main/ML_final.ipynb\" target=\"_parent\"><img src=\"https://colab.research.google.com/assets/colab-badge.svg\" alt=\"Open In Colab\"/></a>"
      ]
    },
    {
      "cell_type": "code",
      "metadata": {
        "id": "mu3KN7T9mVcn"
      },
      "source": [
        "import pandas as pd\r\n",
        "import numpy as np"
      ],
      "execution_count": 1,
      "outputs": []
    },
    {
      "cell_type": "code",
      "metadata": {
        "id": "VZ1oWlIvSdeP",
        "colab": {
          "base_uri": "https://localhost:8080/",
          "height": 545
        },
        "outputId": "a6408274-8172-4486-ebca-66a6b57be996"
      },
      "source": [
        "df = pd.read_csv('/content/drive/Shareddrives/5502GS/ML/dataset/Traffic_Accidents.csv')\n",
        "df.head()"
      ],
      "execution_count": 2,
      "outputs": [
        {
          "output_type": "stream",
          "text": [
            "/usr/local/lib/python3.6/dist-packages/IPython/core/interactiveshell.py:2718: DtypeWarning: Columns (0,7) have mixed types.Specify dtype option on import or set low_memory=False.\n",
            "  interactivity=interactivity, compiler=compiler, result=result)\n"
          ],
          "name": "stderr"
        },
        {
          "output_type": "execute_result",
          "data": {
            "text/html": [
              "<div>\n",
              "<style scoped>\n",
              "    .dataframe tbody tr th:only-of-type {\n",
              "        vertical-align: middle;\n",
              "    }\n",
              "\n",
              "    .dataframe tbody tr th {\n",
              "        vertical-align: top;\n",
              "    }\n",
              "\n",
              "    .dataframe thead th {\n",
              "        text-align: right;\n",
              "    }\n",
              "</style>\n",
              "<table border=\"1\" class=\"dataframe\">\n",
              "  <thead>\n",
              "    <tr style=\"text-align: right;\">\n",
              "      <th></th>\n",
              "      <th>Accident Number</th>\n",
              "      <th>Date and Time</th>\n",
              "      <th>Number of Motor Vehicles</th>\n",
              "      <th>Number of Injuries</th>\n",
              "      <th>Number of Fatalities</th>\n",
              "      <th>Property Damage</th>\n",
              "      <th>Hit and Run</th>\n",
              "      <th>Reporting Officer</th>\n",
              "      <th>Collision Type Code</th>\n",
              "      <th>Collision Type Description</th>\n",
              "      <th>Weather Code</th>\n",
              "      <th>Weather Description</th>\n",
              "      <th>Illumination Code</th>\n",
              "      <th>Illumination Description</th>\n",
              "      <th>Harmful Code</th>\n",
              "      <th>Harmful Description</th>\n",
              "      <th>Street Address</th>\n",
              "      <th>City</th>\n",
              "      <th>State</th>\n",
              "      <th>ZIP</th>\n",
              "      <th>RPA</th>\n",
              "      <th>Precinct</th>\n",
              "      <th>Latitude</th>\n",
              "      <th>Longitude</th>\n",
              "      <th>Mapped Location</th>\n",
              "    </tr>\n",
              "  </thead>\n",
              "  <tbody>\n",
              "    <tr>\n",
              "      <th>0</th>\n",
              "      <td>20170330208</td>\n",
              "      <td>04/14/2017 10:44:00 AM</td>\n",
              "      <td>2.0</td>\n",
              "      <td>1.0</td>\n",
              "      <td>0</td>\n",
              "      <td>NaN</td>\n",
              "      <td>False</td>\n",
              "      <td>716886</td>\n",
              "      <td>11.0</td>\n",
              "      <td>Front to Rear</td>\n",
              "      <td>21.0</td>\n",
              "      <td>CLEAR</td>\n",
              "      <td>1.0</td>\n",
              "      <td>DAYLIGHT</td>\n",
              "      <td>12</td>\n",
              "      <td>MOTOR VEHICLE IN TRANSPORT</td>\n",
              "      <td>I24E &amp; I24 E ENT RAMP</td>\n",
              "      <td>NASHVILLE</td>\n",
              "      <td>TN</td>\n",
              "      <td>37210.0</td>\n",
              "      <td>8102.0</td>\n",
              "      <td>SOUTH</td>\n",
              "      <td>36.1363</td>\n",
              "      <td>-86.7270</td>\n",
              "      <td>POINT (-86.727 36.1363)</td>\n",
              "    </tr>\n",
              "    <tr>\n",
              "      <th>1</th>\n",
              "      <td>20161069361</td>\n",
              "      <td>12/02/2016 08:09:00 PM</td>\n",
              "      <td>2.0</td>\n",
              "      <td>0.0</td>\n",
              "      <td>0</td>\n",
              "      <td>NaN</td>\n",
              "      <td>True</td>\n",
              "      <td>240979</td>\n",
              "      <td>4.0</td>\n",
              "      <td>ANGLE</td>\n",
              "      <td>21.0</td>\n",
              "      <td>CLEAR</td>\n",
              "      <td>3.0</td>\n",
              "      <td>DARK - LIGHTED</td>\n",
              "      <td>12</td>\n",
              "      <td>MOTOR VEHICLE IN TRANSPORT</td>\n",
              "      <td>HAYWOOD LN &amp; ANTIOCH PKE</td>\n",
              "      <td>NASHVILLE</td>\n",
              "      <td>TN</td>\n",
              "      <td>37211.0</td>\n",
              "      <td>8851.0</td>\n",
              "      <td>SOUTH</td>\n",
              "      <td>36.0702</td>\n",
              "      <td>-86.6848</td>\n",
              "      <td>POINT (-86.6848 36.0702)</td>\n",
              "    </tr>\n",
              "    <tr>\n",
              "      <th>2</th>\n",
              "      <td>20170141034</td>\n",
              "      <td>02/13/2017 12:56:00 PM</td>\n",
              "      <td>2.0</td>\n",
              "      <td>1.0</td>\n",
              "      <td>0</td>\n",
              "      <td>NaN</td>\n",
              "      <td>False</td>\n",
              "      <td>594473</td>\n",
              "      <td>4.0</td>\n",
              "      <td>ANGLE</td>\n",
              "      <td>21.0</td>\n",
              "      <td>CLEAR</td>\n",
              "      <td>1.0</td>\n",
              "      <td>DAYLIGHT</td>\n",
              "      <td>12</td>\n",
              "      <td>MOTOR VEHICLE IN TRANSPORT</td>\n",
              "      <td>BLACKMAN RD &amp; TIMBERHILL DR</td>\n",
              "      <td>NASHVILLE</td>\n",
              "      <td>TN</td>\n",
              "      <td>37220.0</td>\n",
              "      <td>8613.0</td>\n",
              "      <td>MIDTOW</td>\n",
              "      <td>36.0747</td>\n",
              "      <td>-86.7548</td>\n",
              "      <td>POINT (-86.7548 36.0747)</td>\n",
              "    </tr>\n",
              "    <tr>\n",
              "      <th>3</th>\n",
              "      <td>20161023575</td>\n",
              "      <td>11/17/2016 04:29:00 PM</td>\n",
              "      <td>2.0</td>\n",
              "      <td>0.0</td>\n",
              "      <td>0</td>\n",
              "      <td>NaN</td>\n",
              "      <td>False</td>\n",
              "      <td>909486</td>\n",
              "      <td>11.0</td>\n",
              "      <td>Front to Rear</td>\n",
              "      <td>21.0</td>\n",
              "      <td>CLEAR</td>\n",
              "      <td>5.0</td>\n",
              "      <td>DUSK</td>\n",
              "      <td>12</td>\n",
              "      <td>MOTOR VEHICLE IN TRANSPORT</td>\n",
              "      <td>OLD HICKORY BLVD &amp; BRENTWOOD COMMONS WAY</td>\n",
              "      <td>BRENTWOOD</td>\n",
              "      <td>TN</td>\n",
              "      <td>37027.0</td>\n",
              "      <td>8623.0</td>\n",
              "      <td>MIDTOW</td>\n",
              "      <td>36.0412</td>\n",
              "      <td>-86.7766</td>\n",
              "      <td>POINT (-86.7766 36.0412)</td>\n",
              "    </tr>\n",
              "    <tr>\n",
              "      <th>4</th>\n",
              "      <td>20170321614</td>\n",
              "      <td>04/11/2017 11:17:00 PM</td>\n",
              "      <td>2.0</td>\n",
              "      <td>0.0</td>\n",
              "      <td>0</td>\n",
              "      <td>NaN</td>\n",
              "      <td>False</td>\n",
              "      <td>110096</td>\n",
              "      <td>11.0</td>\n",
              "      <td>Front to Rear</td>\n",
              "      <td>2.0</td>\n",
              "      <td>RAIN</td>\n",
              "      <td>3.0</td>\n",
              "      <td>DARK - LIGHTED</td>\n",
              "      <td>12</td>\n",
              "      <td>MOTOR VEHICLE IN TRANSPORT</td>\n",
              "      <td>MT VIEW RD &amp; BELL RD</td>\n",
              "      <td>ANTIOCH</td>\n",
              "      <td>TN</td>\n",
              "      <td>37013.0</td>\n",
              "      <td>8865.0</td>\n",
              "      <td>SOUTH</td>\n",
              "      <td>36.0500</td>\n",
              "      <td>-86.6496</td>\n",
              "      <td>POINT (-86.6496 36.05)</td>\n",
              "    </tr>\n",
              "  </tbody>\n",
              "</table>\n",
              "</div>"
            ],
            "text/plain": [
              "  Accident Number           Date and Time  ...  Longitude           Mapped Location\n",
              "0     20170330208  04/14/2017 10:44:00 AM  ...   -86.7270   POINT (-86.727 36.1363)\n",
              "1     20161069361  12/02/2016 08:09:00 PM  ...   -86.6848  POINT (-86.6848 36.0702)\n",
              "2     20170141034  02/13/2017 12:56:00 PM  ...   -86.7548  POINT (-86.7548 36.0747)\n",
              "3     20161023575  11/17/2016 04:29:00 PM  ...   -86.7766  POINT (-86.7766 36.0412)\n",
              "4     20170321614  04/11/2017 11:17:00 PM  ...   -86.6496    POINT (-86.6496 36.05)\n",
              "\n",
              "[5 rows x 25 columns]"
            ]
          },
          "metadata": {
            "tags": []
          },
          "execution_count": 2
        }
      ]
    },
    {
      "cell_type": "code",
      "metadata": {
        "colab": {
          "base_uri": "https://localhost:8080/"
        },
        "id": "KhVsl9aHqxJp",
        "outputId": "1682e259-c2a5-41e6-e01c-982687b617e4"
      },
      "source": [
        "df.shape"
      ],
      "execution_count": 3,
      "outputs": [
        {
          "output_type": "execute_result",
          "data": {
            "text/plain": [
              "(244451, 25)"
            ]
          },
          "metadata": {
            "tags": []
          },
          "execution_count": 3
        }
      ]
    },
    {
      "cell_type": "code",
      "metadata": {
        "colab": {
          "base_uri": "https://localhost:8080/",
          "height": 330
        },
        "id": "H17CRtypPqoh",
        "outputId": "2c975591-1a59-4aaa-f2e6-6da01cb68f4a"
      },
      "source": [
        "df['year'] = df['Date and Time'].map(lambda x:str(x)[6:10])\r\n",
        "df.head(3)"
      ],
      "execution_count": 4,
      "outputs": [
        {
          "output_type": "execute_result",
          "data": {
            "text/html": [
              "<div>\n",
              "<style scoped>\n",
              "    .dataframe tbody tr th:only-of-type {\n",
              "        vertical-align: middle;\n",
              "    }\n",
              "\n",
              "    .dataframe tbody tr th {\n",
              "        vertical-align: top;\n",
              "    }\n",
              "\n",
              "    .dataframe thead th {\n",
              "        text-align: right;\n",
              "    }\n",
              "</style>\n",
              "<table border=\"1\" class=\"dataframe\">\n",
              "  <thead>\n",
              "    <tr style=\"text-align: right;\">\n",
              "      <th></th>\n",
              "      <th>Accident Number</th>\n",
              "      <th>Date and Time</th>\n",
              "      <th>Number of Motor Vehicles</th>\n",
              "      <th>Number of Injuries</th>\n",
              "      <th>Number of Fatalities</th>\n",
              "      <th>Property Damage</th>\n",
              "      <th>Hit and Run</th>\n",
              "      <th>Reporting Officer</th>\n",
              "      <th>Collision Type Code</th>\n",
              "      <th>Collision Type Description</th>\n",
              "      <th>Weather Code</th>\n",
              "      <th>Weather Description</th>\n",
              "      <th>Illumination Code</th>\n",
              "      <th>Illumination Description</th>\n",
              "      <th>Harmful Code</th>\n",
              "      <th>Harmful Description</th>\n",
              "      <th>Street Address</th>\n",
              "      <th>City</th>\n",
              "      <th>State</th>\n",
              "      <th>ZIP</th>\n",
              "      <th>RPA</th>\n",
              "      <th>Precinct</th>\n",
              "      <th>Latitude</th>\n",
              "      <th>Longitude</th>\n",
              "      <th>Mapped Location</th>\n",
              "      <th>year</th>\n",
              "    </tr>\n",
              "  </thead>\n",
              "  <tbody>\n",
              "    <tr>\n",
              "      <th>0</th>\n",
              "      <td>20170330208</td>\n",
              "      <td>04/14/2017 10:44:00 AM</td>\n",
              "      <td>2.0</td>\n",
              "      <td>1.0</td>\n",
              "      <td>0</td>\n",
              "      <td>NaN</td>\n",
              "      <td>False</td>\n",
              "      <td>716886</td>\n",
              "      <td>11.0</td>\n",
              "      <td>Front to Rear</td>\n",
              "      <td>21.0</td>\n",
              "      <td>CLEAR</td>\n",
              "      <td>1.0</td>\n",
              "      <td>DAYLIGHT</td>\n",
              "      <td>12</td>\n",
              "      <td>MOTOR VEHICLE IN TRANSPORT</td>\n",
              "      <td>I24E &amp; I24 E ENT RAMP</td>\n",
              "      <td>NASHVILLE</td>\n",
              "      <td>TN</td>\n",
              "      <td>37210.0</td>\n",
              "      <td>8102.0</td>\n",
              "      <td>SOUTH</td>\n",
              "      <td>36.1363</td>\n",
              "      <td>-86.7270</td>\n",
              "      <td>POINT (-86.727 36.1363)</td>\n",
              "      <td>2017</td>\n",
              "    </tr>\n",
              "    <tr>\n",
              "      <th>1</th>\n",
              "      <td>20161069361</td>\n",
              "      <td>12/02/2016 08:09:00 PM</td>\n",
              "      <td>2.0</td>\n",
              "      <td>0.0</td>\n",
              "      <td>0</td>\n",
              "      <td>NaN</td>\n",
              "      <td>True</td>\n",
              "      <td>240979</td>\n",
              "      <td>4.0</td>\n",
              "      <td>ANGLE</td>\n",
              "      <td>21.0</td>\n",
              "      <td>CLEAR</td>\n",
              "      <td>3.0</td>\n",
              "      <td>DARK - LIGHTED</td>\n",
              "      <td>12</td>\n",
              "      <td>MOTOR VEHICLE IN TRANSPORT</td>\n",
              "      <td>HAYWOOD LN &amp; ANTIOCH PKE</td>\n",
              "      <td>NASHVILLE</td>\n",
              "      <td>TN</td>\n",
              "      <td>37211.0</td>\n",
              "      <td>8851.0</td>\n",
              "      <td>SOUTH</td>\n",
              "      <td>36.0702</td>\n",
              "      <td>-86.6848</td>\n",
              "      <td>POINT (-86.6848 36.0702)</td>\n",
              "      <td>2016</td>\n",
              "    </tr>\n",
              "    <tr>\n",
              "      <th>2</th>\n",
              "      <td>20170141034</td>\n",
              "      <td>02/13/2017 12:56:00 PM</td>\n",
              "      <td>2.0</td>\n",
              "      <td>1.0</td>\n",
              "      <td>0</td>\n",
              "      <td>NaN</td>\n",
              "      <td>False</td>\n",
              "      <td>594473</td>\n",
              "      <td>4.0</td>\n",
              "      <td>ANGLE</td>\n",
              "      <td>21.0</td>\n",
              "      <td>CLEAR</td>\n",
              "      <td>1.0</td>\n",
              "      <td>DAYLIGHT</td>\n",
              "      <td>12</td>\n",
              "      <td>MOTOR VEHICLE IN TRANSPORT</td>\n",
              "      <td>BLACKMAN RD &amp; TIMBERHILL DR</td>\n",
              "      <td>NASHVILLE</td>\n",
              "      <td>TN</td>\n",
              "      <td>37220.0</td>\n",
              "      <td>8613.0</td>\n",
              "      <td>MIDTOW</td>\n",
              "      <td>36.0747</td>\n",
              "      <td>-86.7548</td>\n",
              "      <td>POINT (-86.7548 36.0747)</td>\n",
              "      <td>2017</td>\n",
              "    </tr>\n",
              "  </tbody>\n",
              "</table>\n",
              "</div>"
            ],
            "text/plain": [
              "  Accident Number           Date and Time  ...           Mapped Location  year\n",
              "0     20170330208  04/14/2017 10:44:00 AM  ...   POINT (-86.727 36.1363)  2017\n",
              "1     20161069361  12/02/2016 08:09:00 PM  ...  POINT (-86.6848 36.0702)  2016\n",
              "2     20170141034  02/13/2017 12:56:00 PM  ...  POINT (-86.7548 36.0747)  2017\n",
              "\n",
              "[3 rows x 26 columns]"
            ]
          },
          "metadata": {
            "tags": []
          },
          "execution_count": 4
        }
      ]
    },
    {
      "cell_type": "code",
      "metadata": {
        "id": "0aNZR80URKnf"
      },
      "source": [
        "df.drop(df[df['year'] == '2012'].index,axis=0,inplace=True)\r\n",
        "df.drop(df[df['year'] == '2013'].index,axis=0,inplace=True)\r\n",
        "df.drop(df[df['year'] == '2014'].index,axis=0,inplace=True)\r\n",
        "df.drop(df[df['year'] == '2015'].index,axis=0,inplace=True)\r\n",
        "df.drop(df[df['year'] == '2016'].index,axis=0,inplace=True)\r\n",
        "df.drop(df[df['year'] == '2017'].index,axis=0,inplace=True)\r\n",
        "df.drop(df[df['year'] == '2019'].index,axis=0,inplace=True)\r\n",
        "df.drop(df[df['year'] == '2020'].index,axis=0,inplace=True)"
      ],
      "execution_count": 5,
      "outputs": []
    },
    {
      "cell_type": "code",
      "metadata": {
        "colab": {
          "base_uri": "https://localhost:8080/",
          "height": 458
        },
        "id": "ufPC3hTxVE8Y",
        "outputId": "f561e145-ad0b-4373-9b4e-7f485624ed6e"
      },
      "source": [
        "df.head()"
      ],
      "execution_count": 6,
      "outputs": [
        {
          "output_type": "execute_result",
          "data": {
            "text/html": [
              "<div>\n",
              "<style scoped>\n",
              "    .dataframe tbody tr th:only-of-type {\n",
              "        vertical-align: middle;\n",
              "    }\n",
              "\n",
              "    .dataframe tbody tr th {\n",
              "        vertical-align: top;\n",
              "    }\n",
              "\n",
              "    .dataframe thead th {\n",
              "        text-align: right;\n",
              "    }\n",
              "</style>\n",
              "<table border=\"1\" class=\"dataframe\">\n",
              "  <thead>\n",
              "    <tr style=\"text-align: right;\">\n",
              "      <th></th>\n",
              "      <th>Accident Number</th>\n",
              "      <th>Date and Time</th>\n",
              "      <th>Number of Motor Vehicles</th>\n",
              "      <th>Number of Injuries</th>\n",
              "      <th>Number of Fatalities</th>\n",
              "      <th>Property Damage</th>\n",
              "      <th>Hit and Run</th>\n",
              "      <th>Reporting Officer</th>\n",
              "      <th>Collision Type Code</th>\n",
              "      <th>Collision Type Description</th>\n",
              "      <th>Weather Code</th>\n",
              "      <th>Weather Description</th>\n",
              "      <th>Illumination Code</th>\n",
              "      <th>Illumination Description</th>\n",
              "      <th>Harmful Code</th>\n",
              "      <th>Harmful Description</th>\n",
              "      <th>Street Address</th>\n",
              "      <th>City</th>\n",
              "      <th>State</th>\n",
              "      <th>ZIP</th>\n",
              "      <th>RPA</th>\n",
              "      <th>Precinct</th>\n",
              "      <th>Latitude</th>\n",
              "      <th>Longitude</th>\n",
              "      <th>Mapped Location</th>\n",
              "      <th>year</th>\n",
              "    </tr>\n",
              "  </thead>\n",
              "  <tbody>\n",
              "    <tr>\n",
              "      <th>1845</th>\n",
              "      <td>20170000819</td>\n",
              "      <td>01/01/2018 08:45:00 AM</td>\n",
              "      <td>1.0</td>\n",
              "      <td>1.0</td>\n",
              "      <td>0</td>\n",
              "      <td>True</td>\n",
              "      <td>False</td>\n",
              "      <td>332253</td>\n",
              "      <td>0.0</td>\n",
              "      <td>NOT COLLISION W/MOTOR VEHICLE-TRANSPORT</td>\n",
              "      <td>21.0</td>\n",
              "      <td>CLEAR</td>\n",
              "      <td>1.0</td>\n",
              "      <td>DAYLIGHT</td>\n",
              "      <td>32</td>\n",
              "      <td>CULVERT</td>\n",
              "      <td>OLD HICKORY BLVD &amp; MARYDALE DR</td>\n",
              "      <td>NASHVILLE</td>\n",
              "      <td>TN</td>\n",
              "      <td>37207.0</td>\n",
              "      <td>2025.0</td>\n",
              "      <td>MADISO</td>\n",
              "      <td>36.2718</td>\n",
              "      <td>-86.7615</td>\n",
              "      <td>POINT (-86.7615 36.2718)</td>\n",
              "      <td>2018</td>\n",
              "    </tr>\n",
              "    <tr>\n",
              "      <th>4989</th>\n",
              "      <td>20170007441</td>\n",
              "      <td>01/03/2018 09:01:00 AM</td>\n",
              "      <td>2.0</td>\n",
              "      <td>0.0</td>\n",
              "      <td>0</td>\n",
              "      <td>NaN</td>\n",
              "      <td>False</td>\n",
              "      <td>544482</td>\n",
              "      <td>11.0</td>\n",
              "      <td>Front to Rear</td>\n",
              "      <td>21.0</td>\n",
              "      <td>CLEAR</td>\n",
              "      <td>1.0</td>\n",
              "      <td>DAYLIGHT</td>\n",
              "      <td>55</td>\n",
              "      <td>Motor Vehicle-In-Motion Outside Trafficw</td>\n",
              "      <td>WEST END AV &amp; PARK DR</td>\n",
              "      <td>NASHVILLE</td>\n",
              "      <td>TN</td>\n",
              "      <td>37212.0</td>\n",
              "      <td>5817.0</td>\n",
              "      <td>MIDTOW</td>\n",
              "      <td>36.1404</td>\n",
              "      <td>-86.8179</td>\n",
              "      <td>POINT (-86.8179 36.1404)</td>\n",
              "      <td>2018</td>\n",
              "    </tr>\n",
              "    <tr>\n",
              "      <th>11171</th>\n",
              "      <td>20170170810</td>\n",
              "      <td>02/21/2018 06:50:00 PM</td>\n",
              "      <td>2.0</td>\n",
              "      <td>0.0</td>\n",
              "      <td>0</td>\n",
              "      <td>NaN</td>\n",
              "      <td>False</td>\n",
              "      <td>633370</td>\n",
              "      <td>5.0</td>\n",
              "      <td>SIDESWIPE - SAME DIRECTION</td>\n",
              "      <td>22.0</td>\n",
              "      <td>CLOUDY</td>\n",
              "      <td>3.0</td>\n",
              "      <td>DARK - LIGHTED</td>\n",
              "      <td>12</td>\n",
              "      <td>MOTOR VEHICLE IN TRANSPORT</td>\n",
              "      <td>MM 54 8 I 24</td>\n",
              "      <td>NASHVILLE</td>\n",
              "      <td>TN</td>\n",
              "      <td>37211.0</td>\n",
              "      <td>8812.0</td>\n",
              "      <td>SOUTH</td>\n",
              "      <td>36.0968</td>\n",
              "      <td>-86.7085</td>\n",
              "      <td>POINT (-86.7085 36.0968)</td>\n",
              "      <td>2018</td>\n",
              "    </tr>\n",
              "    <tr>\n",
              "      <th>11685</th>\n",
              "      <td>20170035976</td>\n",
              "      <td>01/11/2018 05:59:00 PM</td>\n",
              "      <td>2.0</td>\n",
              "      <td>0.0</td>\n",
              "      <td>0</td>\n",
              "      <td>NaN</td>\n",
              "      <td>False</td>\n",
              "      <td>191570</td>\n",
              "      <td>4.0</td>\n",
              "      <td>ANGLE</td>\n",
              "      <td>22.0</td>\n",
              "      <td>CLOUDY</td>\n",
              "      <td>3.0</td>\n",
              "      <td>DARK - LIGHTED</td>\n",
              "      <td>12</td>\n",
              "      <td>MOTOR VEHICLE IN TRANSPORT</td>\n",
              "      <td>LYNWOOD AV &amp; 8TH AVS</td>\n",
              "      <td>NASHVILLE</td>\n",
              "      <td>TN</td>\n",
              "      <td>37203.0</td>\n",
              "      <td>6941.0</td>\n",
              "      <td>MIDTOW</td>\n",
              "      <td>36.1383</td>\n",
              "      <td>-86.7785</td>\n",
              "      <td>POINT (-86.7785 36.1383)</td>\n",
              "      <td>2018</td>\n",
              "    </tr>\n",
              "    <tr>\n",
              "      <th>13845</th>\n",
              "      <td>20170467982</td>\n",
              "      <td>05/28/2018 09:30:00 PM</td>\n",
              "      <td>2.0</td>\n",
              "      <td>3.0</td>\n",
              "      <td>0</td>\n",
              "      <td>True</td>\n",
              "      <td>False</td>\n",
              "      <td>240943</td>\n",
              "      <td>4.0</td>\n",
              "      <td>ANGLE</td>\n",
              "      <td>21.0</td>\n",
              "      <td>CLEAR</td>\n",
              "      <td>3.0</td>\n",
              "      <td>DARK - LIGHTED</td>\n",
              "      <td>12;30</td>\n",
              "      <td>MOTOR VEHICLE IN TRANSPORT;UTILITY POLE</td>\n",
              "      <td>4TH AVS &amp; I40 W EXT RAMP</td>\n",
              "      <td>NASHVILLE</td>\n",
              "      <td>TN</td>\n",
              "      <td>37203.0</td>\n",
              "      <td>4007.0</td>\n",
              "      <td>CENTRA</td>\n",
              "      <td>36.1509</td>\n",
              "      <td>-86.7706</td>\n",
              "      <td>POINT (-86.7706 36.1509)</td>\n",
              "      <td>2018</td>\n",
              "    </tr>\n",
              "  </tbody>\n",
              "</table>\n",
              "</div>"
            ],
            "text/plain": [
              "      Accident Number           Date and Time  ...           Mapped Location  year\n",
              "1845      20170000819  01/01/2018 08:45:00 AM  ...  POINT (-86.7615 36.2718)  2018\n",
              "4989      20170007441  01/03/2018 09:01:00 AM  ...  POINT (-86.8179 36.1404)  2018\n",
              "11171     20170170810  02/21/2018 06:50:00 PM  ...  POINT (-86.7085 36.0968)  2018\n",
              "11685     20170035976  01/11/2018 05:59:00 PM  ...  POINT (-86.7785 36.1383)  2018\n",
              "13845     20170467982  05/28/2018 09:30:00 PM  ...  POINT (-86.7706 36.1509)  2018\n",
              "\n",
              "[5 rows x 26 columns]"
            ]
          },
          "metadata": {
            "tags": []
          },
          "execution_count": 6
        }
      ]
    },
    {
      "cell_type": "code",
      "metadata": {
        "colab": {
          "base_uri": "https://localhost:8080/"
        },
        "id": "m-76H-E8S8lO",
        "outputId": "0589d5ab-7166-4eb6-ca7d-20c9925ab54a"
      },
      "source": [
        "df.shape"
      ],
      "execution_count": 7,
      "outputs": [
        {
          "output_type": "execute_result",
          "data": {
            "text/plain": [
              "(34470, 26)"
            ]
          },
          "metadata": {
            "tags": []
          },
          "execution_count": 7
        }
      ]
    },
    {
      "cell_type": "code",
      "metadata": {
        "colab": {
          "base_uri": "https://localhost:8080/"
        },
        "id": "7nzpVoY6SYtN",
        "outputId": "2d0d8463-9d3f-44cf-a95e-f315a0e88dc0"
      },
      "source": [
        "df['year'].value_counts()"
      ],
      "execution_count": 8,
      "outputs": [
        {
          "output_type": "execute_result",
          "data": {
            "text/plain": [
              "2018    34470\n",
              "Name: year, dtype: int64"
            ]
          },
          "metadata": {
            "tags": []
          },
          "execution_count": 8
        }
      ]
    },
    {
      "cell_type": "code",
      "metadata": {
        "id": "Z8e-0sGgTWQb",
        "colab": {
          "base_uri": "https://localhost:8080/",
          "height": 353
        },
        "outputId": "5b0158c9-a109-4c6b-e9b8-f52395f69e94"
      },
      "source": [
        "df.drop(['Accident Number'],axis=1,inplace=True)\r\n",
        "df.drop(['Weather Code'],axis=1,inplace=True)\r\n",
        "df.drop(['Reporting Officer'],axis=1,inplace=True)\r\n",
        "df.drop(['Property Damage'],axis=1,inplace=True)\r\n",
        "df.drop(['Collision Type Code'],axis=1,inplace=True)\r\n",
        "df.drop(['Illumination Code'],axis=1,inplace=True)\r\n",
        "df.drop(['Harmful Code'],axis=1,inplace=True)\r\n",
        "df.drop(['State'],axis=1,inplace=True)\r\n",
        "df.drop(['RPA'],axis=1,inplace=True) \r\n",
        "df.drop(['Mapped Location'],axis=1,inplace=True) \r\n",
        "df.drop(['City'],axis=1,inplace=True) \r\n",
        "df.drop(['Street Address'],axis=1,inplace=True)\r\n",
        "df.drop(['ZIP'],axis=1,inplace=True)\r\n",
        "df.drop(['Precinct'],axis=1,inplace=True)\r\n",
        "df.head()"
      ],
      "execution_count": 9,
      "outputs": [
        {
          "output_type": "execute_result",
          "data": {
            "text/html": [
              "<div>\n",
              "<style scoped>\n",
              "    .dataframe tbody tr th:only-of-type {\n",
              "        vertical-align: middle;\n",
              "    }\n",
              "\n",
              "    .dataframe tbody tr th {\n",
              "        vertical-align: top;\n",
              "    }\n",
              "\n",
              "    .dataframe thead th {\n",
              "        text-align: right;\n",
              "    }\n",
              "</style>\n",
              "<table border=\"1\" class=\"dataframe\">\n",
              "  <thead>\n",
              "    <tr style=\"text-align: right;\">\n",
              "      <th></th>\n",
              "      <th>Date and Time</th>\n",
              "      <th>Number of Motor Vehicles</th>\n",
              "      <th>Number of Injuries</th>\n",
              "      <th>Number of Fatalities</th>\n",
              "      <th>Hit and Run</th>\n",
              "      <th>Collision Type Description</th>\n",
              "      <th>Weather Description</th>\n",
              "      <th>Illumination Description</th>\n",
              "      <th>Harmful Description</th>\n",
              "      <th>Latitude</th>\n",
              "      <th>Longitude</th>\n",
              "      <th>year</th>\n",
              "    </tr>\n",
              "  </thead>\n",
              "  <tbody>\n",
              "    <tr>\n",
              "      <th>1845</th>\n",
              "      <td>01/01/2018 08:45:00 AM</td>\n",
              "      <td>1.0</td>\n",
              "      <td>1.0</td>\n",
              "      <td>0</td>\n",
              "      <td>False</td>\n",
              "      <td>NOT COLLISION W/MOTOR VEHICLE-TRANSPORT</td>\n",
              "      <td>CLEAR</td>\n",
              "      <td>DAYLIGHT</td>\n",
              "      <td>CULVERT</td>\n",
              "      <td>36.2718</td>\n",
              "      <td>-86.7615</td>\n",
              "      <td>2018</td>\n",
              "    </tr>\n",
              "    <tr>\n",
              "      <th>4989</th>\n",
              "      <td>01/03/2018 09:01:00 AM</td>\n",
              "      <td>2.0</td>\n",
              "      <td>0.0</td>\n",
              "      <td>0</td>\n",
              "      <td>False</td>\n",
              "      <td>Front to Rear</td>\n",
              "      <td>CLEAR</td>\n",
              "      <td>DAYLIGHT</td>\n",
              "      <td>Motor Vehicle-In-Motion Outside Trafficw</td>\n",
              "      <td>36.1404</td>\n",
              "      <td>-86.8179</td>\n",
              "      <td>2018</td>\n",
              "    </tr>\n",
              "    <tr>\n",
              "      <th>11171</th>\n",
              "      <td>02/21/2018 06:50:00 PM</td>\n",
              "      <td>2.0</td>\n",
              "      <td>0.0</td>\n",
              "      <td>0</td>\n",
              "      <td>False</td>\n",
              "      <td>SIDESWIPE - SAME DIRECTION</td>\n",
              "      <td>CLOUDY</td>\n",
              "      <td>DARK - LIGHTED</td>\n",
              "      <td>MOTOR VEHICLE IN TRANSPORT</td>\n",
              "      <td>36.0968</td>\n",
              "      <td>-86.7085</td>\n",
              "      <td>2018</td>\n",
              "    </tr>\n",
              "    <tr>\n",
              "      <th>11685</th>\n",
              "      <td>01/11/2018 05:59:00 PM</td>\n",
              "      <td>2.0</td>\n",
              "      <td>0.0</td>\n",
              "      <td>0</td>\n",
              "      <td>False</td>\n",
              "      <td>ANGLE</td>\n",
              "      <td>CLOUDY</td>\n",
              "      <td>DARK - LIGHTED</td>\n",
              "      <td>MOTOR VEHICLE IN TRANSPORT</td>\n",
              "      <td>36.1383</td>\n",
              "      <td>-86.7785</td>\n",
              "      <td>2018</td>\n",
              "    </tr>\n",
              "    <tr>\n",
              "      <th>13845</th>\n",
              "      <td>05/28/2018 09:30:00 PM</td>\n",
              "      <td>2.0</td>\n",
              "      <td>3.0</td>\n",
              "      <td>0</td>\n",
              "      <td>False</td>\n",
              "      <td>ANGLE</td>\n",
              "      <td>CLEAR</td>\n",
              "      <td>DARK - LIGHTED</td>\n",
              "      <td>MOTOR VEHICLE IN TRANSPORT;UTILITY POLE</td>\n",
              "      <td>36.1509</td>\n",
              "      <td>-86.7706</td>\n",
              "      <td>2018</td>\n",
              "    </tr>\n",
              "  </tbody>\n",
              "</table>\n",
              "</div>"
            ],
            "text/plain": [
              "                Date and Time  Number of Motor Vehicles  ...  Longitude  year\n",
              "1845   01/01/2018 08:45:00 AM                       1.0  ...   -86.7615  2018\n",
              "4989   01/03/2018 09:01:00 AM                       2.0  ...   -86.8179  2018\n",
              "11171  02/21/2018 06:50:00 PM                       2.0  ...   -86.7085  2018\n",
              "11685  01/11/2018 05:59:00 PM                       2.0  ...   -86.7785  2018\n",
              "13845  05/28/2018 09:30:00 PM                       2.0  ...   -86.7706  2018\n",
              "\n",
              "[5 rows x 12 columns]"
            ]
          },
          "metadata": {
            "tags": []
          },
          "execution_count": 9
        }
      ]
    },
    {
      "cell_type": "code",
      "metadata": {
        "colab": {
          "base_uri": "https://localhost:8080/"
        },
        "id": "cJinMrMeBWw5",
        "outputId": "328dddc4-5b29-4a72-c00c-439cdc0f327b"
      },
      "source": [
        "df.shape"
      ],
      "execution_count": 10,
      "outputs": [
        {
          "output_type": "execute_result",
          "data": {
            "text/plain": [
              "(34470, 12)"
            ]
          },
          "metadata": {
            "tags": []
          },
          "execution_count": 10
        }
      ]
    },
    {
      "cell_type": "code",
      "metadata": {
        "id": "8sRCNnPzSZiy"
      },
      "source": [
        "import datetime\r\n",
        "df['Date and Time'] = pd.to_datetime(df['Date and Time'])   \r\n",
        "df['date'] = df['Date and Time'].dt.date                    \r\n",
        "df['date'] = pd.to_datetime(df['date'])                      \r\n",
        "df['month'] = df['date'].dt.month                          \r\n",
        "\r\n",
        "df['time'] = df['Date and Time'].dt.time              \r\n",
        "df['hour'] = df['Date and Time'].dt.hour   "
      ],
      "execution_count": 11,
      "outputs": []
    },
    {
      "cell_type": "code",
      "metadata": {
        "colab": {
          "base_uri": "https://localhost:8080/",
          "height": 438
        },
        "id": "Qc77GzPOTikv",
        "outputId": "b56bb28d-a522-4561-bda9-a9c220766149"
      },
      "source": [
        "df.head()"
      ],
      "execution_count": 12,
      "outputs": [
        {
          "output_type": "execute_result",
          "data": {
            "text/html": [
              "<div>\n",
              "<style scoped>\n",
              "    .dataframe tbody tr th:only-of-type {\n",
              "        vertical-align: middle;\n",
              "    }\n",
              "\n",
              "    .dataframe tbody tr th {\n",
              "        vertical-align: top;\n",
              "    }\n",
              "\n",
              "    .dataframe thead th {\n",
              "        text-align: right;\n",
              "    }\n",
              "</style>\n",
              "<table border=\"1\" class=\"dataframe\">\n",
              "  <thead>\n",
              "    <tr style=\"text-align: right;\">\n",
              "      <th></th>\n",
              "      <th>Date and Time</th>\n",
              "      <th>Number of Motor Vehicles</th>\n",
              "      <th>Number of Injuries</th>\n",
              "      <th>Number of Fatalities</th>\n",
              "      <th>Hit and Run</th>\n",
              "      <th>Collision Type Description</th>\n",
              "      <th>Weather Description</th>\n",
              "      <th>Illumination Description</th>\n",
              "      <th>Harmful Description</th>\n",
              "      <th>Latitude</th>\n",
              "      <th>Longitude</th>\n",
              "      <th>year</th>\n",
              "      <th>date</th>\n",
              "      <th>month</th>\n",
              "      <th>time</th>\n",
              "      <th>hour</th>\n",
              "    </tr>\n",
              "  </thead>\n",
              "  <tbody>\n",
              "    <tr>\n",
              "      <th>1845</th>\n",
              "      <td>2018-01-01 08:45:00</td>\n",
              "      <td>1.0</td>\n",
              "      <td>1.0</td>\n",
              "      <td>0</td>\n",
              "      <td>False</td>\n",
              "      <td>NOT COLLISION W/MOTOR VEHICLE-TRANSPORT</td>\n",
              "      <td>CLEAR</td>\n",
              "      <td>DAYLIGHT</td>\n",
              "      <td>CULVERT</td>\n",
              "      <td>36.2718</td>\n",
              "      <td>-86.7615</td>\n",
              "      <td>2018</td>\n",
              "      <td>2018-01-01</td>\n",
              "      <td>1</td>\n",
              "      <td>08:45:00</td>\n",
              "      <td>8</td>\n",
              "    </tr>\n",
              "    <tr>\n",
              "      <th>4989</th>\n",
              "      <td>2018-01-03 09:01:00</td>\n",
              "      <td>2.0</td>\n",
              "      <td>0.0</td>\n",
              "      <td>0</td>\n",
              "      <td>False</td>\n",
              "      <td>Front to Rear</td>\n",
              "      <td>CLEAR</td>\n",
              "      <td>DAYLIGHT</td>\n",
              "      <td>Motor Vehicle-In-Motion Outside Trafficw</td>\n",
              "      <td>36.1404</td>\n",
              "      <td>-86.8179</td>\n",
              "      <td>2018</td>\n",
              "      <td>2018-01-03</td>\n",
              "      <td>1</td>\n",
              "      <td>09:01:00</td>\n",
              "      <td>9</td>\n",
              "    </tr>\n",
              "    <tr>\n",
              "      <th>11171</th>\n",
              "      <td>2018-02-21 18:50:00</td>\n",
              "      <td>2.0</td>\n",
              "      <td>0.0</td>\n",
              "      <td>0</td>\n",
              "      <td>False</td>\n",
              "      <td>SIDESWIPE - SAME DIRECTION</td>\n",
              "      <td>CLOUDY</td>\n",
              "      <td>DARK - LIGHTED</td>\n",
              "      <td>MOTOR VEHICLE IN TRANSPORT</td>\n",
              "      <td>36.0968</td>\n",
              "      <td>-86.7085</td>\n",
              "      <td>2018</td>\n",
              "      <td>2018-02-21</td>\n",
              "      <td>2</td>\n",
              "      <td>18:50:00</td>\n",
              "      <td>18</td>\n",
              "    </tr>\n",
              "    <tr>\n",
              "      <th>11685</th>\n",
              "      <td>2018-01-11 17:59:00</td>\n",
              "      <td>2.0</td>\n",
              "      <td>0.0</td>\n",
              "      <td>0</td>\n",
              "      <td>False</td>\n",
              "      <td>ANGLE</td>\n",
              "      <td>CLOUDY</td>\n",
              "      <td>DARK - LIGHTED</td>\n",
              "      <td>MOTOR VEHICLE IN TRANSPORT</td>\n",
              "      <td>36.1383</td>\n",
              "      <td>-86.7785</td>\n",
              "      <td>2018</td>\n",
              "      <td>2018-01-11</td>\n",
              "      <td>1</td>\n",
              "      <td>17:59:00</td>\n",
              "      <td>17</td>\n",
              "    </tr>\n",
              "    <tr>\n",
              "      <th>13845</th>\n",
              "      <td>2018-05-28 21:30:00</td>\n",
              "      <td>2.0</td>\n",
              "      <td>3.0</td>\n",
              "      <td>0</td>\n",
              "      <td>False</td>\n",
              "      <td>ANGLE</td>\n",
              "      <td>CLEAR</td>\n",
              "      <td>DARK - LIGHTED</td>\n",
              "      <td>MOTOR VEHICLE IN TRANSPORT;UTILITY POLE</td>\n",
              "      <td>36.1509</td>\n",
              "      <td>-86.7706</td>\n",
              "      <td>2018</td>\n",
              "      <td>2018-05-28</td>\n",
              "      <td>5</td>\n",
              "      <td>21:30:00</td>\n",
              "      <td>21</td>\n",
              "    </tr>\n",
              "  </tbody>\n",
              "</table>\n",
              "</div>"
            ],
            "text/plain": [
              "            Date and Time  Number of Motor Vehicles  ...      time  hour\n",
              "1845  2018-01-01 08:45:00                       1.0  ...  08:45:00     8\n",
              "4989  2018-01-03 09:01:00                       2.0  ...  09:01:00     9\n",
              "11171 2018-02-21 18:50:00                       2.0  ...  18:50:00    18\n",
              "11685 2018-01-11 17:59:00                       2.0  ...  17:59:00    17\n",
              "13845 2018-05-28 21:30:00                       2.0  ...  21:30:00    21\n",
              "\n",
              "[5 rows x 16 columns]"
            ]
          },
          "metadata": {
            "tags": []
          },
          "execution_count": 12
        }
      ]
    },
    {
      "cell_type": "code",
      "metadata": {
        "colab": {
          "base_uri": "https://localhost:8080/"
        },
        "id": "zX9z2U7VGqmv",
        "outputId": "20247c42-24a4-43d5-c706-7350fc8397f3"
      },
      "source": [
        "df.isnull().sum()"
      ],
      "execution_count": 13,
      "outputs": [
        {
          "output_type": "execute_result",
          "data": {
            "text/plain": [
              "Date and Time                   0\n",
              "Number of Motor Vehicles        1\n",
              "Number of Injuries              0\n",
              "Number of Fatalities            0\n",
              "Hit and Run                     0\n",
              "Collision Type Description      1\n",
              "Weather Description            72\n",
              "Illumination Description       31\n",
              "Harmful Description           328\n",
              "Latitude                       32\n",
              "Longitude                      32\n",
              "year                            0\n",
              "date                            0\n",
              "month                           0\n",
              "time                            0\n",
              "hour                            0\n",
              "dtype: int64"
            ]
          },
          "metadata": {
            "tags": []
          },
          "execution_count": 13
        }
      ]
    },
    {
      "cell_type": "code",
      "metadata": {
        "id": "22mrIsZfICd0"
      },
      "source": [
        "df.dropna(axis=0,how='any',inplace=True)"
      ],
      "execution_count": 14,
      "outputs": []
    },
    {
      "cell_type": "code",
      "metadata": {
        "colab": {
          "base_uri": "https://localhost:8080/"
        },
        "id": "A2DRfpI3IPcS",
        "outputId": "a722551f-f2b4-4dab-be20-4a7cb9f7f7ce"
      },
      "source": [
        "df.shape"
      ],
      "execution_count": 15,
      "outputs": [
        {
          "output_type": "execute_result",
          "data": {
            "text/plain": [
              "(34025, 16)"
            ]
          },
          "metadata": {
            "tags": []
          },
          "execution_count": 15
        }
      ]
    },
    {
      "cell_type": "code",
      "metadata": {
        "colab": {
          "base_uri": "https://localhost:8080/"
        },
        "id": "IFGK_-7DIbo6",
        "outputId": "4697930d-79da-4684-d0f2-002acb1ee845"
      },
      "source": [
        "df.isnull().sum()"
      ],
      "execution_count": 16,
      "outputs": [
        {
          "output_type": "execute_result",
          "data": {
            "text/plain": [
              "Date and Time                 0\n",
              "Number of Motor Vehicles      0\n",
              "Number of Injuries            0\n",
              "Number of Fatalities          0\n",
              "Hit and Run                   0\n",
              "Collision Type Description    0\n",
              "Weather Description           0\n",
              "Illumination Description      0\n",
              "Harmful Description           0\n",
              "Latitude                      0\n",
              "Longitude                     0\n",
              "year                          0\n",
              "date                          0\n",
              "month                         0\n",
              "time                          0\n",
              "hour                          0\n",
              "dtype: int64"
            ]
          },
          "metadata": {
            "tags": []
          },
          "execution_count": 16
        }
      ]
    },
    {
      "cell_type": "code",
      "metadata": {
        "colab": {
          "base_uri": "https://localhost:8080/",
          "height": 458
        },
        "id": "R4SKr_CdUOnq",
        "outputId": "85b8d225-6822-4d59-ea9a-f102dc4b73e2"
      },
      "source": [
        "df['injury or fatality'] = df['Number of Injuries'] + df['Number of Fatalities']\r\n",
        "df.head()"
      ],
      "execution_count": 17,
      "outputs": [
        {
          "output_type": "execute_result",
          "data": {
            "text/html": [
              "<div>\n",
              "<style scoped>\n",
              "    .dataframe tbody tr th:only-of-type {\n",
              "        vertical-align: middle;\n",
              "    }\n",
              "\n",
              "    .dataframe tbody tr th {\n",
              "        vertical-align: top;\n",
              "    }\n",
              "\n",
              "    .dataframe thead th {\n",
              "        text-align: right;\n",
              "    }\n",
              "</style>\n",
              "<table border=\"1\" class=\"dataframe\">\n",
              "  <thead>\n",
              "    <tr style=\"text-align: right;\">\n",
              "      <th></th>\n",
              "      <th>Date and Time</th>\n",
              "      <th>Number of Motor Vehicles</th>\n",
              "      <th>Number of Injuries</th>\n",
              "      <th>Number of Fatalities</th>\n",
              "      <th>Hit and Run</th>\n",
              "      <th>Collision Type Description</th>\n",
              "      <th>Weather Description</th>\n",
              "      <th>Illumination Description</th>\n",
              "      <th>Harmful Description</th>\n",
              "      <th>Latitude</th>\n",
              "      <th>Longitude</th>\n",
              "      <th>year</th>\n",
              "      <th>date</th>\n",
              "      <th>month</th>\n",
              "      <th>time</th>\n",
              "      <th>hour</th>\n",
              "      <th>injury or fatality</th>\n",
              "    </tr>\n",
              "  </thead>\n",
              "  <tbody>\n",
              "    <tr>\n",
              "      <th>1845</th>\n",
              "      <td>2018-01-01 08:45:00</td>\n",
              "      <td>1.0</td>\n",
              "      <td>1.0</td>\n",
              "      <td>0</td>\n",
              "      <td>False</td>\n",
              "      <td>NOT COLLISION W/MOTOR VEHICLE-TRANSPORT</td>\n",
              "      <td>CLEAR</td>\n",
              "      <td>DAYLIGHT</td>\n",
              "      <td>CULVERT</td>\n",
              "      <td>36.2718</td>\n",
              "      <td>-86.7615</td>\n",
              "      <td>2018</td>\n",
              "      <td>2018-01-01</td>\n",
              "      <td>1</td>\n",
              "      <td>08:45:00</td>\n",
              "      <td>8</td>\n",
              "      <td>1.0</td>\n",
              "    </tr>\n",
              "    <tr>\n",
              "      <th>4989</th>\n",
              "      <td>2018-01-03 09:01:00</td>\n",
              "      <td>2.0</td>\n",
              "      <td>0.0</td>\n",
              "      <td>0</td>\n",
              "      <td>False</td>\n",
              "      <td>Front to Rear</td>\n",
              "      <td>CLEAR</td>\n",
              "      <td>DAYLIGHT</td>\n",
              "      <td>Motor Vehicle-In-Motion Outside Trafficw</td>\n",
              "      <td>36.1404</td>\n",
              "      <td>-86.8179</td>\n",
              "      <td>2018</td>\n",
              "      <td>2018-01-03</td>\n",
              "      <td>1</td>\n",
              "      <td>09:01:00</td>\n",
              "      <td>9</td>\n",
              "      <td>0.0</td>\n",
              "    </tr>\n",
              "    <tr>\n",
              "      <th>11171</th>\n",
              "      <td>2018-02-21 18:50:00</td>\n",
              "      <td>2.0</td>\n",
              "      <td>0.0</td>\n",
              "      <td>0</td>\n",
              "      <td>False</td>\n",
              "      <td>SIDESWIPE - SAME DIRECTION</td>\n",
              "      <td>CLOUDY</td>\n",
              "      <td>DARK - LIGHTED</td>\n",
              "      <td>MOTOR VEHICLE IN TRANSPORT</td>\n",
              "      <td>36.0968</td>\n",
              "      <td>-86.7085</td>\n",
              "      <td>2018</td>\n",
              "      <td>2018-02-21</td>\n",
              "      <td>2</td>\n",
              "      <td>18:50:00</td>\n",
              "      <td>18</td>\n",
              "      <td>0.0</td>\n",
              "    </tr>\n",
              "    <tr>\n",
              "      <th>11685</th>\n",
              "      <td>2018-01-11 17:59:00</td>\n",
              "      <td>2.0</td>\n",
              "      <td>0.0</td>\n",
              "      <td>0</td>\n",
              "      <td>False</td>\n",
              "      <td>ANGLE</td>\n",
              "      <td>CLOUDY</td>\n",
              "      <td>DARK - LIGHTED</td>\n",
              "      <td>MOTOR VEHICLE IN TRANSPORT</td>\n",
              "      <td>36.1383</td>\n",
              "      <td>-86.7785</td>\n",
              "      <td>2018</td>\n",
              "      <td>2018-01-11</td>\n",
              "      <td>1</td>\n",
              "      <td>17:59:00</td>\n",
              "      <td>17</td>\n",
              "      <td>0.0</td>\n",
              "    </tr>\n",
              "    <tr>\n",
              "      <th>13845</th>\n",
              "      <td>2018-05-28 21:30:00</td>\n",
              "      <td>2.0</td>\n",
              "      <td>3.0</td>\n",
              "      <td>0</td>\n",
              "      <td>False</td>\n",
              "      <td>ANGLE</td>\n",
              "      <td>CLEAR</td>\n",
              "      <td>DARK - LIGHTED</td>\n",
              "      <td>MOTOR VEHICLE IN TRANSPORT;UTILITY POLE</td>\n",
              "      <td>36.1509</td>\n",
              "      <td>-86.7706</td>\n",
              "      <td>2018</td>\n",
              "      <td>2018-05-28</td>\n",
              "      <td>5</td>\n",
              "      <td>21:30:00</td>\n",
              "      <td>21</td>\n",
              "      <td>3.0</td>\n",
              "    </tr>\n",
              "  </tbody>\n",
              "</table>\n",
              "</div>"
            ],
            "text/plain": [
              "            Date and Time  Number of Motor Vehicles  ...  hour  injury or fatality\n",
              "1845  2018-01-01 08:45:00                       1.0  ...     8                 1.0\n",
              "4989  2018-01-03 09:01:00                       2.0  ...     9                 0.0\n",
              "11171 2018-02-21 18:50:00                       2.0  ...    18                 0.0\n",
              "11685 2018-01-11 17:59:00                       2.0  ...    17                 0.0\n",
              "13845 2018-05-28 21:30:00                       2.0  ...    21                 3.0\n",
              "\n",
              "[5 rows x 17 columns]"
            ]
          },
          "metadata": {
            "tags": []
          },
          "execution_count": 17
        }
      ]
    },
    {
      "cell_type": "code",
      "metadata": {
        "colab": {
          "base_uri": "https://localhost:8080/"
        },
        "id": "kawll33kUz52",
        "outputId": "7cc113bf-8233-4900-9272-54bc1182a169"
      },
      "source": [
        "df['injury or fatality'].sum()"
      ],
      "execution_count": 18,
      "outputs": [
        {
          "output_type": "execute_result",
          "data": {
            "text/plain": [
              "12386.0"
            ]
          },
          "metadata": {
            "tags": []
          },
          "execution_count": 18
        }
      ]
    },
    {
      "cell_type": "code",
      "metadata": {
        "id": "-TXrP7sTU8zT"
      },
      "source": [
        "df.drop(['Number of Injuries','Number of Fatalities'], axis=1, inplace=True)"
      ],
      "execution_count": 19,
      "outputs": []
    },
    {
      "cell_type": "code",
      "metadata": {
        "colab": {
          "base_uri": "https://localhost:8080/",
          "height": 421
        },
        "id": "Sy01i0yaVHpu",
        "outputId": "59b59149-83fd-4663-dd9c-86d8d4bea941"
      },
      "source": [
        "df.head()"
      ],
      "execution_count": 20,
      "outputs": [
        {
          "output_type": "execute_result",
          "data": {
            "text/html": [
              "<div>\n",
              "<style scoped>\n",
              "    .dataframe tbody tr th:only-of-type {\n",
              "        vertical-align: middle;\n",
              "    }\n",
              "\n",
              "    .dataframe tbody tr th {\n",
              "        vertical-align: top;\n",
              "    }\n",
              "\n",
              "    .dataframe thead th {\n",
              "        text-align: right;\n",
              "    }\n",
              "</style>\n",
              "<table border=\"1\" class=\"dataframe\">\n",
              "  <thead>\n",
              "    <tr style=\"text-align: right;\">\n",
              "      <th></th>\n",
              "      <th>Date and Time</th>\n",
              "      <th>Number of Motor Vehicles</th>\n",
              "      <th>Hit and Run</th>\n",
              "      <th>Collision Type Description</th>\n",
              "      <th>Weather Description</th>\n",
              "      <th>Illumination Description</th>\n",
              "      <th>Harmful Description</th>\n",
              "      <th>Latitude</th>\n",
              "      <th>Longitude</th>\n",
              "      <th>year</th>\n",
              "      <th>date</th>\n",
              "      <th>month</th>\n",
              "      <th>time</th>\n",
              "      <th>hour</th>\n",
              "      <th>injury or fatality</th>\n",
              "    </tr>\n",
              "  </thead>\n",
              "  <tbody>\n",
              "    <tr>\n",
              "      <th>1845</th>\n",
              "      <td>2018-01-01 08:45:00</td>\n",
              "      <td>1.0</td>\n",
              "      <td>False</td>\n",
              "      <td>NOT COLLISION W/MOTOR VEHICLE-TRANSPORT</td>\n",
              "      <td>CLEAR</td>\n",
              "      <td>DAYLIGHT</td>\n",
              "      <td>CULVERT</td>\n",
              "      <td>36.2718</td>\n",
              "      <td>-86.7615</td>\n",
              "      <td>2018</td>\n",
              "      <td>2018-01-01</td>\n",
              "      <td>1</td>\n",
              "      <td>08:45:00</td>\n",
              "      <td>8</td>\n",
              "      <td>1.0</td>\n",
              "    </tr>\n",
              "    <tr>\n",
              "      <th>4989</th>\n",
              "      <td>2018-01-03 09:01:00</td>\n",
              "      <td>2.0</td>\n",
              "      <td>False</td>\n",
              "      <td>Front to Rear</td>\n",
              "      <td>CLEAR</td>\n",
              "      <td>DAYLIGHT</td>\n",
              "      <td>Motor Vehicle-In-Motion Outside Trafficw</td>\n",
              "      <td>36.1404</td>\n",
              "      <td>-86.8179</td>\n",
              "      <td>2018</td>\n",
              "      <td>2018-01-03</td>\n",
              "      <td>1</td>\n",
              "      <td>09:01:00</td>\n",
              "      <td>9</td>\n",
              "      <td>0.0</td>\n",
              "    </tr>\n",
              "    <tr>\n",
              "      <th>11171</th>\n",
              "      <td>2018-02-21 18:50:00</td>\n",
              "      <td>2.0</td>\n",
              "      <td>False</td>\n",
              "      <td>SIDESWIPE - SAME DIRECTION</td>\n",
              "      <td>CLOUDY</td>\n",
              "      <td>DARK - LIGHTED</td>\n",
              "      <td>MOTOR VEHICLE IN TRANSPORT</td>\n",
              "      <td>36.0968</td>\n",
              "      <td>-86.7085</td>\n",
              "      <td>2018</td>\n",
              "      <td>2018-02-21</td>\n",
              "      <td>2</td>\n",
              "      <td>18:50:00</td>\n",
              "      <td>18</td>\n",
              "      <td>0.0</td>\n",
              "    </tr>\n",
              "    <tr>\n",
              "      <th>11685</th>\n",
              "      <td>2018-01-11 17:59:00</td>\n",
              "      <td>2.0</td>\n",
              "      <td>False</td>\n",
              "      <td>ANGLE</td>\n",
              "      <td>CLOUDY</td>\n",
              "      <td>DARK - LIGHTED</td>\n",
              "      <td>MOTOR VEHICLE IN TRANSPORT</td>\n",
              "      <td>36.1383</td>\n",
              "      <td>-86.7785</td>\n",
              "      <td>2018</td>\n",
              "      <td>2018-01-11</td>\n",
              "      <td>1</td>\n",
              "      <td>17:59:00</td>\n",
              "      <td>17</td>\n",
              "      <td>0.0</td>\n",
              "    </tr>\n",
              "    <tr>\n",
              "      <th>13845</th>\n",
              "      <td>2018-05-28 21:30:00</td>\n",
              "      <td>2.0</td>\n",
              "      <td>False</td>\n",
              "      <td>ANGLE</td>\n",
              "      <td>CLEAR</td>\n",
              "      <td>DARK - LIGHTED</td>\n",
              "      <td>MOTOR VEHICLE IN TRANSPORT;UTILITY POLE</td>\n",
              "      <td>36.1509</td>\n",
              "      <td>-86.7706</td>\n",
              "      <td>2018</td>\n",
              "      <td>2018-05-28</td>\n",
              "      <td>5</td>\n",
              "      <td>21:30:00</td>\n",
              "      <td>21</td>\n",
              "      <td>3.0</td>\n",
              "    </tr>\n",
              "  </tbody>\n",
              "</table>\n",
              "</div>"
            ],
            "text/plain": [
              "            Date and Time  Number of Motor Vehicles  ... hour injury or fatality\n",
              "1845  2018-01-01 08:45:00                       1.0  ...    8                1.0\n",
              "4989  2018-01-03 09:01:00                       2.0  ...    9                0.0\n",
              "11171 2018-02-21 18:50:00                       2.0  ...   18                0.0\n",
              "11685 2018-01-11 17:59:00                       2.0  ...   17                0.0\n",
              "13845 2018-05-28 21:30:00                       2.0  ...   21                3.0\n",
              "\n",
              "[5 rows x 15 columns]"
            ]
          },
          "metadata": {
            "tags": []
          },
          "execution_count": 20
        }
      ]
    },
    {
      "cell_type": "code",
      "metadata": {
        "id": "uoLL8V3GVJZ7"
      },
      "source": [
        "from sklearn.preprocessing import LabelEncoder\r\n",
        "le = LabelEncoder()"
      ],
      "execution_count": 21,
      "outputs": []
    },
    {
      "cell_type": "code",
      "metadata": {
        "colab": {
          "base_uri": "https://localhost:8080/"
        },
        "id": "uTkFzmMjPdLh",
        "outputId": "14d7cca0-51ac-47c1-8970-2ab6e26ca2f8"
      },
      "source": [
        "df['Hit and Run'].unique()"
      ],
      "execution_count": 22,
      "outputs": [
        {
          "output_type": "execute_result",
          "data": {
            "text/plain": [
              "array([False, True], dtype=object)"
            ]
          },
          "metadata": {
            "tags": []
          },
          "execution_count": 22
        }
      ]
    },
    {
      "cell_type": "code",
      "metadata": {
        "colab": {
          "base_uri": "https://localhost:8080/",
          "height": 421
        },
        "id": "kPY8Bns5VQ__",
        "outputId": "912233d3-5277-41fd-e863-9e8ee5efa7a7"
      },
      "source": [
        "df['Hit and Run'] = le.fit_transform(df['Hit and Run'])\r\n",
        "df.head()"
      ],
      "execution_count": 23,
      "outputs": [
        {
          "output_type": "execute_result",
          "data": {
            "text/html": [
              "<div>\n",
              "<style scoped>\n",
              "    .dataframe tbody tr th:only-of-type {\n",
              "        vertical-align: middle;\n",
              "    }\n",
              "\n",
              "    .dataframe tbody tr th {\n",
              "        vertical-align: top;\n",
              "    }\n",
              "\n",
              "    .dataframe thead th {\n",
              "        text-align: right;\n",
              "    }\n",
              "</style>\n",
              "<table border=\"1\" class=\"dataframe\">\n",
              "  <thead>\n",
              "    <tr style=\"text-align: right;\">\n",
              "      <th></th>\n",
              "      <th>Date and Time</th>\n",
              "      <th>Number of Motor Vehicles</th>\n",
              "      <th>Hit and Run</th>\n",
              "      <th>Collision Type Description</th>\n",
              "      <th>Weather Description</th>\n",
              "      <th>Illumination Description</th>\n",
              "      <th>Harmful Description</th>\n",
              "      <th>Latitude</th>\n",
              "      <th>Longitude</th>\n",
              "      <th>year</th>\n",
              "      <th>date</th>\n",
              "      <th>month</th>\n",
              "      <th>time</th>\n",
              "      <th>hour</th>\n",
              "      <th>injury or fatality</th>\n",
              "    </tr>\n",
              "  </thead>\n",
              "  <tbody>\n",
              "    <tr>\n",
              "      <th>1845</th>\n",
              "      <td>2018-01-01 08:45:00</td>\n",
              "      <td>1.0</td>\n",
              "      <td>0</td>\n",
              "      <td>NOT COLLISION W/MOTOR VEHICLE-TRANSPORT</td>\n",
              "      <td>CLEAR</td>\n",
              "      <td>DAYLIGHT</td>\n",
              "      <td>CULVERT</td>\n",
              "      <td>36.2718</td>\n",
              "      <td>-86.7615</td>\n",
              "      <td>2018</td>\n",
              "      <td>2018-01-01</td>\n",
              "      <td>1</td>\n",
              "      <td>08:45:00</td>\n",
              "      <td>8</td>\n",
              "      <td>1.0</td>\n",
              "    </tr>\n",
              "    <tr>\n",
              "      <th>4989</th>\n",
              "      <td>2018-01-03 09:01:00</td>\n",
              "      <td>2.0</td>\n",
              "      <td>0</td>\n",
              "      <td>Front to Rear</td>\n",
              "      <td>CLEAR</td>\n",
              "      <td>DAYLIGHT</td>\n",
              "      <td>Motor Vehicle-In-Motion Outside Trafficw</td>\n",
              "      <td>36.1404</td>\n",
              "      <td>-86.8179</td>\n",
              "      <td>2018</td>\n",
              "      <td>2018-01-03</td>\n",
              "      <td>1</td>\n",
              "      <td>09:01:00</td>\n",
              "      <td>9</td>\n",
              "      <td>0.0</td>\n",
              "    </tr>\n",
              "    <tr>\n",
              "      <th>11171</th>\n",
              "      <td>2018-02-21 18:50:00</td>\n",
              "      <td>2.0</td>\n",
              "      <td>0</td>\n",
              "      <td>SIDESWIPE - SAME DIRECTION</td>\n",
              "      <td>CLOUDY</td>\n",
              "      <td>DARK - LIGHTED</td>\n",
              "      <td>MOTOR VEHICLE IN TRANSPORT</td>\n",
              "      <td>36.0968</td>\n",
              "      <td>-86.7085</td>\n",
              "      <td>2018</td>\n",
              "      <td>2018-02-21</td>\n",
              "      <td>2</td>\n",
              "      <td>18:50:00</td>\n",
              "      <td>18</td>\n",
              "      <td>0.0</td>\n",
              "    </tr>\n",
              "    <tr>\n",
              "      <th>11685</th>\n",
              "      <td>2018-01-11 17:59:00</td>\n",
              "      <td>2.0</td>\n",
              "      <td>0</td>\n",
              "      <td>ANGLE</td>\n",
              "      <td>CLOUDY</td>\n",
              "      <td>DARK - LIGHTED</td>\n",
              "      <td>MOTOR VEHICLE IN TRANSPORT</td>\n",
              "      <td>36.1383</td>\n",
              "      <td>-86.7785</td>\n",
              "      <td>2018</td>\n",
              "      <td>2018-01-11</td>\n",
              "      <td>1</td>\n",
              "      <td>17:59:00</td>\n",
              "      <td>17</td>\n",
              "      <td>0.0</td>\n",
              "    </tr>\n",
              "    <tr>\n",
              "      <th>13845</th>\n",
              "      <td>2018-05-28 21:30:00</td>\n",
              "      <td>2.0</td>\n",
              "      <td>0</td>\n",
              "      <td>ANGLE</td>\n",
              "      <td>CLEAR</td>\n",
              "      <td>DARK - LIGHTED</td>\n",
              "      <td>MOTOR VEHICLE IN TRANSPORT;UTILITY POLE</td>\n",
              "      <td>36.1509</td>\n",
              "      <td>-86.7706</td>\n",
              "      <td>2018</td>\n",
              "      <td>2018-05-28</td>\n",
              "      <td>5</td>\n",
              "      <td>21:30:00</td>\n",
              "      <td>21</td>\n",
              "      <td>3.0</td>\n",
              "    </tr>\n",
              "  </tbody>\n",
              "</table>\n",
              "</div>"
            ],
            "text/plain": [
              "            Date and Time  Number of Motor Vehicles  ...  hour injury or fatality\n",
              "1845  2018-01-01 08:45:00                       1.0  ...     8                1.0\n",
              "4989  2018-01-03 09:01:00                       2.0  ...     9                0.0\n",
              "11171 2018-02-21 18:50:00                       2.0  ...    18                0.0\n",
              "11685 2018-01-11 17:59:00                       2.0  ...    17                0.0\n",
              "13845 2018-05-28 21:30:00                       2.0  ...    21                3.0\n",
              "\n",
              "[5 rows x 15 columns]"
            ]
          },
          "metadata": {
            "tags": []
          },
          "execution_count": 23
        }
      ]
    },
    {
      "cell_type": "code",
      "metadata": {
        "id": "MC-maIimQNDV"
      },
      "source": [
        "df.drop(['Harmful Description'], axis=1, inplace=True)"
      ],
      "execution_count": 24,
      "outputs": []
    },
    {
      "cell_type": "code",
      "metadata": {
        "colab": {
          "base_uri": "https://localhost:8080/"
        },
        "id": "-Jnb3BzMQd50",
        "outputId": "4f9d228d-e3b3-441b-be68-c40ce3eae7ed"
      },
      "source": [
        "df['Illumination Description'].unique()"
      ],
      "execution_count": 25,
      "outputs": [
        {
          "output_type": "execute_result",
          "data": {
            "text/plain": [
              "array(['DAYLIGHT', 'DARK - LIGHTED', 'DARK - NOT LIGHTED', 'DUSK',\n",
              "       'OTHER', 'UNKNOWN', 'DAWN', 'Dark-Unknown Lighting'], dtype=object)"
            ]
          },
          "metadata": {
            "tags": []
          },
          "execution_count": 25
        }
      ]
    },
    {
      "cell_type": "code",
      "metadata": {
        "colab": {
          "base_uri": "https://localhost:8080/",
          "height": 319
        },
        "id": "-IhG4CEbQyxA",
        "outputId": "6061025c-6264-4152-986f-b78febb0bc36"
      },
      "source": [
        "df['Illumination Description'] = le.fit_transform(df['Illumination Description'])\r\n",
        "df.head()"
      ],
      "execution_count": 26,
      "outputs": [
        {
          "output_type": "execute_result",
          "data": {
            "text/html": [
              "<div>\n",
              "<style scoped>\n",
              "    .dataframe tbody tr th:only-of-type {\n",
              "        vertical-align: middle;\n",
              "    }\n",
              "\n",
              "    .dataframe tbody tr th {\n",
              "        vertical-align: top;\n",
              "    }\n",
              "\n",
              "    .dataframe thead th {\n",
              "        text-align: right;\n",
              "    }\n",
              "</style>\n",
              "<table border=\"1\" class=\"dataframe\">\n",
              "  <thead>\n",
              "    <tr style=\"text-align: right;\">\n",
              "      <th></th>\n",
              "      <th>Date and Time</th>\n",
              "      <th>Number of Motor Vehicles</th>\n",
              "      <th>Hit and Run</th>\n",
              "      <th>Collision Type Description</th>\n",
              "      <th>Weather Description</th>\n",
              "      <th>Illumination Description</th>\n",
              "      <th>Latitude</th>\n",
              "      <th>Longitude</th>\n",
              "      <th>year</th>\n",
              "      <th>date</th>\n",
              "      <th>month</th>\n",
              "      <th>time</th>\n",
              "      <th>hour</th>\n",
              "      <th>injury or fatality</th>\n",
              "    </tr>\n",
              "  </thead>\n",
              "  <tbody>\n",
              "    <tr>\n",
              "      <th>1845</th>\n",
              "      <td>2018-01-01 08:45:00</td>\n",
              "      <td>1.0</td>\n",
              "      <td>0</td>\n",
              "      <td>NOT COLLISION W/MOTOR VEHICLE-TRANSPORT</td>\n",
              "      <td>CLEAR</td>\n",
              "      <td>3</td>\n",
              "      <td>36.2718</td>\n",
              "      <td>-86.7615</td>\n",
              "      <td>2018</td>\n",
              "      <td>2018-01-01</td>\n",
              "      <td>1</td>\n",
              "      <td>08:45:00</td>\n",
              "      <td>8</td>\n",
              "      <td>1.0</td>\n",
              "    </tr>\n",
              "    <tr>\n",
              "      <th>4989</th>\n",
              "      <td>2018-01-03 09:01:00</td>\n",
              "      <td>2.0</td>\n",
              "      <td>0</td>\n",
              "      <td>Front to Rear</td>\n",
              "      <td>CLEAR</td>\n",
              "      <td>3</td>\n",
              "      <td>36.1404</td>\n",
              "      <td>-86.8179</td>\n",
              "      <td>2018</td>\n",
              "      <td>2018-01-03</td>\n",
              "      <td>1</td>\n",
              "      <td>09:01:00</td>\n",
              "      <td>9</td>\n",
              "      <td>0.0</td>\n",
              "    </tr>\n",
              "    <tr>\n",
              "      <th>11171</th>\n",
              "      <td>2018-02-21 18:50:00</td>\n",
              "      <td>2.0</td>\n",
              "      <td>0</td>\n",
              "      <td>SIDESWIPE - SAME DIRECTION</td>\n",
              "      <td>CLOUDY</td>\n",
              "      <td>0</td>\n",
              "      <td>36.0968</td>\n",
              "      <td>-86.7085</td>\n",
              "      <td>2018</td>\n",
              "      <td>2018-02-21</td>\n",
              "      <td>2</td>\n",
              "      <td>18:50:00</td>\n",
              "      <td>18</td>\n",
              "      <td>0.0</td>\n",
              "    </tr>\n",
              "    <tr>\n",
              "      <th>11685</th>\n",
              "      <td>2018-01-11 17:59:00</td>\n",
              "      <td>2.0</td>\n",
              "      <td>0</td>\n",
              "      <td>ANGLE</td>\n",
              "      <td>CLOUDY</td>\n",
              "      <td>0</td>\n",
              "      <td>36.1383</td>\n",
              "      <td>-86.7785</td>\n",
              "      <td>2018</td>\n",
              "      <td>2018-01-11</td>\n",
              "      <td>1</td>\n",
              "      <td>17:59:00</td>\n",
              "      <td>17</td>\n",
              "      <td>0.0</td>\n",
              "    </tr>\n",
              "    <tr>\n",
              "      <th>13845</th>\n",
              "      <td>2018-05-28 21:30:00</td>\n",
              "      <td>2.0</td>\n",
              "      <td>0</td>\n",
              "      <td>ANGLE</td>\n",
              "      <td>CLEAR</td>\n",
              "      <td>0</td>\n",
              "      <td>36.1509</td>\n",
              "      <td>-86.7706</td>\n",
              "      <td>2018</td>\n",
              "      <td>2018-05-28</td>\n",
              "      <td>5</td>\n",
              "      <td>21:30:00</td>\n",
              "      <td>21</td>\n",
              "      <td>3.0</td>\n",
              "    </tr>\n",
              "  </tbody>\n",
              "</table>\n",
              "</div>"
            ],
            "text/plain": [
              "            Date and Time  Number of Motor Vehicles  ...  hour injury or fatality\n",
              "1845  2018-01-01 08:45:00                       1.0  ...     8                1.0\n",
              "4989  2018-01-03 09:01:00                       2.0  ...     9                0.0\n",
              "11171 2018-02-21 18:50:00                       2.0  ...    18                0.0\n",
              "11685 2018-01-11 17:59:00                       2.0  ...    17                0.0\n",
              "13845 2018-05-28 21:30:00                       2.0  ...    21                3.0\n",
              "\n",
              "[5 rows x 14 columns]"
            ]
          },
          "metadata": {
            "tags": []
          },
          "execution_count": 26
        }
      ]
    },
    {
      "cell_type": "code",
      "metadata": {
        "colab": {
          "base_uri": "https://localhost:8080/",
          "height": 316
        },
        "id": "jy_-gioNPkfI",
        "outputId": "02e07130-1aaa-4dd9-f0ce-2b0f7f69aab2"
      },
      "source": [
        "df.hist(['month'])"
      ],
      "execution_count": 27,
      "outputs": [
        {
          "output_type": "execute_result",
          "data": {
            "text/plain": [
              "array([[<matplotlib.axes._subplots.AxesSubplot object at 0x7f0dc5e612e8>]],\n",
              "      dtype=object)"
            ]
          },
          "metadata": {
            "tags": []
          },
          "execution_count": 27
        },
        {
          "output_type": "display_data",
          "data": {
            "image/png": "[encoded data removed]",
            "text/plain": [
              "<Figure size 432x288 with 1 Axes>"
            ]
          },
          "metadata": {
            "tags": [],
            "needs_background": "light"
          }
        }
      ]
    },
    {
      "cell_type": "code",
      "metadata": {
        "colab": {
          "base_uri": "https://localhost:8080/",
          "height": 316
        },
        "id": "rPtfOD2nYKHV",
        "outputId": "8dd5b6f1-ec85-441c-c8b5-e7e22c88b525"
      },
      "source": [
        "df.hist(['hour'])"
      ],
      "execution_count": 28,
      "outputs": [
        {
          "output_type": "execute_result",
          "data": {
            "text/plain": [
              "array([[<matplotlib.axes._subplots.AxesSubplot object at 0x7f0dc5ae3b38>]],\n",
              "      dtype=object)"
            ]
          },
          "metadata": {
            "tags": []
          },
          "execution_count": 28
        },
        {
          "output_type": "display_data",
          "data": {
            "image/png": "[encoded data removed]",
            "text/plain": [
              "<Figure size 432x288 with 1 Axes>"
            ]
          },
          "metadata": {
            "tags": [],
            "needs_background": "light"
          }
        }
      ]
    },
    {
      "cell_type": "code",
      "metadata": {
        "id": "OQgdB0wqaFMG"
      },
      "source": [
        "df['day of week'] = df['Date and Time'].dt.dayofweek"
      ],
      "execution_count": 29,
      "outputs": []
    },
    {
      "cell_type": "code",
      "metadata": {
        "colab": {
          "base_uri": "https://localhost:8080/",
          "height": 319
        },
        "id": "xc26QUWUaJq3",
        "outputId": "a8135f23-289a-4105-e325-ecf8ef5cf48b"
      },
      "source": [
        "df.head()"
      ],
      "execution_count": 30,
      "outputs": [
        {
          "output_type": "execute_result",
          "data": {
            "text/html": [
              "<div>\n",
              "<style scoped>\n",
              "    .dataframe tbody tr th:only-of-type {\n",
              "        vertical-align: middle;\n",
              "    }\n",
              "\n",
              "    .dataframe tbody tr th {\n",
              "        vertical-align: top;\n",
              "    }\n",
              "\n",
              "    .dataframe thead th {\n",
              "        text-align: right;\n",
              "    }\n",
              "</style>\n",
              "<table border=\"1\" class=\"dataframe\">\n",
              "  <thead>\n",
              "    <tr style=\"text-align: right;\">\n",
              "      <th></th>\n",
              "      <th>Date and Time</th>\n",
              "      <th>Number of Motor Vehicles</th>\n",
              "      <th>Hit and Run</th>\n",
              "      <th>Collision Type Description</th>\n",
              "      <th>Weather Description</th>\n",
              "      <th>Illumination Description</th>\n",
              "      <th>Latitude</th>\n",
              "      <th>Longitude</th>\n",
              "      <th>year</th>\n",
              "      <th>date</th>\n",
              "      <th>month</th>\n",
              "      <th>time</th>\n",
              "      <th>hour</th>\n",
              "      <th>injury or fatality</th>\n",
              "      <th>day of week</th>\n",
              "    </tr>\n",
              "  </thead>\n",
              "  <tbody>\n",
              "    <tr>\n",
              "      <th>1845</th>\n",
              "      <td>2018-01-01 08:45:00</td>\n",
              "      <td>1.0</td>\n",
              "      <td>0</td>\n",
              "      <td>NOT COLLISION W/MOTOR VEHICLE-TRANSPORT</td>\n",
              "      <td>CLEAR</td>\n",
              "      <td>3</td>\n",
              "      <td>36.2718</td>\n",
              "      <td>-86.7615</td>\n",
              "      <td>2018</td>\n",
              "      <td>2018-01-01</td>\n",
              "      <td>1</td>\n",
              "      <td>08:45:00</td>\n",
              "      <td>8</td>\n",
              "      <td>1.0</td>\n",
              "      <td>0</td>\n",
              "    </tr>\n",
              "    <tr>\n",
              "      <th>4989</th>\n",
              "      <td>2018-01-03 09:01:00</td>\n",
              "      <td>2.0</td>\n",
              "      <td>0</td>\n",
              "      <td>Front to Rear</td>\n",
              "      <td>CLEAR</td>\n",
              "      <td>3</td>\n",
              "      <td>36.1404</td>\n",
              "      <td>-86.8179</td>\n",
              "      <td>2018</td>\n",
              "      <td>2018-01-03</td>\n",
              "      <td>1</td>\n",
              "      <td>09:01:00</td>\n",
              "      <td>9</td>\n",
              "      <td>0.0</td>\n",
              "      <td>2</td>\n",
              "    </tr>\n",
              "    <tr>\n",
              "      <th>11171</th>\n",
              "      <td>2018-02-21 18:50:00</td>\n",
              "      <td>2.0</td>\n",
              "      <td>0</td>\n",
              "      <td>SIDESWIPE - SAME DIRECTION</td>\n",
              "      <td>CLOUDY</td>\n",
              "      <td>0</td>\n",
              "      <td>36.0968</td>\n",
              "      <td>-86.7085</td>\n",
              "      <td>2018</td>\n",
              "      <td>2018-02-21</td>\n",
              "      <td>2</td>\n",
              "      <td>18:50:00</td>\n",
              "      <td>18</td>\n",
              "      <td>0.0</td>\n",
              "      <td>2</td>\n",
              "    </tr>\n",
              "    <tr>\n",
              "      <th>11685</th>\n",
              "      <td>2018-01-11 17:59:00</td>\n",
              "      <td>2.0</td>\n",
              "      <td>0</td>\n",
              "      <td>ANGLE</td>\n",
              "      <td>CLOUDY</td>\n",
              "      <td>0</td>\n",
              "      <td>36.1383</td>\n",
              "      <td>-86.7785</td>\n",
              "      <td>2018</td>\n",
              "      <td>2018-01-11</td>\n",
              "      <td>1</td>\n",
              "      <td>17:59:00</td>\n",
              "      <td>17</td>\n",
              "      <td>0.0</td>\n",
              "      <td>3</td>\n",
              "    </tr>\n",
              "    <tr>\n",
              "      <th>13845</th>\n",
              "      <td>2018-05-28 21:30:00</td>\n",
              "      <td>2.0</td>\n",
              "      <td>0</td>\n",
              "      <td>ANGLE</td>\n",
              "      <td>CLEAR</td>\n",
              "      <td>0</td>\n",
              "      <td>36.1509</td>\n",
              "      <td>-86.7706</td>\n",
              "      <td>2018</td>\n",
              "      <td>2018-05-28</td>\n",
              "      <td>5</td>\n",
              "      <td>21:30:00</td>\n",
              "      <td>21</td>\n",
              "      <td>3.0</td>\n",
              "      <td>0</td>\n",
              "    </tr>\n",
              "  </tbody>\n",
              "</table>\n",
              "</div>"
            ],
            "text/plain": [
              "            Date and Time  ...  day of week\n",
              "1845  2018-01-01 08:45:00  ...            0\n",
              "4989  2018-01-03 09:01:00  ...            2\n",
              "11171 2018-02-21 18:50:00  ...            2\n",
              "11685 2018-01-11 17:59:00  ...            3\n",
              "13845 2018-05-28 21:30:00  ...            0\n",
              "\n",
              "[5 rows x 15 columns]"
            ]
          },
          "metadata": {
            "tags": []
          },
          "execution_count": 30
        }
      ]
    },
    {
      "cell_type": "code",
      "metadata": {
        "colab": {
          "base_uri": "https://localhost:8080/"
        },
        "id": "DwG2-bPyaN3k",
        "outputId": "aba46f92-d045-4958-f084-0e761ac11b33"
      },
      "source": [
        "df['day of week'].value_counts()"
      ],
      "execution_count": 31,
      "outputs": [
        {
          "output_type": "execute_result",
          "data": {
            "text/plain": [
              "4    5966\n",
              "3    5431\n",
              "1    5235\n",
              "2    5080\n",
              "0    4932\n",
              "5    4128\n",
              "6    3253\n",
              "Name: day of week, dtype: int64"
            ]
          },
          "metadata": {
            "tags": []
          },
          "execution_count": 31
        }
      ]
    },
    {
      "cell_type": "code",
      "metadata": {
        "colab": {
          "base_uri": "https://localhost:8080/",
          "height": 316
        },
        "id": "sBpnF0JOaSjG",
        "outputId": "360a5218-e55c-401d-c386-d68162041f83"
      },
      "source": [
        "df.hist(['day of week'])"
      ],
      "execution_count": 32,
      "outputs": [
        {
          "output_type": "execute_result",
          "data": {
            "text/plain": [
              "array([[<matplotlib.axes._subplots.AxesSubplot object at 0x7f0db538b978>]],\n",
              "      dtype=object)"
            ]
          },
          "metadata": {
            "tags": []
          },
          "execution_count": 32
        },
        {
          "output_type": "display_data",
          "data": {
            "image/png": "[encoded data removed]",
            "text/plain": [
              "<Figure size 432x288 with 1 Axes>"
            ]
          },
          "metadata": {
            "tags": [],
            "needs_background": "light"
          }
        }
      ]
    },
    {
      "cell_type": "code",
      "metadata": {
        "id": "sXLMKMcBanjk"
      },
      "source": [
        "import holidays        \r\n",
        "US_holidays = holidays.CountryHoliday('US', prov=None, state='TN')\r\n",
        "df['holiday'] = df['date'].map(lambda x: x in US_holidays).astype(int)"
      ],
      "execution_count": 33,
      "outputs": []
    },
    {
      "cell_type": "code",
      "metadata": {
        "colab": {
          "base_uri": "https://localhost:8080/",
          "height": 404
        },
        "id": "iXNJZwJsa9XR",
        "outputId": "d42ea69d-c52c-4c68-8e7e-69db89bc0834"
      },
      "source": [
        "df.head()"
      ],
      "execution_count": 34,
      "outputs": [
        {
          "output_type": "execute_result",
          "data": {
            "text/html": [
              "<div>\n",
              "<style scoped>\n",
              "    .dataframe tbody tr th:only-of-type {\n",
              "        vertical-align: middle;\n",
              "    }\n",
              "\n",
              "    .dataframe tbody tr th {\n",
              "        vertical-align: top;\n",
              "    }\n",
              "\n",
              "    .dataframe thead th {\n",
              "        text-align: right;\n",
              "    }\n",
              "</style>\n",
              "<table border=\"1\" class=\"dataframe\">\n",
              "  <thead>\n",
              "    <tr style=\"text-align: right;\">\n",
              "      <th></th>\n",
              "      <th>Date and Time</th>\n",
              "      <th>Number of Motor Vehicles</th>\n",
              "      <th>Hit and Run</th>\n",
              "      <th>Collision Type Description</th>\n",
              "      <th>Weather Description</th>\n",
              "      <th>Illumination Description</th>\n",
              "      <th>Latitude</th>\n",
              "      <th>Longitude</th>\n",
              "      <th>year</th>\n",
              "      <th>date</th>\n",
              "      <th>month</th>\n",
              "      <th>time</th>\n",
              "      <th>hour</th>\n",
              "      <th>injury or fatality</th>\n",
              "      <th>day of week</th>\n",
              "      <th>holiday</th>\n",
              "    </tr>\n",
              "  </thead>\n",
              "  <tbody>\n",
              "    <tr>\n",
              "      <th>1845</th>\n",
              "      <td>2018-01-01 08:45:00</td>\n",
              "      <td>1.0</td>\n",
              "      <td>0</td>\n",
              "      <td>NOT COLLISION W/MOTOR VEHICLE-TRANSPORT</td>\n",
              "      <td>CLEAR</td>\n",
              "      <td>3</td>\n",
              "      <td>36.2718</td>\n",
              "      <td>-86.7615</td>\n",
              "      <td>2018</td>\n",
              "      <td>2018-01-01</td>\n",
              "      <td>1</td>\n",
              "      <td>08:45:00</td>\n",
              "      <td>8</td>\n",
              "      <td>1.0</td>\n",
              "      <td>0</td>\n",
              "      <td>1</td>\n",
              "    </tr>\n",
              "    <tr>\n",
              "      <th>4989</th>\n",
              "      <td>2018-01-03 09:01:00</td>\n",
              "      <td>2.0</td>\n",
              "      <td>0</td>\n",
              "      <td>Front to Rear</td>\n",
              "      <td>CLEAR</td>\n",
              "      <td>3</td>\n",
              "      <td>36.1404</td>\n",
              "      <td>-86.8179</td>\n",
              "      <td>2018</td>\n",
              "      <td>2018-01-03</td>\n",
              "      <td>1</td>\n",
              "      <td>09:01:00</td>\n",
              "      <td>9</td>\n",
              "      <td>0.0</td>\n",
              "      <td>2</td>\n",
              "      <td>0</td>\n",
              "    </tr>\n",
              "    <tr>\n",
              "      <th>11171</th>\n",
              "      <td>2018-02-21 18:50:00</td>\n",
              "      <td>2.0</td>\n",
              "      <td>0</td>\n",
              "      <td>SIDESWIPE - SAME DIRECTION</td>\n",
              "      <td>CLOUDY</td>\n",
              "      <td>0</td>\n",
              "      <td>36.0968</td>\n",
              "      <td>-86.7085</td>\n",
              "      <td>2018</td>\n",
              "      <td>2018-02-21</td>\n",
              "      <td>2</td>\n",
              "      <td>18:50:00</td>\n",
              "      <td>18</td>\n",
              "      <td>0.0</td>\n",
              "      <td>2</td>\n",
              "      <td>0</td>\n",
              "    </tr>\n",
              "    <tr>\n",
              "      <th>11685</th>\n",
              "      <td>2018-01-11 17:59:00</td>\n",
              "      <td>2.0</td>\n",
              "      <td>0</td>\n",
              "      <td>ANGLE</td>\n",
              "      <td>CLOUDY</td>\n",
              "      <td>0</td>\n",
              "      <td>36.1383</td>\n",
              "      <td>-86.7785</td>\n",
              "      <td>2018</td>\n",
              "      <td>2018-01-11</td>\n",
              "      <td>1</td>\n",
              "      <td>17:59:00</td>\n",
              "      <td>17</td>\n",
              "      <td>0.0</td>\n",
              "      <td>3</td>\n",
              "      <td>0</td>\n",
              "    </tr>\n",
              "    <tr>\n",
              "      <th>13845</th>\n",
              "      <td>2018-05-28 21:30:00</td>\n",
              "      <td>2.0</td>\n",
              "      <td>0</td>\n",
              "      <td>ANGLE</td>\n",
              "      <td>CLEAR</td>\n",
              "      <td>0</td>\n",
              "      <td>36.1509</td>\n",
              "      <td>-86.7706</td>\n",
              "      <td>2018</td>\n",
              "      <td>2018-05-28</td>\n",
              "      <td>5</td>\n",
              "      <td>21:30:00</td>\n",
              "      <td>21</td>\n",
              "      <td>3.0</td>\n",
              "      <td>0</td>\n",
              "      <td>1</td>\n",
              "    </tr>\n",
              "  </tbody>\n",
              "</table>\n",
              "</div>"
            ],
            "text/plain": [
              "            Date and Time  Number of Motor Vehicles  ...  day of week holiday\n",
              "1845  2018-01-01 08:45:00                       1.0  ...            0       1\n",
              "4989  2018-01-03 09:01:00                       2.0  ...            2       0\n",
              "11171 2018-02-21 18:50:00                       2.0  ...            2       0\n",
              "11685 2018-01-11 17:59:00                       2.0  ...            3       0\n",
              "13845 2018-05-28 21:30:00                       2.0  ...            0       1\n",
              "\n",
              "[5 rows x 16 columns]"
            ]
          },
          "metadata": {
            "tags": []
          },
          "execution_count": 34
        }
      ]
    },
    {
      "cell_type": "code",
      "metadata": {
        "id": "FzsInaZObBfw"
      },
      "source": [
        "df.drop(['Date and Time'], axis=1, inplace=True)"
      ],
      "execution_count": 35,
      "outputs": []
    },
    {
      "cell_type": "code",
      "metadata": {
        "colab": {
          "base_uri": "https://localhost:8080/",
          "height": 319
        },
        "id": "fZQDsFinbTvp",
        "outputId": "605e1cd2-d238-45b3-8c8d-0b239371f6d9"
      },
      "source": [
        "df.head()"
      ],
      "execution_count": 36,
      "outputs": [
        {
          "output_type": "execute_result",
          "data": {
            "text/html": [
              "<div>\n",
              "<style scoped>\n",
              "    .dataframe tbody tr th:only-of-type {\n",
              "        vertical-align: middle;\n",
              "    }\n",
              "\n",
              "    .dataframe tbody tr th {\n",
              "        vertical-align: top;\n",
              "    }\n",
              "\n",
              "    .dataframe thead th {\n",
              "        text-align: right;\n",
              "    }\n",
              "</style>\n",
              "<table border=\"1\" class=\"dataframe\">\n",
              "  <thead>\n",
              "    <tr style=\"text-align: right;\">\n",
              "      <th></th>\n",
              "      <th>Number of Motor Vehicles</th>\n",
              "      <th>Hit and Run</th>\n",
              "      <th>Collision Type Description</th>\n",
              "      <th>Weather Description</th>\n",
              "      <th>Illumination Description</th>\n",
              "      <th>Latitude</th>\n",
              "      <th>Longitude</th>\n",
              "      <th>year</th>\n",
              "      <th>date</th>\n",
              "      <th>month</th>\n",
              "      <th>time</th>\n",
              "      <th>hour</th>\n",
              "      <th>injury or fatality</th>\n",
              "      <th>day of week</th>\n",
              "      <th>holiday</th>\n",
              "    </tr>\n",
              "  </thead>\n",
              "  <tbody>\n",
              "    <tr>\n",
              "      <th>1845</th>\n",
              "      <td>1.0</td>\n",
              "      <td>0</td>\n",
              "      <td>NOT COLLISION W/MOTOR VEHICLE-TRANSPORT</td>\n",
              "      <td>CLEAR</td>\n",
              "      <td>3</td>\n",
              "      <td>36.2718</td>\n",
              "      <td>-86.7615</td>\n",
              "      <td>2018</td>\n",
              "      <td>2018-01-01</td>\n",
              "      <td>1</td>\n",
              "      <td>08:45:00</td>\n",
              "      <td>8</td>\n",
              "      <td>1.0</td>\n",
              "      <td>0</td>\n",
              "      <td>1</td>\n",
              "    </tr>\n",
              "    <tr>\n",
              "      <th>4989</th>\n",
              "      <td>2.0</td>\n",
              "      <td>0</td>\n",
              "      <td>Front to Rear</td>\n",
              "      <td>CLEAR</td>\n",
              "      <td>3</td>\n",
              "      <td>36.1404</td>\n",
              "      <td>-86.8179</td>\n",
              "      <td>2018</td>\n",
              "      <td>2018-01-03</td>\n",
              "      <td>1</td>\n",
              "      <td>09:01:00</td>\n",
              "      <td>9</td>\n",
              "      <td>0.0</td>\n",
              "      <td>2</td>\n",
              "      <td>0</td>\n",
              "    </tr>\n",
              "    <tr>\n",
              "      <th>11171</th>\n",
              "      <td>2.0</td>\n",
              "      <td>0</td>\n",
              "      <td>SIDESWIPE - SAME DIRECTION</td>\n",
              "      <td>CLOUDY</td>\n",
              "      <td>0</td>\n",
              "      <td>36.0968</td>\n",
              "      <td>-86.7085</td>\n",
              "      <td>2018</td>\n",
              "      <td>2018-02-21</td>\n",
              "      <td>2</td>\n",
              "      <td>18:50:00</td>\n",
              "      <td>18</td>\n",
              "      <td>0.0</td>\n",
              "      <td>2</td>\n",
              "      <td>0</td>\n",
              "    </tr>\n",
              "    <tr>\n",
              "      <th>11685</th>\n",
              "      <td>2.0</td>\n",
              "      <td>0</td>\n",
              "      <td>ANGLE</td>\n",
              "      <td>CLOUDY</td>\n",
              "      <td>0</td>\n",
              "      <td>36.1383</td>\n",
              "      <td>-86.7785</td>\n",
              "      <td>2018</td>\n",
              "      <td>2018-01-11</td>\n",
              "      <td>1</td>\n",
              "      <td>17:59:00</td>\n",
              "      <td>17</td>\n",
              "      <td>0.0</td>\n",
              "      <td>3</td>\n",
              "      <td>0</td>\n",
              "    </tr>\n",
              "    <tr>\n",
              "      <th>13845</th>\n",
              "      <td>2.0</td>\n",
              "      <td>0</td>\n",
              "      <td>ANGLE</td>\n",
              "      <td>CLEAR</td>\n",
              "      <td>0</td>\n",
              "      <td>36.1509</td>\n",
              "      <td>-86.7706</td>\n",
              "      <td>2018</td>\n",
              "      <td>2018-05-28</td>\n",
              "      <td>5</td>\n",
              "      <td>21:30:00</td>\n",
              "      <td>21</td>\n",
              "      <td>3.0</td>\n",
              "      <td>0</td>\n",
              "      <td>1</td>\n",
              "    </tr>\n",
              "  </tbody>\n",
              "</table>\n",
              "</div>"
            ],
            "text/plain": [
              "       Number of Motor Vehicles  Hit and Run  ... day of week holiday\n",
              "1845                        1.0            0  ...           0       1\n",
              "4989                        2.0            0  ...           2       0\n",
              "11171                       2.0            0  ...           2       0\n",
              "11685                       2.0            0  ...           3       0\n",
              "13845                       2.0            0  ...           0       1\n",
              "\n",
              "[5 rows x 15 columns]"
            ]
          },
          "metadata": {
            "tags": []
          },
          "execution_count": 36
        }
      ]
    },
    {
      "cell_type": "code",
      "metadata": {
        "colab": {
          "base_uri": "https://localhost:8080/"
        },
        "id": "ROwJY658oNTq",
        "outputId": "9a589c48-7df5-4bdc-ad34-8fe28c42001c"
      },
      "source": [
        "df['year'].unique()"
      ],
      "execution_count": 37,
      "outputs": [
        {
          "output_type": "execute_result",
          "data": {
            "text/plain": [
              "array(['2018'], dtype=object)"
            ]
          },
          "metadata": {
            "tags": []
          },
          "execution_count": 37
        }
      ]
    },
    {
      "cell_type": "code",
      "metadata": {
        "colab": {
          "base_uri": "https://localhost:8080/",
          "height": 251
        },
        "id": "4qECBRempmur",
        "outputId": "14afaf93-4284-4e60-e2f6-5ce59874e9e3"
      },
      "source": [
        "df.drop(['date'], axis=1, inplace=True)\r\n",
        "df.head()"
      ],
      "execution_count": 38,
      "outputs": [
        {
          "output_type": "execute_result",
          "data": {
            "text/html": [
              "<div>\n",
              "<style scoped>\n",
              "    .dataframe tbody tr th:only-of-type {\n",
              "        vertical-align: middle;\n",
              "    }\n",
              "\n",
              "    .dataframe tbody tr th {\n",
              "        vertical-align: top;\n",
              "    }\n",
              "\n",
              "    .dataframe thead th {\n",
              "        text-align: right;\n",
              "    }\n",
              "</style>\n",
              "<table border=\"1\" class=\"dataframe\">\n",
              "  <thead>\n",
              "    <tr style=\"text-align: right;\">\n",
              "      <th></th>\n",
              "      <th>Number of Motor Vehicles</th>\n",
              "      <th>Hit and Run</th>\n",
              "      <th>Collision Type Description</th>\n",
              "      <th>Weather Description</th>\n",
              "      <th>Illumination Description</th>\n",
              "      <th>Latitude</th>\n",
              "      <th>Longitude</th>\n",
              "      <th>year</th>\n",
              "      <th>month</th>\n",
              "      <th>time</th>\n",
              "      <th>hour</th>\n",
              "      <th>injury or fatality</th>\n",
              "      <th>day of week</th>\n",
              "      <th>holiday</th>\n",
              "    </tr>\n",
              "  </thead>\n",
              "  <tbody>\n",
              "    <tr>\n",
              "      <th>1845</th>\n",
              "      <td>1.0</td>\n",
              "      <td>0</td>\n",
              "      <td>NOT COLLISION W/MOTOR VEHICLE-TRANSPORT</td>\n",
              "      <td>CLEAR</td>\n",
              "      <td>3</td>\n",
              "      <td>36.2718</td>\n",
              "      <td>-86.7615</td>\n",
              "      <td>2018</td>\n",
              "      <td>1</td>\n",
              "      <td>08:45:00</td>\n",
              "      <td>8</td>\n",
              "      <td>1.0</td>\n",
              "      <td>0</td>\n",
              "      <td>1</td>\n",
              "    </tr>\n",
              "    <tr>\n",
              "      <th>4989</th>\n",
              "      <td>2.0</td>\n",
              "      <td>0</td>\n",
              "      <td>Front to Rear</td>\n",
              "      <td>CLEAR</td>\n",
              "      <td>3</td>\n",
              "      <td>36.1404</td>\n",
              "      <td>-86.8179</td>\n",
              "      <td>2018</td>\n",
              "      <td>1</td>\n",
              "      <td>09:01:00</td>\n",
              "      <td>9</td>\n",
              "      <td>0.0</td>\n",
              "      <td>2</td>\n",
              "      <td>0</td>\n",
              "    </tr>\n",
              "    <tr>\n",
              "      <th>11171</th>\n",
              "      <td>2.0</td>\n",
              "      <td>0</td>\n",
              "      <td>SIDESWIPE - SAME DIRECTION</td>\n",
              "      <td>CLOUDY</td>\n",
              "      <td>0</td>\n",
              "      <td>36.0968</td>\n",
              "      <td>-86.7085</td>\n",
              "      <td>2018</td>\n",
              "      <td>2</td>\n",
              "      <td>18:50:00</td>\n",
              "      <td>18</td>\n",
              "      <td>0.0</td>\n",
              "      <td>2</td>\n",
              "      <td>0</td>\n",
              "    </tr>\n",
              "    <tr>\n",
              "      <th>11685</th>\n",
              "      <td>2.0</td>\n",
              "      <td>0</td>\n",
              "      <td>ANGLE</td>\n",
              "      <td>CLOUDY</td>\n",
              "      <td>0</td>\n",
              "      <td>36.1383</td>\n",
              "      <td>-86.7785</td>\n",
              "      <td>2018</td>\n",
              "      <td>1</td>\n",
              "      <td>17:59:00</td>\n",
              "      <td>17</td>\n",
              "      <td>0.0</td>\n",
              "      <td>3</td>\n",
              "      <td>0</td>\n",
              "    </tr>\n",
              "    <tr>\n",
              "      <th>13845</th>\n",
              "      <td>2.0</td>\n",
              "      <td>0</td>\n",
              "      <td>ANGLE</td>\n",
              "      <td>CLEAR</td>\n",
              "      <td>0</td>\n",
              "      <td>36.1509</td>\n",
              "      <td>-86.7706</td>\n",
              "      <td>2018</td>\n",
              "      <td>5</td>\n",
              "      <td>21:30:00</td>\n",
              "      <td>21</td>\n",
              "      <td>3.0</td>\n",
              "      <td>0</td>\n",
              "      <td>1</td>\n",
              "    </tr>\n",
              "  </tbody>\n",
              "</table>\n",
              "</div>"
            ],
            "text/plain": [
              "       Number of Motor Vehicles  Hit and Run  ... day of week holiday\n",
              "1845                        1.0            0  ...           0       1\n",
              "4989                        2.0            0  ...           2       0\n",
              "11171                       2.0            0  ...           2       0\n",
              "11685                       2.0            0  ...           3       0\n",
              "13845                       2.0            0  ...           0       1\n",
              "\n",
              "[5 rows x 14 columns]"
            ]
          },
          "metadata": {
            "tags": []
          },
          "execution_count": 38
        }
      ]
    },
    {
      "cell_type": "code",
      "metadata": {
        "colab": {
          "base_uri": "https://localhost:8080/",
          "height": 251
        },
        "id": "aAfAX_ugtsKA",
        "outputId": "7c865eb1-d283-437d-c611-750e553237e3"
      },
      "source": [
        "df.drop(['time'], axis=1, inplace=True)\r\n",
        "df.head()"
      ],
      "execution_count": 39,
      "outputs": [
        {
          "output_type": "execute_result",
          "data": {
            "text/html": [
              "<div>\n",
              "<style scoped>\n",
              "    .dataframe tbody tr th:only-of-type {\n",
              "        vertical-align: middle;\n",
              "    }\n",
              "\n",
              "    .dataframe tbody tr th {\n",
              "        vertical-align: top;\n",
              "    }\n",
              "\n",
              "    .dataframe thead th {\n",
              "        text-align: right;\n",
              "    }\n",
              "</style>\n",
              "<table border=\"1\" class=\"dataframe\">\n",
              "  <thead>\n",
              "    <tr style=\"text-align: right;\">\n",
              "      <th></th>\n",
              "      <th>Number of Motor Vehicles</th>\n",
              "      <th>Hit and Run</th>\n",
              "      <th>Collision Type Description</th>\n",
              "      <th>Weather Description</th>\n",
              "      <th>Illumination Description</th>\n",
              "      <th>Latitude</th>\n",
              "      <th>Longitude</th>\n",
              "      <th>year</th>\n",
              "      <th>month</th>\n",
              "      <th>hour</th>\n",
              "      <th>injury or fatality</th>\n",
              "      <th>day of week</th>\n",
              "      <th>holiday</th>\n",
              "    </tr>\n",
              "  </thead>\n",
              "  <tbody>\n",
              "    <tr>\n",
              "      <th>1845</th>\n",
              "      <td>1.0</td>\n",
              "      <td>0</td>\n",
              "      <td>NOT COLLISION W/MOTOR VEHICLE-TRANSPORT</td>\n",
              "      <td>CLEAR</td>\n",
              "      <td>3</td>\n",
              "      <td>36.2718</td>\n",
              "      <td>-86.7615</td>\n",
              "      <td>2018</td>\n",
              "      <td>1</td>\n",
              "      <td>8</td>\n",
              "      <td>1.0</td>\n",
              "      <td>0</td>\n",
              "      <td>1</td>\n",
              "    </tr>\n",
              "    <tr>\n",
              "      <th>4989</th>\n",
              "      <td>2.0</td>\n",
              "      <td>0</td>\n",
              "      <td>Front to Rear</td>\n",
              "      <td>CLEAR</td>\n",
              "      <td>3</td>\n",
              "      <td>36.1404</td>\n",
              "      <td>-86.8179</td>\n",
              "      <td>2018</td>\n",
              "      <td>1</td>\n",
              "      <td>9</td>\n",
              "      <td>0.0</td>\n",
              "      <td>2</td>\n",
              "      <td>0</td>\n",
              "    </tr>\n",
              "    <tr>\n",
              "      <th>11171</th>\n",
              "      <td>2.0</td>\n",
              "      <td>0</td>\n",
              "      <td>SIDESWIPE - SAME DIRECTION</td>\n",
              "      <td>CLOUDY</td>\n",
              "      <td>0</td>\n",
              "      <td>36.0968</td>\n",
              "      <td>-86.7085</td>\n",
              "      <td>2018</td>\n",
              "      <td>2</td>\n",
              "      <td>18</td>\n",
              "      <td>0.0</td>\n",
              "      <td>2</td>\n",
              "      <td>0</td>\n",
              "    </tr>\n",
              "    <tr>\n",
              "      <th>11685</th>\n",
              "      <td>2.0</td>\n",
              "      <td>0</td>\n",
              "      <td>ANGLE</td>\n",
              "      <td>CLOUDY</td>\n",
              "      <td>0</td>\n",
              "      <td>36.1383</td>\n",
              "      <td>-86.7785</td>\n",
              "      <td>2018</td>\n",
              "      <td>1</td>\n",
              "      <td>17</td>\n",
              "      <td>0.0</td>\n",
              "      <td>3</td>\n",
              "      <td>0</td>\n",
              "    </tr>\n",
              "    <tr>\n",
              "      <th>13845</th>\n",
              "      <td>2.0</td>\n",
              "      <td>0</td>\n",
              "      <td>ANGLE</td>\n",
              "      <td>CLEAR</td>\n",
              "      <td>0</td>\n",
              "      <td>36.1509</td>\n",
              "      <td>-86.7706</td>\n",
              "      <td>2018</td>\n",
              "      <td>5</td>\n",
              "      <td>21</td>\n",
              "      <td>3.0</td>\n",
              "      <td>0</td>\n",
              "      <td>1</td>\n",
              "    </tr>\n",
              "  </tbody>\n",
              "</table>\n",
              "</div>"
            ],
            "text/plain": [
              "       Number of Motor Vehicles  Hit and Run  ... day of week holiday\n",
              "1845                        1.0            0  ...           0       1\n",
              "4989                        2.0            0  ...           2       0\n",
              "11171                       2.0            0  ...           2       0\n",
              "11685                       2.0            0  ...           3       0\n",
              "13845                       2.0            0  ...           0       1\n",
              "\n",
              "[5 rows x 13 columns]"
            ]
          },
          "metadata": {
            "tags": []
          },
          "execution_count": 39
        }
      ]
    },
    {
      "cell_type": "code",
      "metadata": {
        "colab": {
          "base_uri": "https://localhost:8080/",
          "height": 234
        },
        "id": "xO_eu13Rt3zv",
        "outputId": "690cf4cc-6fbb-46b5-f594-0e16a5d970e1"
      },
      "source": [
        "df.drop(['year'], axis=1, inplace=True)\r\n",
        "df.head()"
      ],
      "execution_count": 40,
      "outputs": [
        {
          "output_type": "execute_result",
          "data": {
            "text/html": [
              "<div>\n",
              "<style scoped>\n",
              "    .dataframe tbody tr th:only-of-type {\n",
              "        vertical-align: middle;\n",
              "    }\n",
              "\n",
              "    .dataframe tbody tr th {\n",
              "        vertical-align: top;\n",
              "    }\n",
              "\n",
              "    .dataframe thead th {\n",
              "        text-align: right;\n",
              "    }\n",
              "</style>\n",
              "<table border=\"1\" class=\"dataframe\">\n",
              "  <thead>\n",
              "    <tr style=\"text-align: right;\">\n",
              "      <th></th>\n",
              "      <th>Number of Motor Vehicles</th>\n",
              "      <th>Hit and Run</th>\n",
              "      <th>Collision Type Description</th>\n",
              "      <th>Weather Description</th>\n",
              "      <th>Illumination Description</th>\n",
              "      <th>Latitude</th>\n",
              "      <th>Longitude</th>\n",
              "      <th>month</th>\n",
              "      <th>hour</th>\n",
              "      <th>injury or fatality</th>\n",
              "      <th>day of week</th>\n",
              "      <th>holiday</th>\n",
              "    </tr>\n",
              "  </thead>\n",
              "  <tbody>\n",
              "    <tr>\n",
              "      <th>1845</th>\n",
              "      <td>1.0</td>\n",
              "      <td>0</td>\n",
              "      <td>NOT COLLISION W/MOTOR VEHICLE-TRANSPORT</td>\n",
              "      <td>CLEAR</td>\n",
              "      <td>3</td>\n",
              "      <td>36.2718</td>\n",
              "      <td>-86.7615</td>\n",
              "      <td>1</td>\n",
              "      <td>8</td>\n",
              "      <td>1.0</td>\n",
              "      <td>0</td>\n",
              "      <td>1</td>\n",
              "    </tr>\n",
              "    <tr>\n",
              "      <th>4989</th>\n",
              "      <td>2.0</td>\n",
              "      <td>0</td>\n",
              "      <td>Front to Rear</td>\n",
              "      <td>CLEAR</td>\n",
              "      <td>3</td>\n",
              "      <td>36.1404</td>\n",
              "      <td>-86.8179</td>\n",
              "      <td>1</td>\n",
              "      <td>9</td>\n",
              "      <td>0.0</td>\n",
              "      <td>2</td>\n",
              "      <td>0</td>\n",
              "    </tr>\n",
              "    <tr>\n",
              "      <th>11171</th>\n",
              "      <td>2.0</td>\n",
              "      <td>0</td>\n",
              "      <td>SIDESWIPE - SAME DIRECTION</td>\n",
              "      <td>CLOUDY</td>\n",
              "      <td>0</td>\n",
              "      <td>36.0968</td>\n",
              "      <td>-86.7085</td>\n",
              "      <td>2</td>\n",
              "      <td>18</td>\n",
              "      <td>0.0</td>\n",
              "      <td>2</td>\n",
              "      <td>0</td>\n",
              "    </tr>\n",
              "    <tr>\n",
              "      <th>11685</th>\n",
              "      <td>2.0</td>\n",
              "      <td>0</td>\n",
              "      <td>ANGLE</td>\n",
              "      <td>CLOUDY</td>\n",
              "      <td>0</td>\n",
              "      <td>36.1383</td>\n",
              "      <td>-86.7785</td>\n",
              "      <td>1</td>\n",
              "      <td>17</td>\n",
              "      <td>0.0</td>\n",
              "      <td>3</td>\n",
              "      <td>0</td>\n",
              "    </tr>\n",
              "    <tr>\n",
              "      <th>13845</th>\n",
              "      <td>2.0</td>\n",
              "      <td>0</td>\n",
              "      <td>ANGLE</td>\n",
              "      <td>CLEAR</td>\n",
              "      <td>0</td>\n",
              "      <td>36.1509</td>\n",
              "      <td>-86.7706</td>\n",
              "      <td>5</td>\n",
              "      <td>21</td>\n",
              "      <td>3.0</td>\n",
              "      <td>0</td>\n",
              "      <td>1</td>\n",
              "    </tr>\n",
              "  </tbody>\n",
              "</table>\n",
              "</div>"
            ],
            "text/plain": [
              "       Number of Motor Vehicles  Hit and Run  ... day of week holiday\n",
              "1845                        1.0            0  ...           0       1\n",
              "4989                        2.0            0  ...           2       0\n",
              "11171                       2.0            0  ...           2       0\n",
              "11685                       2.0            0  ...           3       0\n",
              "13845                       2.0            0  ...           0       1\n",
              "\n",
              "[5 rows x 12 columns]"
            ]
          },
          "metadata": {
            "tags": []
          },
          "execution_count": 40
        }
      ]
    },
    {
      "cell_type": "code",
      "metadata": {
        "id": "Jb8cIHKwb8tn"
      },
      "source": [
        "import seaborn as sns\r\n",
        "import matplotlib.pyplot as plt"
      ],
      "execution_count": 41,
      "outputs": []
    },
    {
      "cell_type": "code",
      "metadata": {
        "colab": {
          "base_uri": "https://localhost:8080/",
          "height": 352
        },
        "id": "AzW9Hzs0dNi8",
        "outputId": "e8d90ec2-5e2d-4fd3-d635-18c7aeaac052"
      },
      "source": [
        "month = df.groupby(['month','injury or fatality'])['month'].count().unstack()\r\n",
        "mon = month.plot(kind = 'bar', stacked = True, figsize=(9,5),\r\n",
        "                   title = 'Month: injury or fatality vs non-injury and non-fatality', \r\n",
        "                   color = ['grey','lightgreen'], alpha = 1.0)\r\n",
        "mon.set_xlabel('Month')\r\n",
        "mon.set_ylabel('# of Accidents')\r\n",
        "mon.legend(['No injury and No fatality', 'injury or fatality'])\r\n",
        "plt.show()"
      ],
      "execution_count": 42,
      "outputs": [
        {
          "output_type": "display_data",
          "data": {
            "image/png": "[encoded data removed]",
            "text/plain": [
              "<Figure size 648x360 with 1 Axes>"
            ]
          },
          "metadata": {
            "tags": [],
            "needs_background": "light"
          }
        }
      ]
    },
    {
      "cell_type": "code",
      "metadata": {
        "colab": {
          "base_uri": "https://localhost:8080/",
          "height": 346
        },
        "id": "ABAjVPOSdglc",
        "outputId": "63eea070-477c-4da5-9f34-d21d009d2c56"
      },
      "source": [
        "day = df.groupby(['day of week','injury or fatality'])['day of week'].count().unstack()\r\n",
        "da = day.plot(kind = 'bar', stacked = True, figsize=(9,5),\r\n",
        "                   title = 'Day: injury or fatality vs non-injury and non-fatality', \r\n",
        "                   color = ['grey','lightgreen'], alpha = 1)\r\n",
        "da.set_xlabel('Day of Week,  Zero is Monday')\r\n",
        "da.set_ylabel('# of Accidents')\r\n",
        "da.legend(['No injury and No fatality', 'injury or fatality'])\r\n",
        "plt.show()"
      ],
      "execution_count": 43,
      "outputs": [
        {
          "output_type": "display_data",
          "data": {
            "image/png": "[encoded data removed]",
            "text/plain": [
              "<Figure size 648x360 with 1 Axes>"
            ]
          },
          "metadata": {
            "tags": [],
            "needs_background": "light"
          }
        }
      ]
    },
    {
      "cell_type": "code",
      "metadata": {
        "colab": {
          "base_uri": "https://localhost:8080/",
          "height": 352
        },
        "id": "OH9K3fC3d1CN",
        "outputId": "2293eba4-41b4-4691-8059-c988c3932477"
      },
      "source": [
        "hour = df.groupby(['hour','injury or fatality'])['hour'].count().unstack()\r\n",
        "ho = hour.plot(kind = 'bar', stacked = True, figsize=(11,5),\r\n",
        "                   title = 'Hour: injury or fatality vs non-injury and non-fatality', \r\n",
        "                   color = ['grey','lightgreen'], alpha = 1.0)\r\n",
        "ho.set_xlabel('Hour of Day')\r\n",
        "ho.set_ylabel('# of Accidents')\r\n",
        "ho.legend(['No injury and No fatality', 'injury or fatality'])\r\n",
        "plt.show()"
      ],
      "execution_count": 44,
      "outputs": [
        {
          "output_type": "display_data",
          "data": {
            "image/png": "[encoded data removed]",
            "text/plain": [
              "<Figure size 792x360 with 1 Axes>"
            ]
          },
          "metadata": {
            "tags": [],
            "needs_background": "light"
          }
        }
      ]
    },
    {
      "cell_type": "code",
      "metadata": {
        "colab": {
          "base_uri": "https://localhost:8080/"
        },
        "id": "RHSqOH0ou9ge",
        "outputId": "0a0b7e38-1f72-4260-a663-b029b2216b61"
      },
      "source": [
        "df['holiday'].value_counts()"
      ],
      "execution_count": 45,
      "outputs": [
        {
          "output_type": "execute_result",
          "data": {
            "text/plain": [
              "0    33230\n",
              "1      795\n",
              "Name: holiday, dtype: int64"
            ]
          },
          "metadata": {
            "tags": []
          },
          "execution_count": 45
        }
      ]
    },
    {
      "cell_type": "code",
      "metadata": {
        "colab": {
          "base_uri": "https://localhost:8080/",
          "height": 346
        },
        "id": "WDBEtDJtS5oz",
        "outputId": "03d579e4-5c9b-44ae-9cd2-4ba72804416b"
      },
      "source": [
        "holiday = df.groupby(['holiday','injury or fatality'])['holiday'].count().unstack()\r\n",
        "hol = holiday.plot(kind = 'bar', stacked = True, figsize=(11,5),\r\n",
        "                   title = 'Holiday: injury or fatality vs non-injury and non-fatality', \r\n",
        "                   color = ['grey','lightgreen'], alpha = 1.0)\r\n",
        "hol.set_xlabel('Holiday')\r\n",
        "hol.set_ylabel('# of Accidents')\r\n",
        "hol.legend(['No injury and No fatality', 'injury or fatality'])\r\n",
        "plt.show()"
      ],
      "execution_count": 46,
      "outputs": [
        {
          "output_type": "display_data",
          "data": {
            "image/png": "[encoded data removed]",
            "text/plain": [
              "<Figure size 792x360 with 1 Axes>"
            ]
          },
          "metadata": {
            "tags": [],
            "needs_background": "light"
          }
        }
      ]
    },
    {
      "cell_type": "code",
      "metadata": {
        "colab": {
          "base_uri": "https://localhost:8080/",
          "height": 356
        },
        "id": "i67KX9EFvLb4",
        "outputId": "785f26a6-cc86-4196-c49e-214ca997ea5d"
      },
      "source": [
        "num_veh = df.groupby(['Number of Motor Vehicles','injury or fatality'])['Number of Motor Vehicles'].count().unstack()\r\n",
        "nv = num_veh.plot(kind = 'bar', stacked = True, figsize=(11,5),\r\n",
        "                   title = 'Number of Vehicles involved: injury or fatality vs non-injury and non-fatality', \r\n",
        "                   color = ['grey','lightgreen'], alpha = 1.0)\r\n",
        "nv.set_xlabel('Number of vehicles')\r\n",
        "nv.set_ylabel('# of Accidents')\r\n",
        "nv.legend(['No injury and No fatality', 'injury or fatality'])\r\n",
        "plt.show()"
      ],
      "execution_count": 47,
      "outputs": [
        {
          "output_type": "display_data",
          "data": {
            "image/png": "[encoded data removed]",
            "text/plain": [
              "<Figure size 792x360 with 1 Axes>"
            ]
          },
          "metadata": {
            "tags": [],
            "needs_background": "light"
          }
        }
      ]
    },
    {
      "cell_type": "code",
      "metadata": {
        "colab": {
          "base_uri": "https://localhost:8080/",
          "height": 346
        },
        "id": "b9o5MSb8vtkS",
        "outputId": "11b393af-3118-4caa-9391-e2704bbc3b23"
      },
      "source": [
        "hit_run = df.groupby(['Hit and Run','injury or fatality'])['Hit and Run'].count().unstack()\r\n",
        "hit = hit_run.plot(kind = 'bar', stacked = True, figsize=(11,5),\r\n",
        "                   title = 'Hit and run?: injury or fatality vs non-injury and non-fatality', \r\n",
        "                   color = ['grey','lightgreen'], alpha = 1.0)\r\n",
        "hit.set_xlabel('Hit and Run?')\r\n",
        "hit.set_ylabel('# of Accidents')\r\n",
        "hit.legend(['No injury and No fatality', 'injury or fatality'])\r\n",
        "plt.show()"
      ],
      "execution_count": 48,
      "outputs": [
        {
          "output_type": "display_data",
          "data": {
            "image/png": "[encoded data removed]",
            "text/plain": [
              "<Figure size 792x360 with 1 Axes>"
            ]
          },
          "metadata": {
            "tags": [],
            "needs_background": "light"
          }
        }
      ]
    },
    {
      "cell_type": "code",
      "metadata": {
        "colab": {
          "base_uri": "https://localhost:8080/",
          "height": 572
        },
        "id": "yklPNGbYv4bA",
        "outputId": "ee2b5513-115a-4a21-9560-b3084fd3628b"
      },
      "source": [
        "coll = df.groupby(['Collision Type Description','injury or fatality'])['Collision Type Description'].count().unstack()\r\n",
        "col = coll.plot(kind = 'bar', stacked = True, figsize=(11,5),\r\n",
        "                   title = 'Collision Type: injury or fatality vs non-injury and non-fatality', \r\n",
        "                   color = ['grey','lightgreen'], alpha = 1.0)\r\n",
        "col.set_xlabel('Collision Type')\r\n",
        "col.set_ylabel('# of Accidents')\r\n",
        "col.legend(['No injury and No fatality', 'injury or fatality'])\r\n",
        "plt.xticks(rotation = 75)\r\n",
        "plt.show()"
      ],
      "execution_count": 49,
      "outputs": [
        {
          "output_type": "display_data",
          "data": {
            "image/png": "[encoded data removed]",
            "text/plain": [
              "<Figure size 792x360 with 1 Axes>"
            ]
          },
          "metadata": {
            "tags": [],
            "needs_background": "light"
          }
        }
      ]
    },
    {
      "cell_type": "code",
      "metadata": {
        "colab": {
          "base_uri": "https://localhost:8080/",
          "height": 694
        },
        "id": "vFHskkerwcUR",
        "outputId": "ec9db888-b440-490b-c001-bf938d9d7659"
      },
      "source": [
        "print(df.groupby(['Weather Description','injury or fatality'])['Weather Description'].count().unstack())\r\n",
        "\r\n",
        "weather = df.groupby(['Weather Description','injury or fatality'])['Weather Description'].count().unstack()\r\n",
        "w = weather.plot(kind = 'bar', stacked = True, figsize=(11,5),\r\n",
        "                   title = 'Weather: injury or fatality vs non-injury and non-fatality', \r\n",
        "                   color = ['grey','lightgreen'], alpha = 1.0)\r\n",
        "w.set_xlabel('Weather')\r\n",
        "w.set_ylabel('# of Accidents')\r\n",
        "w.legend(['No injury and No fatality', 'injury or fatality'])\r\n",
        "plt.show()"
      ],
      "execution_count": 50,
      "outputs": [
        {
          "output_type": "stream",
          "text": [
            "injury or fatality      0.0     1.0     2.0    3.0   ...  7.0   8.0   9.0   10.0\n",
            "Weather Description                                  ...                        \n",
            "BLOWING SNOW            12.0     1.0     NaN    NaN  ...   NaN   NaN   NaN   NaN\n",
            "CLEAR                17253.0  4402.0  1201.0  311.0  ...  11.0   4.0   2.0   2.0\n",
            "CLOUDY                3526.0   952.0   247.0   66.0  ...   NaN   1.0   NaN   NaN\n",
            "FOG                     44.0    15.0     7.0    2.0  ...   NaN   NaN   NaN   NaN\n",
            "OTHER (NARRATIVE)       12.0     7.0     2.0    NaN  ...   NaN   NaN   NaN   NaN\n",
            "RAIN                  3710.0  1070.0   227.0   61.0  ...   NaN   1.0   NaN   1.0\n",
            "SEVERE CROSSWIND         3.0     NaN     NaN    NaN  ...   NaN   NaN   NaN   NaN\n",
            "SLEET, HAIL             43.0    13.0     3.0    2.0  ...   NaN   NaN   NaN   NaN\n",
            "SMOG, SMOKE              3.0     NaN     NaN    NaN  ...   NaN   NaN   NaN   NaN\n",
            "SNOW                   228.0    36.0     8.0    1.0  ...   NaN   NaN   NaN   NaN\n",
            "UNKNOWN                298.0    12.0     1.0    2.0  ...   NaN   NaN   NaN   NaN\n",
            "\n",
            "[11 rows x 11 columns]\n"
          ],
          "name": "stdout"
        },
        {
          "output_type": "display_data",
          "data": {
            "image/png": "[encoded data removed]",
            "text/plain": [
              "<Figure size 792x360 with 1 Axes>"
            ]
          },
          "metadata": {
            "tags": [],
            "needs_background": "light"
          }
        }
      ]
    },
    {
      "cell_type": "code",
      "metadata": {
        "colab": {
          "base_uri": "https://localhost:8080/",
          "height": 346
        },
        "id": "NK3w30wwxNwL",
        "outputId": "8a3edb31-8025-474d-8b33-a9d2e9330fd2"
      },
      "source": [
        "illum = df.groupby(['Illumination Description','injury or fatality'])['Illumination Description'].count().unstack()\r\n",
        "ill = illum.plot(kind = 'bar', stacked = True, figsize=(11,5),\r\n",
        "                   title = 'Illumination: injury or fatality vs non-injury and non-fatality', \r\n",
        "                   color = ['grey','lightgreen'], alpha = 1.0)\r\n",
        "ill.set_xlabel('Illumination')\r\n",
        "ill.set_ylabel('# of Accidents')\r\n",
        "ill.legend(['No injury and No fatality', 'injury or fatality'])\r\n",
        "plt.show()"
      ],
      "execution_count": 51,
      "outputs": [
        {
          "output_type": "display_data",
          "data": {
            "image/png": "[encoded data removed]",
            "text/plain": [
              "<Figure size 792x360 with 1 Axes>"
            ]
          },
          "metadata": {
            "tags": [],
            "needs_background": "light"
          }
        }
      ]
    },
    {
      "cell_type": "code",
      "metadata": {
        "colab": {
          "base_uri": "https://localhost:8080/"
        },
        "id": "a2yS92XVTHcG",
        "outputId": "93e9cdd4-6135-43be-d005-27763bf86f99"
      },
      "source": [
        "df['Collision Type Description'].unique()"
      ],
      "execution_count": 52,
      "outputs": [
        {
          "output_type": "execute_result",
          "data": {
            "text/plain": [
              "array(['NOT COLLISION W/MOTOR VEHICLE-TRANSPORT', 'Front to Rear',\n",
              "       'SIDESWIPE - SAME DIRECTION', 'ANGLE', 'UNKNOWN', 'HEAD-ON',\n",
              "       'OTHER', 'Rear to Side', 'SIDESWIPE - OPPOSITE DIRECTION',\n",
              "       'REAR-TO-REAR'], dtype=object)"
            ]
          },
          "metadata": {
            "tags": []
          },
          "execution_count": 52
        }
      ]
    },
    {
      "cell_type": "code",
      "metadata": {
        "colab": {
          "base_uri": "https://localhost:8080/"
        },
        "id": "tHlkEXlcTSPT",
        "outputId": "44b31b14-01bc-4a4f-c094-835715f0f560"
      },
      "source": [
        "df['Weather Description'].unique()"
      ],
      "execution_count": 53,
      "outputs": [
        {
          "output_type": "execute_result",
          "data": {
            "text/plain": [
              "array(['CLEAR', 'CLOUDY', 'SNOW', 'RAIN', 'SLEET, HAIL',\n",
              "       'OTHER (NARRATIVE)', 'UNKNOWN', 'FOG', 'BLOWING SNOW',\n",
              "       'SEVERE CROSSWIND', 'SMOG, SMOKE'], dtype=object)"
            ]
          },
          "metadata": {
            "tags": []
          },
          "execution_count": 53
        }
      ]
    },
    {
      "cell_type": "code",
      "metadata": {
        "id": "WcrkwuVwTb_N"
      },
      "source": [
        "from sklearn.preprocessing import LabelEncoder\r\n",
        "le = LabelEncoder()"
      ],
      "execution_count": 54,
      "outputs": []
    },
    {
      "cell_type": "code",
      "metadata": {
        "colab": {
          "base_uri": "https://localhost:8080/",
          "height": 214
        },
        "id": "m7k7dBybT7XQ",
        "outputId": "564d2c9b-0a50-4eb1-b0cc-21e31fda560e"
      },
      "source": [
        "df['Collision Type Description'] = le.fit_transform(df['Collision Type Description'])\r\n",
        "df['Weather Description'] = le.fit_transform(df['Weather Description'])\r\n",
        "df.head()"
      ],
      "execution_count": 55,
      "outputs": [
        {
          "output_type": "execute_result",
          "data": {
            "text/html": [
              "<div>\n",
              "<style scoped>\n",
              "    .dataframe tbody tr th:only-of-type {\n",
              "        vertical-align: middle;\n",
              "    }\n",
              "\n",
              "    .dataframe tbody tr th {\n",
              "        vertical-align: top;\n",
              "    }\n",
              "\n",
              "    .dataframe thead th {\n",
              "        text-align: right;\n",
              "    }\n",
              "</style>\n",
              "<table border=\"1\" class=\"dataframe\">\n",
              "  <thead>\n",
              "    <tr style=\"text-align: right;\">\n",
              "      <th></th>\n",
              "      <th>Number of Motor Vehicles</th>\n",
              "      <th>Hit and Run</th>\n",
              "      <th>Collision Type Description</th>\n",
              "      <th>Weather Description</th>\n",
              "      <th>Illumination Description</th>\n",
              "      <th>Latitude</th>\n",
              "      <th>Longitude</th>\n",
              "      <th>month</th>\n",
              "      <th>hour</th>\n",
              "      <th>injury or fatality</th>\n",
              "      <th>day of week</th>\n",
              "      <th>holiday</th>\n",
              "    </tr>\n",
              "  </thead>\n",
              "  <tbody>\n",
              "    <tr>\n",
              "      <th>1845</th>\n",
              "      <td>1.0</td>\n",
              "      <td>0</td>\n",
              "      <td>3</td>\n",
              "      <td>1</td>\n",
              "      <td>3</td>\n",
              "      <td>36.2718</td>\n",
              "      <td>-86.7615</td>\n",
              "      <td>1</td>\n",
              "      <td>8</td>\n",
              "      <td>1.0</td>\n",
              "      <td>0</td>\n",
              "      <td>1</td>\n",
              "    </tr>\n",
              "    <tr>\n",
              "      <th>4989</th>\n",
              "      <td>2.0</td>\n",
              "      <td>0</td>\n",
              "      <td>1</td>\n",
              "      <td>1</td>\n",
              "      <td>3</td>\n",
              "      <td>36.1404</td>\n",
              "      <td>-86.8179</td>\n",
              "      <td>1</td>\n",
              "      <td>9</td>\n",
              "      <td>0.0</td>\n",
              "      <td>2</td>\n",
              "      <td>0</td>\n",
              "    </tr>\n",
              "    <tr>\n",
              "      <th>11171</th>\n",
              "      <td>2.0</td>\n",
              "      <td>0</td>\n",
              "      <td>8</td>\n",
              "      <td>2</td>\n",
              "      <td>0</td>\n",
              "      <td>36.0968</td>\n",
              "      <td>-86.7085</td>\n",
              "      <td>2</td>\n",
              "      <td>18</td>\n",
              "      <td>0.0</td>\n",
              "      <td>2</td>\n",
              "      <td>0</td>\n",
              "    </tr>\n",
              "    <tr>\n",
              "      <th>11685</th>\n",
              "      <td>2.0</td>\n",
              "      <td>0</td>\n",
              "      <td>0</td>\n",
              "      <td>2</td>\n",
              "      <td>0</td>\n",
              "      <td>36.1383</td>\n",
              "      <td>-86.7785</td>\n",
              "      <td>1</td>\n",
              "      <td>17</td>\n",
              "      <td>0.0</td>\n",
              "      <td>3</td>\n",
              "      <td>0</td>\n",
              "    </tr>\n",
              "    <tr>\n",
              "      <th>13845</th>\n",
              "      <td>2.0</td>\n",
              "      <td>0</td>\n",
              "      <td>0</td>\n",
              "      <td>1</td>\n",
              "      <td>0</td>\n",
              "      <td>36.1509</td>\n",
              "      <td>-86.7706</td>\n",
              "      <td>5</td>\n",
              "      <td>21</td>\n",
              "      <td>3.0</td>\n",
              "      <td>0</td>\n",
              "      <td>1</td>\n",
              "    </tr>\n",
              "  </tbody>\n",
              "</table>\n",
              "</div>"
            ],
            "text/plain": [
              "       Number of Motor Vehicles  Hit and Run  ...  day of week  holiday\n",
              "1845                        1.0            0  ...            0        1\n",
              "4989                        2.0            0  ...            2        0\n",
              "11171                       2.0            0  ...            2        0\n",
              "11685                       2.0            0  ...            3        0\n",
              "13845                       2.0            0  ...            0        1\n",
              "\n",
              "[5 rows x 12 columns]"
            ]
          },
          "metadata": {
            "tags": []
          },
          "execution_count": 55
        }
      ]
    },
    {
      "cell_type": "code",
      "metadata": {
        "id": "KVk08XuPQgjm"
      },
      "source": [
        "target = df['injury or fatality']\r\n",
        "features = df.drop(columns = ['injury or fatality'])"
      ],
      "execution_count": 56,
      "outputs": []
    },
    {
      "cell_type": "code",
      "metadata": {
        "id": "xfK1sWRoxdWl"
      },
      "source": [
        "from sklearn.model_selection import train_test_split\r\n",
        "X_train, X_test, y_train, y_test = train_test_split(features, target, random_state=22,test_size=0.25)"
      ],
      "execution_count": 57,
      "outputs": []
    },
    {
      "cell_type": "code",
      "metadata": {
        "id": "28u19Lq7Ua9T"
      },
      "source": [
        "from sklearn.preprocessing import StandardScaler\r\n",
        "scaler = StandardScaler()\r\n",
        "scaler.fit(X_train)\r\n",
        "X_train_scaled = scaler.transform(X_train)  \r\n",
        "X_test_scaled = scaler.transform(X_test)"
      ],
      "execution_count": 59,
      "outputs": []
    },
    {
      "cell_type": "code",
      "metadata": {
        "colab": {
          "base_uri": "https://localhost:8080/"
        },
        "id": "rozIUF3hV_Wi",
        "outputId": "d5054ff4-f9e1-4248-941c-bad444ae6937"
      },
      "source": [
        "from sklearn.decomposition import PCA\r\n",
        "pca = PCA(n_components=9)\r\n",
        "pca.fit(X_train_scaled)\r\n",
        "pca.fit(X_test_scaled)"
      ],
      "execution_count": 60,
      "outputs": [
        {
          "output_type": "execute_result",
          "data": {
            "text/plain": [
              "PCA(copy=True, iterated_power='auto', n_components=9, random_state=None,\n",
              "    svd_solver='auto', tol=0.0, whiten=False)"
            ]
          },
          "metadata": {
            "tags": []
          },
          "execution_count": 60
        }
      ]
    },
    {
      "cell_type": "markdown",
      "metadata": {
        "id": "XPOhzizjYlOn"
      },
      "source": [
        "LinearRegression"
      ]
    },
    {
      "cell_type": "code",
      "metadata": {
        "id": "VKM5X3w7W1fm"
      },
      "source": [
        "from sklearn.linear_model import LinearRegression\r\n",
        "lr = LinearRegression()"
      ],
      "execution_count": 61,
      "outputs": []
    },
    {
      "cell_type": "code",
      "metadata": {
        "colab": {
          "base_uri": "https://localhost:8080/"
        },
        "id": "0lFK37FaW9Ls",
        "outputId": "b36c9755-6b44-4b6b-c12c-fe968e285b44"
      },
      "source": [
        "lr = lr.fit(X_train_scaled, y_train)\r\n",
        "lr.score(X_test_scaled, y_test)"
      ],
      "execution_count": 62,
      "outputs": [
        {
          "output_type": "execute_result",
          "data": {
            "text/plain": [
              "0.04827553484260105"
            ]
          },
          "metadata": {
            "tags": []
          },
          "execution_count": 62
        }
      ]
    },
    {
      "cell_type": "markdown",
      "metadata": {
        "id": "u5QxCRoUYpJm"
      },
      "source": [
        "LogisticRegression"
      ]
    },
    {
      "cell_type": "code",
      "metadata": {
        "id": "6jd1tzrjYu5c"
      },
      "source": [
        "from sklearn.linear_model import LogisticRegression\r\n",
        "lg = LogisticRegression()"
      ],
      "execution_count": 63,
      "outputs": []
    },
    {
      "cell_type": "code",
      "metadata": {
        "colab": {
          "base_uri": "https://localhost:8080/"
        },
        "id": "Hublv-XQY5qB",
        "outputId": "8c20bc93-824a-45bb-d06f-05b93c82152a"
      },
      "source": [
        "lg = lg.fit(X_train_scaled,y_train)\r\n",
        "lg.score(X_test_scaled,y_test)"
      ],
      "execution_count": 64,
      "outputs": [
        {
          "output_type": "stream",
          "text": [
            "/usr/local/lib/python3.6/dist-packages/sklearn/linear_model/_logistic.py:940: ConvergenceWarning: lbfgs failed to converge (status=1):\n",
            "STOP: TOTAL NO. of ITERATIONS REACHED LIMIT.\n",
            "\n",
            "Increase the number of iterations (max_iter) or scale the data as shown in:\n",
            "    https://scikit-learn.org/stable/modules/preprocessing.html\n",
            "Please also refer to the documentation for alternative solver options:\n",
            "    https://scikit-learn.org/stable/modules/linear_model.html#logistic-regression\n",
            "  extra_warning_msg=_LOGISTIC_SOLVER_CONVERGENCE_MSG)\n"
          ],
          "name": "stderr"
        },
        {
          "output_type": "execute_result",
          "data": {
            "text/plain": [
              "0.7338662278123897"
            ]
          },
          "metadata": {
            "tags": []
          },
          "execution_count": 64
        }
      ]
    },
    {
      "cell_type": "markdown",
      "metadata": {
        "id": "uumE6c8JZP74"
      },
      "source": [
        "Linear SVM"
      ]
    },
    {
      "cell_type": "code",
      "metadata": {
        "id": "ehmp5rriZtm7"
      },
      "source": [
        "from sklearn.model_selection import cross_val_score\r\n",
        "from sklearn.svm import SVC"
      ],
      "execution_count": 65,
      "outputs": []
    },
    {
      "cell_type": "code",
      "metadata": {
        "colab": {
          "base_uri": "https://localhost:8080/"
        },
        "id": "Au3joJAvZ00N",
        "outputId": "e6632ebe-8ec3-42d5-a964-c9e3a719ad5c"
      },
      "source": [
        "svc = SVC(kernel='linear')\r\n",
        "cross_val_score(svc,X_test_scaled,y_test,scoring='accuracy',cv=10).mean()"
      ],
      "execution_count": 66,
      "outputs": [
        {
          "output_type": "stream",
          "text": [
            "/usr/local/lib/python3.6/dist-packages/sklearn/model_selection/_split.py:667: UserWarning: The least populated class in y has only 1 members, which is less than n_splits=10.\n",
            "  % (min_groups, self.n_splits)), UserWarning)\n"
          ],
          "name": "stderr"
        },
        {
          "output_type": "execute_result",
          "data": {
            "text/plain": [
              "0.7339838252574826"
            ]
          },
          "metadata": {
            "tags": []
          },
          "execution_count": 66
        }
      ]
    },
    {
      "cell_type": "markdown",
      "metadata": {
        "id": "b9ei_KyjaCOu"
      },
      "source": [
        "Non-Linear SVM"
      ]
    },
    {
      "cell_type": "code",
      "metadata": {
        "colab": {
          "base_uri": "https://localhost:8080/"
        },
        "id": "u5p92Gh5aFn-",
        "outputId": "f94c91f0-5700-4a63-f7ca-8ae81345cab4"
      },
      "source": [
        "svc = SVC(kernel='rbf')\r\n",
        "cross_val_score(svc,X_test_scaled,y_test,scoring='accuracy',cv=10).mean()"
      ],
      "execution_count": 67,
      "outputs": [
        {
          "output_type": "stream",
          "text": [
            "/usr/local/lib/python3.6/dist-packages/sklearn/model_selection/_split.py:667: UserWarning: The least populated class in y has only 1 members, which is less than n_splits=10.\n",
            "  % (min_groups, self.n_splits)), UserWarning)\n"
          ],
          "name": "stderr"
        },
        {
          "output_type": "execute_result",
          "data": {
            "text/plain": [
              "0.7339838252574825"
            ]
          },
          "metadata": {
            "tags": []
          },
          "execution_count": 67
        }
      ]
    },
    {
      "cell_type": "markdown",
      "metadata": {
        "id": "FOKRTxEQafwn"
      },
      "source": [
        "MLNN"
      ]
    },
    {
      "cell_type": "code",
      "metadata": {
        "id": "8g8uyyZ8aZ12"
      },
      "source": [
        "from tensorflow.keras import Sequential \r\n",
        "from tensorflow.keras.layers import Dense"
      ],
      "execution_count": 68,
      "outputs": []
    },
    {
      "cell_type": "code",
      "metadata": {
        "id": "d-sP6jJdaiVV"
      },
      "source": [
        "model = Sequential() \r\n",
        "model.add(Dense(50,activation='tanh',input_shape=(11,)))\r\n",
        "model.add(Dense(30,activation='sigmoid'))\r\n",
        "model.add(Dense(1,activation='sigmoid'))\r\n",
        "model.compile(optimizer='adam',loss='binary_crossentropy',metrics=['accuracy'])"
      ],
      "execution_count": 69,
      "outputs": []
    },
    {
      "cell_type": "code",
      "metadata": {
        "colab": {
          "base_uri": "https://localhost:8080/"
        },
        "id": "Ls0YLXbqapfB",
        "outputId": "8a78af4a-6df1-4fec-9cfe-65d99e9ce2fc"
      },
      "source": [
        "model.summary()"
      ],
      "execution_count": 70,
      "outputs": [
        {
          "output_type": "stream",
          "text": [
            "Model: \"sequential\"\n",
            "_________________________________________________________________\n",
            "Layer (type)                 Output Shape              Param #   \n",
            "=================================================================\n",
            "dense (Dense)                (None, 50)                600       \n",
            "_________________________________________________________________\n",
            "dense_1 (Dense)              (None, 30)                1530      \n",
            "_________________________________________________________________\n",
            "dense_2 (Dense)              (None, 1)                 31        \n",
            "=================================================================\n",
            "Total params: 2,161\n",
            "Trainable params: 2,161\n",
            "Non-trainable params: 0\n",
            "_________________________________________________________________\n"
          ],
          "name": "stdout"
        }
      ]
    },
    {
      "cell_type": "code",
      "metadata": {
        "colab": {
          "base_uri": "https://localhost:8080/"
        },
        "id": "l017-qo9as9G",
        "outputId": "a4c36ce6-638f-4a2f-9d67-95e8d07138cf"
      },
      "source": [
        "model.fit(X_train_scaled,y_train,epochs=50,batch_size=12)"
      ],
      "execution_count": 71,
      "outputs": [
        {
          "output_type": "stream",
          "text": [
            "Epoch 1/50\n",
            "2127/2127 [==============================] - 3s 1ms/step - loss: 0.6225 - accuracy: 0.6164\n",
            "Epoch 2/50\n",
            "2127/2127 [==============================] - 2s 1ms/step - loss: 0.5927 - accuracy: 0.6867\n",
            "Epoch 3/50\n",
            "2127/2127 [==============================] - 2s 1ms/step - loss: 0.5721 - accuracy: 0.6863\n",
            "Epoch 4/50\n",
            "2127/2127 [==============================] - 2s 1ms/step - loss: 0.5597 - accuracy: 0.6808\n",
            "Epoch 5/50\n",
            "2127/2127 [==============================] - 3s 1ms/step - loss: 0.5364 - accuracy: 0.6931\n",
            "Epoch 6/50\n",
            "2127/2127 [==============================] - 2s 1ms/step - loss: 0.5425 - accuracy: 0.6924\n",
            "Epoch 7/50\n",
            "2127/2127 [==============================] - 2s 1ms/step - loss: 0.5307 - accuracy: 0.6887\n",
            "Epoch 8/50\n",
            "2127/2127 [==============================] - 3s 1ms/step - loss: 0.5401 - accuracy: 0.6869\n",
            "Epoch 9/50\n",
            "2127/2127 [==============================] - 2s 1ms/step - loss: 0.4823 - accuracy: 0.6915\n",
            "Epoch 10/50\n",
            "2127/2127 [==============================] - 3s 1ms/step - loss: 0.5166 - accuracy: 0.7017\n",
            "Epoch 11/50\n",
            "2127/2127 [==============================] - 3s 1ms/step - loss: 0.4791 - accuracy: 0.6982\n",
            "Epoch 12/50\n",
            "2127/2127 [==============================] - 2s 1ms/step - loss: 0.4957 - accuracy: 0.6866\n",
            "Epoch 13/50\n",
            "2127/2127 [==============================] - 2s 1ms/step - loss: 0.4418 - accuracy: 0.6975\n",
            "Epoch 14/50\n",
            "2127/2127 [==============================] - 3s 1ms/step - loss: 0.3670 - accuracy: 0.6801\n",
            "Epoch 15/50\n",
            "2127/2127 [==============================] - 2s 1ms/step - loss: 0.4834 - accuracy: 0.6957\n",
            "Epoch 16/50\n",
            "2127/2127 [==============================] - 3s 1ms/step - loss: 0.3906 - accuracy: 0.6898\n",
            "Epoch 17/50\n",
            "2127/2127 [==============================] - 2s 1ms/step - loss: 0.3359 - accuracy: 0.6944\n",
            "Epoch 18/50\n",
            "2127/2127 [==============================] - 2s 1ms/step - loss: 0.2531 - accuracy: 0.6862\n",
            "Epoch 19/50\n",
            "2127/2127 [==============================] - 2s 1ms/step - loss: 0.3607 - accuracy: 0.6995\n",
            "Epoch 20/50\n",
            "2127/2127 [==============================] - 3s 1ms/step - loss: 0.2658 - accuracy: 0.6860\n",
            "Epoch 21/50\n",
            "2127/2127 [==============================] - 2s 1ms/step - loss: 0.3979 - accuracy: 0.6942\n",
            "Epoch 22/50\n",
            "2127/2127 [==============================] - 2s 1ms/step - loss: 0.2490 - accuracy: 0.6970\n",
            "Epoch 23/50\n",
            "2127/2127 [==============================] - 3s 1ms/step - loss: 0.2460 - accuracy: 0.6967\n",
            "Epoch 24/50\n",
            "2127/2127 [==============================] - 3s 1ms/step - loss: 0.2803 - accuracy: 0.6930\n",
            "Epoch 25/50\n",
            "2127/2127 [==============================] - 2s 1ms/step - loss: 0.1654 - accuracy: 0.6998\n",
            "Epoch 26/50\n",
            "2127/2127 [==============================] - 3s 1ms/step - loss: 0.1604 - accuracy: 0.6939\n",
            "Epoch 27/50\n",
            "2127/2127 [==============================] - 3s 1ms/step - loss: 0.0148 - accuracy: 0.6893\n",
            "Epoch 28/50\n",
            "2127/2127 [==============================] - 2s 1ms/step - loss: -0.2086 - accuracy: 0.6931\n",
            "Epoch 29/50\n",
            "2127/2127 [==============================] - 3s 1ms/step - loss: 0.0704 - accuracy: 0.6908\n",
            "Epoch 30/50\n",
            "2127/2127 [==============================] - 2s 1ms/step - loss: 0.0525 - accuracy: 0.6890\n",
            "Epoch 31/50\n",
            "2127/2127 [==============================] - 2s 1ms/step - loss: -0.0331 - accuracy: 0.6838\n",
            "Epoch 32/50\n",
            "2127/2127 [==============================] - 3s 1ms/step - loss: -0.0572 - accuracy: 0.6972\n",
            "Epoch 33/50\n",
            "2127/2127 [==============================] - 3s 1ms/step - loss: -0.0705 - accuracy: 0.6983\n",
            "Epoch 34/50\n",
            "2127/2127 [==============================] - 2s 1ms/step - loss: -0.2421 - accuracy: 0.6898\n",
            "Epoch 35/50\n",
            "2127/2127 [==============================] - 2s 1ms/step - loss: -0.4925 - accuracy: 0.6951\n",
            "Epoch 36/50\n",
            "2127/2127 [==============================] - 3s 1ms/step - loss: -0.2923 - accuracy: 0.6943\n",
            "Epoch 37/50\n",
            "2127/2127 [==============================] - 3s 1ms/step - loss: -0.2768 - accuracy: 0.6967\n",
            "Epoch 38/50\n",
            "2127/2127 [==============================] - 2s 1ms/step - loss: -0.2004 - accuracy: 0.6978\n",
            "Epoch 39/50\n",
            "2127/2127 [==============================] - 2s 1ms/step - loss: -0.5158 - accuracy: 0.6877\n",
            "Epoch 40/50\n",
            "2127/2127 [==============================] - 2s 1ms/step - loss: -0.5082 - accuracy: 0.6899\n",
            "Epoch 41/50\n",
            "2127/2127 [==============================] - 3s 1ms/step - loss: -0.6908 - accuracy: 0.6942\n",
            "Epoch 42/50\n",
            "2127/2127 [==============================] - 3s 1ms/step - loss: -0.8602 - accuracy: 0.6955\n",
            "Epoch 43/50\n",
            "2127/2127 [==============================] - 3s 1ms/step - loss: -0.6557 - accuracy: 0.6908\n",
            "Epoch 44/50\n",
            "2127/2127 [==============================] - 3s 1ms/step - loss: -0.7306 - accuracy: 0.6832\n",
            "Epoch 45/50\n",
            "2127/2127 [==============================] - 2s 1ms/step - loss: -0.8244 - accuracy: 0.6947\n",
            "Epoch 46/50\n",
            "2127/2127 [==============================] - 2s 1ms/step - loss: -0.7359 - accuracy: 0.6981\n",
            "Epoch 47/50\n",
            "2127/2127 [==============================] - 2s 1ms/step - loss: -0.9008 - accuracy: 0.6907\n",
            "Epoch 48/50\n",
            "2127/2127 [==============================] - 2s 1ms/step - loss: -1.0849 - accuracy: 0.6964\n",
            "Epoch 49/50\n",
            "2127/2127 [==============================] - 2s 1ms/step - loss: -1.2788 - accuracy: 0.6941\n",
            "Epoch 50/50\n",
            "2127/2127 [==============================] - 3s 1ms/step - loss: -1.5936 - accuracy: 0.6861\n"
          ],
          "name": "stdout"
        },
        {
          "output_type": "execute_result",
          "data": {
            "text/plain": [
              "<tensorflow.python.keras.callbacks.History at 0x7f0d76fa2518>"
            ]
          },
          "metadata": {
            "tags": []
          },
          "execution_count": 71
        }
      ]
    },
    {
      "cell_type": "code",
      "metadata": {
        "colab": {
          "base_uri": "https://localhost:8080/"
        },
        "id": "OMulMQoGcID3",
        "outputId": "619198be-6212-4fd2-a292-4ab1f1521080"
      },
      "source": [
        "test_los,test_acc = model.evaluate(X_test_scaled, y_test)"
      ],
      "execution_count": 72,
      "outputs": [
        {
          "output_type": "stream",
          "text": [
            "266/266 [==============================] - 0s 832us/step - loss: 0.3032 - accuracy: 0.7048\n"
          ],
          "name": "stdout"
        }
      ]
    },
    {
      "cell_type": "markdown",
      "metadata": {
        "id": "S7-yjUspcQJa"
      },
      "source": [
        "GaussianNB"
      ]
    },
    {
      "cell_type": "code",
      "metadata": {
        "id": "yf8_js7Dceq2"
      },
      "source": [
        "from sklearn.naive_bayes import GaussianNB\r\n",
        "gnb = GaussianNB()"
      ],
      "execution_count": 73,
      "outputs": []
    },
    {
      "cell_type": "code",
      "metadata": {
        "colab": {
          "base_uri": "https://localhost:8080/"
        },
        "id": "xqA79RlvclrB",
        "outputId": "5791c349-7547-4c10-d459-81d13c40a199"
      },
      "source": [
        "gnb.fit(X_train_scaled,y_train)\r\n",
        "gnb.score(X_test_scaled,y_test)"
      ],
      "execution_count": 74,
      "outputs": [
        {
          "output_type": "execute_result",
          "data": {
            "text/plain": [
              "0.09110144586810862"
            ]
          },
          "metadata": {
            "tags": []
          },
          "execution_count": 74
        }
      ]
    },
    {
      "cell_type": "markdown",
      "metadata": {
        "id": "Cpx55vKqdLls"
      },
      "source": [
        "Ridge"
      ]
    },
    {
      "cell_type": "code",
      "metadata": {
        "id": "A5KR71sHdJfs"
      },
      "source": [
        "from sklearn.linear_model import Ridge\r\n",
        "rg = Ridge(alpha=0.001,normalize=True)"
      ],
      "execution_count": 75,
      "outputs": []
    },
    {
      "cell_type": "code",
      "metadata": {
        "colab": {
          "base_uri": "https://localhost:8080/"
        },
        "id": "hzZ-Xj-zfzNK",
        "outputId": "39e79f5b-0afd-407e-ff1c-c16395202199"
      },
      "source": [
        "rg_score = cross_val_score(rg,X_test_scaled,y_test,cv=10,scoring='r2')\r\n",
        "rg_score"
      ],
      "execution_count": 76,
      "outputs": [
        {
          "output_type": "execute_result",
          "data": {
            "text/plain": [
              "array([0.02966945, 0.06345123, 0.05629468, 0.05504754, 0.04288654,\n",
              "       0.01474122, 0.05839472, 0.04343161, 0.05973994, 0.04107423])"
            ]
          },
          "metadata": {
            "tags": []
          },
          "execution_count": 76
        }
      ]
    },
    {
      "cell_type": "code",
      "metadata": {
        "colab": {
          "base_uri": "https://localhost:8080/"
        },
        "id": "B7IbKM-ef7MF",
        "outputId": "495bd801-5fa1-453b-e33c-ee15736a879d"
      },
      "source": [
        "rg_score.mean()"
      ],
      "execution_count": 77,
      "outputs": [
        {
          "output_type": "execute_result",
          "data": {
            "text/plain": [
              "0.04647311454511832"
            ]
          },
          "metadata": {
            "tags": []
          },
          "execution_count": 77
        }
      ]
    },
    {
      "cell_type": "code",
      "metadata": {
        "id": "XgG-2zCQf-07"
      },
      "source": [
        "from sklearn.linear_model import RidgeCV"
      ],
      "execution_count": 78,
      "outputs": []
    },
    {
      "cell_type": "code",
      "metadata": {
        "id": "Ul_yKr8EgC45"
      },
      "source": [
        "rgcv = RidgeCV(alphas=(1.0,0.1,0.01,0.005,0.0025,0.001,0.00025),normalize=True)"
      ],
      "execution_count": 79,
      "outputs": []
    },
    {
      "cell_type": "code",
      "metadata": {
        "colab": {
          "base_uri": "https://localhost:8080/"
        },
        "id": "oUHyPOe6gD_0",
        "outputId": "48c541dc-7e7b-4da5-9e13-b2f2ff327b79"
      },
      "source": [
        "rgcv.fit(X_train_scaled,y_train)"
      ],
      "execution_count": 80,
      "outputs": [
        {
          "output_type": "execute_result",
          "data": {
            "text/plain": [
              "RidgeCV(alphas=array([1.0e+00, 1.0e-01, 1.0e-02, 5.0e-03, 2.5e-03, 1.0e-03, 2.5e-04]),\n",
              "        cv=None, fit_intercept=True, gcv_mode=None, normalize=True,\n",
              "        scoring=None, store_cv_values=False)"
            ]
          },
          "metadata": {
            "tags": []
          },
          "execution_count": 80
        }
      ]
    },
    {
      "cell_type": "code",
      "metadata": {
        "colab": {
          "base_uri": "https://localhost:8080/"
        },
        "id": "6mwWGUvQgQM3",
        "outputId": "5d45c8e8-e14b-4ac3-ac8d-2ac486c0a826"
      },
      "source": [
        "rgcv.score(X_test_scaled,y_test)"
      ],
      "execution_count": 81,
      "outputs": [
        {
          "output_type": "execute_result",
          "data": {
            "text/plain": [
              "0.048300739872295106"
            ]
          },
          "metadata": {
            "tags": []
          },
          "execution_count": 81
        }
      ]
    },
    {
      "cell_type": "markdown",
      "metadata": {
        "id": "pJSUQj_6gZ0K"
      },
      "source": [
        "Lasso"
      ]
    },
    {
      "cell_type": "code",
      "metadata": {
        "id": "SRwqZBBMgaWY"
      },
      "source": [
        "from sklearn.linear_model import LassoCV"
      ],
      "execution_count": 82,
      "outputs": []
    },
    {
      "cell_type": "code",
      "metadata": {
        "id": "hoT6OdySgf8E"
      },
      "source": [
        "lscv = LassoCV(alphas=(1.0,0.1,0.01,0.005,0.0025,0.001,0.00025),normalize=True)"
      ],
      "execution_count": 83,
      "outputs": []
    },
    {
      "cell_type": "code",
      "metadata": {
        "colab": {
          "base_uri": "https://localhost:8080/"
        },
        "id": "VJNmXEdcghZz",
        "outputId": "ea664a87-4fdd-4675-c6fa-25e4b7232455"
      },
      "source": [
        "lscv.fit(X_train_scaled,y_train)"
      ],
      "execution_count": 84,
      "outputs": [
        {
          "output_type": "execute_result",
          "data": {
            "text/plain": [
              "LassoCV(alphas=(1.0, 0.1, 0.01, 0.005, 0.0025, 0.001, 0.00025), copy_X=True,\n",
              "        cv=None, eps=0.001, fit_intercept=True, max_iter=1000, n_alphas=100,\n",
              "        n_jobs=None, normalize=True, positive=False, precompute='auto',\n",
              "        random_state=None, selection='cyclic', tol=0.0001, verbose=False)"
            ]
          },
          "metadata": {
            "tags": []
          },
          "execution_count": 84
        }
      ]
    },
    {
      "cell_type": "code",
      "metadata": {
        "colab": {
          "base_uri": "https://localhost:8080/"
        },
        "id": "TzpIWle5gql-",
        "outputId": "6af4762d-a31b-4886-d4e5-81e115fc34b2"
      },
      "source": [
        "lscv.score(X_test_scaled,y_test)"
      ],
      "execution_count": 85,
      "outputs": [
        {
          "output_type": "execute_result",
          "data": {
            "text/plain": [
              "0.03581593346596301"
            ]
          },
          "metadata": {
            "tags": []
          },
          "execution_count": 85
        }
      ]
    },
    {
      "cell_type": "markdown",
      "metadata": {
        "id": "l1FWe8rag0zx"
      },
      "source": [
        "ElasticNet"
      ]
    },
    {
      "cell_type": "code",
      "metadata": {
        "id": "C_aXALPNgxNO"
      },
      "source": [
        "from sklearn.linear_model import ElasticNet,ElasticNetCV"
      ],
      "execution_count": 86,
      "outputs": []
    },
    {
      "cell_type": "code",
      "metadata": {
        "colab": {
          "base_uri": "https://localhost:8080/"
        },
        "id": "-ahxZVLRhB_W",
        "outputId": "fe06e42d-ada4-44b6-9c78-022199970ec1"
      },
      "source": [
        "en = ElasticNet(alpha=0.001,l1_ratio=0.8,normalize=True)\r\n",
        "en_score = cross_val_score(en,X_train_scaled,y_train,cv=10,scoring='r2')\r\n",
        "encv = ElasticNetCV(alphas=(0.1,0.01,0.005,0.0025,0.001),l1_ratio=(0.1,0.25,0.5,0.75,0.8),normalize=True)\r\n",
        "encv.fit(X_train_scaled,y_train)"
      ],
      "execution_count": 87,
      "outputs": [
        {
          "output_type": "execute_result",
          "data": {
            "text/plain": [
              "ElasticNetCV(alphas=(0.1, 0.01, 0.005, 0.0025, 0.001), copy_X=True, cv=None,\n",
              "             eps=0.001, fit_intercept=True,\n",
              "             l1_ratio=(0.1, 0.25, 0.5, 0.75, 0.8), max_iter=1000, n_alphas=100,\n",
              "             n_jobs=None, normalize=True, positive=False, precompute='auto',\n",
              "             random_state=None, selection='cyclic', tol=0.0001, verbose=0)"
            ]
          },
          "metadata": {
            "tags": []
          },
          "execution_count": 87
        }
      ]
    },
    {
      "cell_type": "code",
      "metadata": {
        "colab": {
          "base_uri": "https://localhost:8080/"
        },
        "id": "a0jmw675hTXt",
        "outputId": "9a86b5e7-6a3b-4e6d-b784-d179fe2237bc"
      },
      "source": [
        "encv.score(X_test_scaled,y_test)"
      ],
      "execution_count": 88,
      "outputs": [
        {
          "output_type": "execute_result",
          "data": {
            "text/plain": [
              "0.0036692976986023584"
            ]
          },
          "metadata": {
            "tags": []
          },
          "execution_count": 88
        }
      ]
    },
    {
      "cell_type": "markdown",
      "metadata": {
        "id": "0Uv0pg8JiwTY"
      },
      "source": [
        "Decision tree"
      ]
    },
    {
      "cell_type": "code",
      "metadata": {
        "id": "dkPYRTlzhZNk"
      },
      "source": [
        "from sklearn import tree\r\n",
        "dt = tree.DecisionTreeClassifier()"
      ],
      "execution_count": 89,
      "outputs": []
    },
    {
      "cell_type": "code",
      "metadata": {
        "colab": {
          "base_uri": "https://localhost:8080/"
        },
        "id": "lIPPzFmRi6bA",
        "outputId": "8d2fd1ea-a00a-4dea-fbe8-49acbf4c02c2"
      },
      "source": [
        "dt.fit(X_train_scaled, y_train)\r\n",
        "dt.score(X_test_scaled, y_test)"
      ],
      "execution_count": 90,
      "outputs": [
        {
          "output_type": "execute_result",
          "data": {
            "text/plain": [
              "0.596449982367462"
            ]
          },
          "metadata": {
            "tags": []
          },
          "execution_count": 90
        }
      ]
    },
    {
      "cell_type": "code",
      "metadata": {
        "id": "aUothGZ2jxpq"
      },
      "source": [
        "dtr = tree.DecisionTreeRegressor()"
      ],
      "execution_count": 91,
      "outputs": []
    },
    {
      "cell_type": "code",
      "metadata": {
        "colab": {
          "base_uri": "https://localhost:8080/"
        },
        "id": "JNbbwLAVj3Xs",
        "outputId": "8a797e61-089e-4765-81c5-76e857657177"
      },
      "source": [
        "dtr.fit(X_train_scaled, y_train)\r\n",
        "dtr.score(X_test_scaled, y_test)"
      ],
      "execution_count": 92,
      "outputs": [
        {
          "output_type": "execute_result",
          "data": {
            "text/plain": [
              "-0.9930805980286751"
            ]
          },
          "metadata": {
            "tags": []
          },
          "execution_count": 92
        }
      ]
    }
  ]
}