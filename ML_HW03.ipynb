{
  "nbformat": 4,
  "nbformat_minor": 0,
  "metadata": {
    "colab": {
      "name": "ML_HW03.ipynb",
      "provenance": [],
      "collapsed_sections": [],
      "mount_file_id": "1MbxgCAU-iqJNPIkdhHbu3wqX5dVbX12Z",
      "authorship_tag": "ABX9TyNwY2pmmX3O4TYSEo5aWTSX",
      "include_colab_link": true
    },
    "kernelspec": {
      "name": "python3",
      "display_name": "Python 3"
    }
  },
  "cells": [
    {
      "cell_type": "markdown",
      "metadata": {
        "id": "view-in-github",
        "colab_type": "text"
      },
      "source": [
        "<a href=\"https://colab.research.google.com/github/yulingchen628/10901ML/blob/main/ML_HW03.ipynb\" target=\"_parent\"><img src=\"https://colab.research.google.com/assets/colab-badge.svg\" alt=\"Open In Colab\"/></a>"
      ]
    },
    {
      "cell_type": "code",
      "metadata": {
        "id": "Su741wzZ5pVf"
      },
      "source": [
        "import pandas as pd\n",
        "import numpy as np"
      ],
      "execution_count": 1,
      "outputs": []
    },
    {
      "cell_type": "code",
      "metadata": {
        "id": "0WJzLrLq5xOV",
        "outputId": "4db1e195-4a15-49a0-959b-9ec5668a4d9c",
        "colab": {
          "base_uri": "https://localhost:8080/",
          "height": 215
        }
      },
      "source": [
        "data = pd.read_csv('/content/drive/My Drive/dermatology.data')\n",
        "data.head()"
      ],
      "execution_count": 2,
      "outputs": [
        {
          "output_type": "execute_result",
          "data": {
            "text/html": [
              "<div>\n",
              "<style scoped>\n",
              "    .dataframe tbody tr th:only-of-type {\n",
              "        vertical-align: middle;\n",
              "    }\n",
              "\n",
              "    .dataframe tbody tr th {\n",
              "        vertical-align: top;\n",
              "    }\n",
              "\n",
              "    .dataframe thead th {\n",
              "        text-align: right;\n",
              "    }\n",
              "</style>\n",
              "<table border=\"1\" class=\"dataframe\">\n",
              "  <thead>\n",
              "    <tr style=\"text-align: right;\">\n",
              "      <th></th>\n",
              "      <th>2</th>\n",
              "      <th>2.1</th>\n",
              "      <th>0</th>\n",
              "      <th>3</th>\n",
              "      <th>0.1</th>\n",
              "      <th>0.2</th>\n",
              "      <th>0.3</th>\n",
              "      <th>0.4</th>\n",
              "      <th>1</th>\n",
              "      <th>0.5</th>\n",
              "      <th>0.6</th>\n",
              "      <th>0.7</th>\n",
              "      <th>0.8</th>\n",
              "      <th>0.9</th>\n",
              "      <th>0.10</th>\n",
              "      <th>3.1</th>\n",
              "      <th>2.2</th>\n",
              "      <th>0.11</th>\n",
              "      <th>0.12</th>\n",
              "      <th>0.13</th>\n",
              "      <th>0.14</th>\n",
              "      <th>0.15</th>\n",
              "      <th>0.16</th>\n",
              "      <th>0.17</th>\n",
              "      <th>0.18</th>\n",
              "      <th>0.19</th>\n",
              "      <th>0.20</th>\n",
              "      <th>3.2</th>\n",
              "      <th>0.21</th>\n",
              "      <th>0.22</th>\n",
              "      <th>0.23</th>\n",
              "      <th>1.1</th>\n",
              "      <th>0.24</th>\n",
              "      <th>55</th>\n",
              "      <th>2.3</th>\n",
              "    </tr>\n",
              "  </thead>\n",
              "  <tbody>\n",
              "    <tr>\n",
              "      <th>0</th>\n",
              "      <td>3</td>\n",
              "      <td>3</td>\n",
              "      <td>3</td>\n",
              "      <td>2</td>\n",
              "      <td>1</td>\n",
              "      <td>0</td>\n",
              "      <td>0</td>\n",
              "      <td>0</td>\n",
              "      <td>1</td>\n",
              "      <td>1</td>\n",
              "      <td>1</td>\n",
              "      <td>0</td>\n",
              "      <td>0</td>\n",
              "      <td>1</td>\n",
              "      <td>0</td>\n",
              "      <td>1</td>\n",
              "      <td>2</td>\n",
              "      <td>0</td>\n",
              "      <td>2</td>\n",
              "      <td>2</td>\n",
              "      <td>2</td>\n",
              "      <td>2</td>\n",
              "      <td>2</td>\n",
              "      <td>1</td>\n",
              "      <td>0</td>\n",
              "      <td>0</td>\n",
              "      <td>0</td>\n",
              "      <td>0</td>\n",
              "      <td>0</td>\n",
              "      <td>0</td>\n",
              "      <td>0</td>\n",
              "      <td>1</td>\n",
              "      <td>0</td>\n",
              "      <td>8</td>\n",
              "      <td>1</td>\n",
              "    </tr>\n",
              "    <tr>\n",
              "      <th>1</th>\n",
              "      <td>2</td>\n",
              "      <td>1</td>\n",
              "      <td>2</td>\n",
              "      <td>3</td>\n",
              "      <td>1</td>\n",
              "      <td>3</td>\n",
              "      <td>0</td>\n",
              "      <td>3</td>\n",
              "      <td>0</td>\n",
              "      <td>0</td>\n",
              "      <td>0</td>\n",
              "      <td>1</td>\n",
              "      <td>0</td>\n",
              "      <td>0</td>\n",
              "      <td>0</td>\n",
              "      <td>1</td>\n",
              "      <td>2</td>\n",
              "      <td>0</td>\n",
              "      <td>2</td>\n",
              "      <td>0</td>\n",
              "      <td>0</td>\n",
              "      <td>0</td>\n",
              "      <td>0</td>\n",
              "      <td>0</td>\n",
              "      <td>2</td>\n",
              "      <td>0</td>\n",
              "      <td>2</td>\n",
              "      <td>3</td>\n",
              "      <td>2</td>\n",
              "      <td>0</td>\n",
              "      <td>0</td>\n",
              "      <td>2</td>\n",
              "      <td>3</td>\n",
              "      <td>26</td>\n",
              "      <td>3</td>\n",
              "    </tr>\n",
              "    <tr>\n",
              "      <th>2</th>\n",
              "      <td>2</td>\n",
              "      <td>2</td>\n",
              "      <td>2</td>\n",
              "      <td>0</td>\n",
              "      <td>0</td>\n",
              "      <td>0</td>\n",
              "      <td>0</td>\n",
              "      <td>0</td>\n",
              "      <td>3</td>\n",
              "      <td>2</td>\n",
              "      <td>0</td>\n",
              "      <td>0</td>\n",
              "      <td>0</td>\n",
              "      <td>3</td>\n",
              "      <td>0</td>\n",
              "      <td>0</td>\n",
              "      <td>2</td>\n",
              "      <td>0</td>\n",
              "      <td>3</td>\n",
              "      <td>2</td>\n",
              "      <td>2</td>\n",
              "      <td>2</td>\n",
              "      <td>2</td>\n",
              "      <td>0</td>\n",
              "      <td>0</td>\n",
              "      <td>3</td>\n",
              "      <td>0</td>\n",
              "      <td>0</td>\n",
              "      <td>0</td>\n",
              "      <td>0</td>\n",
              "      <td>0</td>\n",
              "      <td>3</td>\n",
              "      <td>0</td>\n",
              "      <td>40</td>\n",
              "      <td>1</td>\n",
              "    </tr>\n",
              "    <tr>\n",
              "      <th>3</th>\n",
              "      <td>2</td>\n",
              "      <td>3</td>\n",
              "      <td>2</td>\n",
              "      <td>2</td>\n",
              "      <td>2</td>\n",
              "      <td>2</td>\n",
              "      <td>0</td>\n",
              "      <td>2</td>\n",
              "      <td>0</td>\n",
              "      <td>0</td>\n",
              "      <td>0</td>\n",
              "      <td>1</td>\n",
              "      <td>0</td>\n",
              "      <td>0</td>\n",
              "      <td>0</td>\n",
              "      <td>1</td>\n",
              "      <td>2</td>\n",
              "      <td>0</td>\n",
              "      <td>0</td>\n",
              "      <td>0</td>\n",
              "      <td>0</td>\n",
              "      <td>0</td>\n",
              "      <td>0</td>\n",
              "      <td>0</td>\n",
              "      <td>2</td>\n",
              "      <td>2</td>\n",
              "      <td>3</td>\n",
              "      <td>2</td>\n",
              "      <td>3</td>\n",
              "      <td>0</td>\n",
              "      <td>0</td>\n",
              "      <td>2</td>\n",
              "      <td>3</td>\n",
              "      <td>45</td>\n",
              "      <td>3</td>\n",
              "    </tr>\n",
              "    <tr>\n",
              "      <th>4</th>\n",
              "      <td>2</td>\n",
              "      <td>3</td>\n",
              "      <td>2</td>\n",
              "      <td>0</td>\n",
              "      <td>0</td>\n",
              "      <td>0</td>\n",
              "      <td>0</td>\n",
              "      <td>0</td>\n",
              "      <td>0</td>\n",
              "      <td>0</td>\n",
              "      <td>0</td>\n",
              "      <td>0</td>\n",
              "      <td>2</td>\n",
              "      <td>1</td>\n",
              "      <td>0</td>\n",
              "      <td>2</td>\n",
              "      <td>2</td>\n",
              "      <td>0</td>\n",
              "      <td>2</td>\n",
              "      <td>0</td>\n",
              "      <td>0</td>\n",
              "      <td>0</td>\n",
              "      <td>1</td>\n",
              "      <td>0</td>\n",
              "      <td>0</td>\n",
              "      <td>0</td>\n",
              "      <td>0</td>\n",
              "      <td>2</td>\n",
              "      <td>0</td>\n",
              "      <td>0</td>\n",
              "      <td>0</td>\n",
              "      <td>1</td>\n",
              "      <td>0</td>\n",
              "      <td>41</td>\n",
              "      <td>2</td>\n",
              "    </tr>\n",
              "  </tbody>\n",
              "</table>\n",
              "</div>"
            ],
            "text/plain": [
              "   2  2.1  0  3  0.1  0.2  0.3  0.4  ...  3.2  0.21  0.22  0.23  1.1  0.24  55  2.3\n",
              "0  3    3  3  2    1    0    0    0  ...    0     0     0     0    1     0   8    1\n",
              "1  2    1  2  3    1    3    0    3  ...    3     2     0     0    2     3  26    3\n",
              "2  2    2  2  0    0    0    0    0  ...    0     0     0     0    3     0  40    1\n",
              "3  2    3  2  2    2    2    0    2  ...    2     3     0     0    2     3  45    3\n",
              "4  2    3  2  0    0    0    0    0  ...    2     0     0     0    1     0  41    2\n",
              "\n",
              "[5 rows x 35 columns]"
            ]
          },
          "metadata": {
            "tags": []
          },
          "execution_count": 2
        }
      ]
    },
    {
      "cell_type": "code",
      "metadata": {
        "id": "nFX-M8M7VsE9",
        "outputId": "a83c617f-16aa-4c15-bae9-abea8e9675db",
        "colab": {
          "base_uri": "https://localhost:8080/",
          "height": 266
        }
      },
      "source": [
        "data.rename(columns={'2':'erythema','2.1':'scaling','0':'definite borders','3':'itching','0.1':'koebner phenomenon','0.2':'polygonal papules','0.3':'follicular papules','0.4':'oral mucosal involvement','1':'knee and elbow involvement','0.5':' scalp involvement','0.6':'family history','0.7':'melanin incontinence','0.8':'eosinophils in the infiltrate','0.9':'PNL infiltrate','0.10':'fibrosis of the papillary dermis','3.1':'exocytosis','2.2':'acanthosis','0.11':'hyperkeratosis','0.12':'parakeratosis','0.13':'clubbing of the rete ridges','0.14':'elongation of the rete ridges',\n",
        "          '0.15':'thinning of the suprapapillary epidermis','0.16':'spongiform pustule','0.17':'munro microabcess','0.18':'focal hypergranulosis','0.19':'disappearance of the granular layer','0.20':'vacuolisation and damage of basal layer','3.2':'spongiosis','0.21':'saw-tooth appearance of retes','0.22':'follicular horn plug','0.23':'perifollicular parakeratosis','1.1':'inflammatory monoluclear inflitrate','0.24':'band-like infiltrate','55':'Age','2.3':'class'},inplace=True)\n",
        "data.head()"
      ],
      "execution_count": 3,
      "outputs": [
        {
          "output_type": "execute_result",
          "data": {
            "text/html": [
              "<div>\n",
              "<style scoped>\n",
              "    .dataframe tbody tr th:only-of-type {\n",
              "        vertical-align: middle;\n",
              "    }\n",
              "\n",
              "    .dataframe tbody tr th {\n",
              "        vertical-align: top;\n",
              "    }\n",
              "\n",
              "    .dataframe thead th {\n",
              "        text-align: right;\n",
              "    }\n",
              "</style>\n",
              "<table border=\"1\" class=\"dataframe\">\n",
              "  <thead>\n",
              "    <tr style=\"text-align: right;\">\n",
              "      <th></th>\n",
              "      <th>erythema</th>\n",
              "      <th>scaling</th>\n",
              "      <th>definite borders</th>\n",
              "      <th>itching</th>\n",
              "      <th>koebner phenomenon</th>\n",
              "      <th>polygonal papules</th>\n",
              "      <th>follicular papules</th>\n",
              "      <th>oral mucosal involvement</th>\n",
              "      <th>knee and elbow involvement</th>\n",
              "      <th>scalp involvement</th>\n",
              "      <th>family history</th>\n",
              "      <th>melanin incontinence</th>\n",
              "      <th>eosinophils in the infiltrate</th>\n",
              "      <th>PNL infiltrate</th>\n",
              "      <th>fibrosis of the papillary dermis</th>\n",
              "      <th>exocytosis</th>\n",
              "      <th>acanthosis</th>\n",
              "      <th>hyperkeratosis</th>\n",
              "      <th>parakeratosis</th>\n",
              "      <th>clubbing of the rete ridges</th>\n",
              "      <th>elongation of the rete ridges</th>\n",
              "      <th>thinning of the suprapapillary epidermis</th>\n",
              "      <th>spongiform pustule</th>\n",
              "      <th>munro microabcess</th>\n",
              "      <th>focal hypergranulosis</th>\n",
              "      <th>disappearance of the granular layer</th>\n",
              "      <th>vacuolisation and damage of basal layer</th>\n",
              "      <th>spongiosis</th>\n",
              "      <th>saw-tooth appearance of retes</th>\n",
              "      <th>follicular horn plug</th>\n",
              "      <th>perifollicular parakeratosis</th>\n",
              "      <th>inflammatory monoluclear inflitrate</th>\n",
              "      <th>band-like infiltrate</th>\n",
              "      <th>Age</th>\n",
              "      <th>class</th>\n",
              "    </tr>\n",
              "  </thead>\n",
              "  <tbody>\n",
              "    <tr>\n",
              "      <th>0</th>\n",
              "      <td>3</td>\n",
              "      <td>3</td>\n",
              "      <td>3</td>\n",
              "      <td>2</td>\n",
              "      <td>1</td>\n",
              "      <td>0</td>\n",
              "      <td>0</td>\n",
              "      <td>0</td>\n",
              "      <td>1</td>\n",
              "      <td>1</td>\n",
              "      <td>1</td>\n",
              "      <td>0</td>\n",
              "      <td>0</td>\n",
              "      <td>1</td>\n",
              "      <td>0</td>\n",
              "      <td>1</td>\n",
              "      <td>2</td>\n",
              "      <td>0</td>\n",
              "      <td>2</td>\n",
              "      <td>2</td>\n",
              "      <td>2</td>\n",
              "      <td>2</td>\n",
              "      <td>2</td>\n",
              "      <td>1</td>\n",
              "      <td>0</td>\n",
              "      <td>0</td>\n",
              "      <td>0</td>\n",
              "      <td>0</td>\n",
              "      <td>0</td>\n",
              "      <td>0</td>\n",
              "      <td>0</td>\n",
              "      <td>1</td>\n",
              "      <td>0</td>\n",
              "      <td>8</td>\n",
              "      <td>1</td>\n",
              "    </tr>\n",
              "    <tr>\n",
              "      <th>1</th>\n",
              "      <td>2</td>\n",
              "      <td>1</td>\n",
              "      <td>2</td>\n",
              "      <td>3</td>\n",
              "      <td>1</td>\n",
              "      <td>3</td>\n",
              "      <td>0</td>\n",
              "      <td>3</td>\n",
              "      <td>0</td>\n",
              "      <td>0</td>\n",
              "      <td>0</td>\n",
              "      <td>1</td>\n",
              "      <td>0</td>\n",
              "      <td>0</td>\n",
              "      <td>0</td>\n",
              "      <td>1</td>\n",
              "      <td>2</td>\n",
              "      <td>0</td>\n",
              "      <td>2</td>\n",
              "      <td>0</td>\n",
              "      <td>0</td>\n",
              "      <td>0</td>\n",
              "      <td>0</td>\n",
              "      <td>0</td>\n",
              "      <td>2</td>\n",
              "      <td>0</td>\n",
              "      <td>2</td>\n",
              "      <td>3</td>\n",
              "      <td>2</td>\n",
              "      <td>0</td>\n",
              "      <td>0</td>\n",
              "      <td>2</td>\n",
              "      <td>3</td>\n",
              "      <td>26</td>\n",
              "      <td>3</td>\n",
              "    </tr>\n",
              "    <tr>\n",
              "      <th>2</th>\n",
              "      <td>2</td>\n",
              "      <td>2</td>\n",
              "      <td>2</td>\n",
              "      <td>0</td>\n",
              "      <td>0</td>\n",
              "      <td>0</td>\n",
              "      <td>0</td>\n",
              "      <td>0</td>\n",
              "      <td>3</td>\n",
              "      <td>2</td>\n",
              "      <td>0</td>\n",
              "      <td>0</td>\n",
              "      <td>0</td>\n",
              "      <td>3</td>\n",
              "      <td>0</td>\n",
              "      <td>0</td>\n",
              "      <td>2</td>\n",
              "      <td>0</td>\n",
              "      <td>3</td>\n",
              "      <td>2</td>\n",
              "      <td>2</td>\n",
              "      <td>2</td>\n",
              "      <td>2</td>\n",
              "      <td>0</td>\n",
              "      <td>0</td>\n",
              "      <td>3</td>\n",
              "      <td>0</td>\n",
              "      <td>0</td>\n",
              "      <td>0</td>\n",
              "      <td>0</td>\n",
              "      <td>0</td>\n",
              "      <td>3</td>\n",
              "      <td>0</td>\n",
              "      <td>40</td>\n",
              "      <td>1</td>\n",
              "    </tr>\n",
              "    <tr>\n",
              "      <th>3</th>\n",
              "      <td>2</td>\n",
              "      <td>3</td>\n",
              "      <td>2</td>\n",
              "      <td>2</td>\n",
              "      <td>2</td>\n",
              "      <td>2</td>\n",
              "      <td>0</td>\n",
              "      <td>2</td>\n",
              "      <td>0</td>\n",
              "      <td>0</td>\n",
              "      <td>0</td>\n",
              "      <td>1</td>\n",
              "      <td>0</td>\n",
              "      <td>0</td>\n",
              "      <td>0</td>\n",
              "      <td>1</td>\n",
              "      <td>2</td>\n",
              "      <td>0</td>\n",
              "      <td>0</td>\n",
              "      <td>0</td>\n",
              "      <td>0</td>\n",
              "      <td>0</td>\n",
              "      <td>0</td>\n",
              "      <td>0</td>\n",
              "      <td>2</td>\n",
              "      <td>2</td>\n",
              "      <td>3</td>\n",
              "      <td>2</td>\n",
              "      <td>3</td>\n",
              "      <td>0</td>\n",
              "      <td>0</td>\n",
              "      <td>2</td>\n",
              "      <td>3</td>\n",
              "      <td>45</td>\n",
              "      <td>3</td>\n",
              "    </tr>\n",
              "    <tr>\n",
              "      <th>4</th>\n",
              "      <td>2</td>\n",
              "      <td>3</td>\n",
              "      <td>2</td>\n",
              "      <td>0</td>\n",
              "      <td>0</td>\n",
              "      <td>0</td>\n",
              "      <td>0</td>\n",
              "      <td>0</td>\n",
              "      <td>0</td>\n",
              "      <td>0</td>\n",
              "      <td>0</td>\n",
              "      <td>0</td>\n",
              "      <td>2</td>\n",
              "      <td>1</td>\n",
              "      <td>0</td>\n",
              "      <td>2</td>\n",
              "      <td>2</td>\n",
              "      <td>0</td>\n",
              "      <td>2</td>\n",
              "      <td>0</td>\n",
              "      <td>0</td>\n",
              "      <td>0</td>\n",
              "      <td>1</td>\n",
              "      <td>0</td>\n",
              "      <td>0</td>\n",
              "      <td>0</td>\n",
              "      <td>0</td>\n",
              "      <td>2</td>\n",
              "      <td>0</td>\n",
              "      <td>0</td>\n",
              "      <td>0</td>\n",
              "      <td>1</td>\n",
              "      <td>0</td>\n",
              "      <td>41</td>\n",
              "      <td>2</td>\n",
              "    </tr>\n",
              "  </tbody>\n",
              "</table>\n",
              "</div>"
            ],
            "text/plain": [
              "   erythema  scaling  definite borders  ...  band-like infiltrate  Age  class\n",
              "0         3        3                 3  ...                     0    8      1\n",
              "1         2        1                 2  ...                     3   26      3\n",
              "2         2        2                 2  ...                     0   40      1\n",
              "3         2        3                 2  ...                     3   45      3\n",
              "4         2        3                 2  ...                     0   41      2\n",
              "\n",
              "[5 rows x 35 columns]"
            ]
          },
          "metadata": {
            "tags": []
          },
          "execution_count": 3
        }
      ]
    },
    {
      "cell_type": "code",
      "metadata": {
        "id": "HsQmQg9lVwCz",
        "outputId": "dc9d1170-de3b-4e3b-d31b-295198b46b6b",
        "colab": {
          "base_uri": "https://localhost:8080/"
        }
      },
      "source": [
        "data.shape"
      ],
      "execution_count": 4,
      "outputs": [
        {
          "output_type": "execute_result",
          "data": {
            "text/plain": [
              "(365, 35)"
            ]
          },
          "metadata": {
            "tags": []
          },
          "execution_count": 4
        }
      ]
    },
    {
      "cell_type": "code",
      "metadata": {
        "id": "2DtOwrCp536i",
        "outputId": "06ecf1f7-c9bd-49e9-b287-05167e0ff6f3",
        "colab": {
          "base_uri": "https://localhost:8080/"
        }
      },
      "source": [
        "data.isnull().sum()"
      ],
      "execution_count": 5,
      "outputs": [
        {
          "output_type": "execute_result",
          "data": {
            "text/plain": [
              "erythema                                    0\n",
              "scaling                                     0\n",
              "definite borders                            0\n",
              "itching                                     0\n",
              "koebner phenomenon                          0\n",
              "polygonal papules                           0\n",
              "follicular papules                          0\n",
              "oral mucosal involvement                    0\n",
              "knee and elbow involvement                  0\n",
              " scalp involvement                          0\n",
              "family history                              0\n",
              "melanin incontinence                        0\n",
              "eosinophils in the infiltrate               0\n",
              "PNL infiltrate                              0\n",
              "fibrosis of the papillary dermis            0\n",
              "exocytosis                                  0\n",
              "acanthosis                                  0\n",
              "hyperkeratosis                              0\n",
              "parakeratosis                               0\n",
              "clubbing of the rete ridges                 0\n",
              "elongation of the rete ridges               0\n",
              "thinning of the suprapapillary epidermis    0\n",
              "spongiform pustule                          0\n",
              "munro microabcess                           0\n",
              "focal hypergranulosis                       0\n",
              "disappearance of the granular layer         0\n",
              "vacuolisation and damage of basal layer     0\n",
              "spongiosis                                  0\n",
              "saw-tooth appearance of retes               0\n",
              "follicular horn plug                        0\n",
              "perifollicular parakeratosis                0\n",
              "inflammatory monoluclear inflitrate         0\n",
              "band-like infiltrate                        0\n",
              "Age                                         0\n",
              "class                                       0\n",
              "dtype: int64"
            ]
          },
          "metadata": {
            "tags": []
          },
          "execution_count": 5
        }
      ]
    },
    {
      "cell_type": "code",
      "metadata": {
        "id": "PKB9xKL85__r",
        "outputId": "a28ae2c4-d37e-4e57-fb86-be39f88f53cd",
        "colab": {
          "base_uri": "https://localhost:8080/"
        }
      },
      "source": [
        "data['Age'].unique()"
      ],
      "execution_count": 6,
      "outputs": [
        {
          "output_type": "execute_result",
          "data": {
            "text/plain": [
              "array(['8', '26', '40', '45', '41', '18', '57', '22', '30', '20', '21',\n",
              "       '10', '65', '38', '23', '17', '51', '42', '44', '33', '43', '50',\n",
              "       '34', '?', '15', '46', '62', '35', '48', '12', '52', '60', '32',\n",
              "       '19', '29', '25', '36', '13', '27', '31', '55', '28', '64', '39',\n",
              "       '47', '16', '0', '7', '70', '37', '61', '67', '56', '53', '24',\n",
              "       '58', '49', '63', '68', '9', '75'], dtype=object)"
            ]
          },
          "metadata": {
            "tags": []
          },
          "execution_count": 6
        }
      ]
    },
    {
      "cell_type": "code",
      "metadata": {
        "id": "irPeQYkP6BS7",
        "outputId": "685359d0-c130-4b98-dffc-04488ad25f2a",
        "colab": {
          "base_uri": "https://localhost:8080/"
        }
      },
      "source": [
        "data['Age'].astype"
      ],
      "execution_count": 7,
      "outputs": [
        {
          "output_type": "execute_result",
          "data": {
            "text/plain": [
              "<bound method NDFrame.astype of 0       8\n",
              "1      26\n",
              "2      40\n",
              "3      45\n",
              "4      41\n",
              "       ..\n",
              "360    25\n",
              "361    36\n",
              "362    28\n",
              "363    50\n",
              "364    35\n",
              "Name: Age, Length: 365, dtype: object>"
            ]
          },
          "metadata": {
            "tags": []
          },
          "execution_count": 7
        }
      ]
    },
    {
      "cell_type": "code",
      "metadata": {
        "id": "Hrl5Ov4o6DqV",
        "outputId": "c9189ccf-f720-486e-cb51-b2b1508ca3dc",
        "colab": {
          "base_uri": "https://localhost:8080/"
        }
      },
      "source": [
        "for i in range(len(data['Age'])):\n",
        "  if data['Age'][i]=='?':\n",
        "    data['Age'][i]=np.nan\n",
        "data['Age'] = data['Age'].astype(float)\n",
        "data['Age'] = data['Age'].fillna(data['Age'].mean())"
      ],
      "execution_count": 8,
      "outputs": [
        {
          "output_type": "stream",
          "text": [
            "/usr/local/lib/python3.6/dist-packages/ipykernel_launcher.py:3: SettingWithCopyWarning: \n",
            "A value is trying to be set on a copy of a slice from a DataFrame\n",
            "\n",
            "See the caveats in the documentation: https://pandas.pydata.org/pandas-docs/stable/user_guide/indexing.html#returning-a-view-versus-a-copy\n",
            "  This is separate from the ipykernel package so we can avoid doing imports until\n"
          ],
          "name": "stderr"
        }
      ]
    },
    {
      "cell_type": "code",
      "metadata": {
        "id": "2jy4kwaN6Gfu",
        "outputId": "09202b33-673c-4b37-ea7d-ab34b9ff4235",
        "colab": {
          "base_uri": "https://localhost:8080/"
        }
      },
      "source": [
        "data['Age'].unique()"
      ],
      "execution_count": 9,
      "outputs": [
        {
          "output_type": "execute_result",
          "data": {
            "text/plain": [
              "array([ 8.        , 26.        , 40.        , 45.        , 41.        ,\n",
              "       18.        , 57.        , 22.        , 30.        , 20.        ,\n",
              "       21.        , 10.        , 65.        , 38.        , 23.        ,\n",
              "       17.        , 51.        , 42.        , 44.        , 33.        ,\n",
              "       43.        , 50.        , 34.        , 36.24369748, 15.        ,\n",
              "       46.        , 62.        , 35.        , 48.        , 12.        ,\n",
              "       52.        , 60.        , 32.        , 19.        , 29.        ,\n",
              "       25.        , 36.        , 13.        , 27.        , 31.        ,\n",
              "       55.        , 28.        , 64.        , 39.        , 47.        ,\n",
              "       16.        ,  0.        ,  7.        , 70.        , 37.        ,\n",
              "       61.        , 67.        , 56.        , 53.        , 24.        ,\n",
              "       58.        , 49.        , 63.        , 68.        ,  9.        ,\n",
              "       75.        ])"
            ]
          },
          "metadata": {
            "tags": []
          },
          "execution_count": 9
        }
      ]
    },
    {
      "cell_type": "code",
      "metadata": {
        "id": "G4W9YiU7WCzM"
      },
      "source": [
        "#from sklearn.preprocessing import StandardScaler"
      ],
      "execution_count": 10,
      "outputs": []
    },
    {
      "cell_type": "code",
      "metadata": {
        "id": "uC1havdpWFPx"
      },
      "source": [
        "#scaler = StandardScaler()"
      ],
      "execution_count": 11,
      "outputs": []
    },
    {
      "cell_type": "code",
      "metadata": {
        "id": "gnfyKLkAWGqm"
      },
      "source": [
        "Y = data['class'].values\n",
        "X = data.drop('class',1)  "
      ],
      "execution_count": 12,
      "outputs": []
    },
    {
      "cell_type": "code",
      "metadata": {
        "id": "dmRRaiAQWUAt"
      },
      "source": [
        "#scaled_data = scaler.fit_transform(X)"
      ],
      "execution_count": 13,
      "outputs": []
    },
    {
      "cell_type": "code",
      "metadata": {
        "id": "hFH8mXstWWVU"
      },
      "source": [
        "#scaled_data"
      ],
      "execution_count": 14,
      "outputs": []
    },
    {
      "cell_type": "code",
      "metadata": {
        "id": "Nw4mlYtaWZkN"
      },
      "source": [
        "#from sklearn.decomposition import PCA"
      ],
      "execution_count": 15,
      "outputs": []
    },
    {
      "cell_type": "code",
      "metadata": {
        "id": "-FYcxBDKWb2r"
      },
      "source": [
        "#pca = PCA()\n",
        "#pca.fit_transform(X)"
      ],
      "execution_count": 16,
      "outputs": []
    },
    {
      "cell_type": "markdown",
      "metadata": {
        "id": "WM1dH81se1IT"
      },
      "source": [
        "Logistic regression"
      ]
    },
    {
      "cell_type": "code",
      "metadata": {
        "id": "H-NwBIsEfP1X"
      },
      "source": [
        "from sklearn.model_selection import train_test_split\n",
        "from sklearn.linear_model import LogisticRegression"
      ],
      "execution_count": 17,
      "outputs": []
    },
    {
      "cell_type": "code",
      "metadata": {
        "id": "N4uNpGf4XJ5p"
      },
      "source": [
        "X_train ,X_test ,Y_train, Y_test = train_test_split(X,Y,test_size=0.2)"
      ],
      "execution_count": 18,
      "outputs": []
    },
    {
      "cell_type": "code",
      "metadata": {
        "id": "mmXPYFEnWzVL"
      },
      "source": [
        "lr = LogisticRegression()"
      ],
      "execution_count": 19,
      "outputs": []
    },
    {
      "cell_type": "code",
      "metadata": {
        "id": "7L_ahObiXkGy",
        "outputId": "55b91b0b-7149-4f4d-ba44-cfcbe522a07f",
        "colab": {
          "base_uri": "https://localhost:8080/"
        }
      },
      "source": [
        "lr.fit(X_train,Y_train)"
      ],
      "execution_count": 20,
      "outputs": [
        {
          "output_type": "stream",
          "text": [
            "/usr/local/lib/python3.6/dist-packages/sklearn/linear_model/_logistic.py:940: ConvergenceWarning: lbfgs failed to converge (status=1):\n",
            "STOP: TOTAL NO. of ITERATIONS REACHED LIMIT.\n",
            "\n",
            "Increase the number of iterations (max_iter) or scale the data as shown in:\n",
            "    https://scikit-learn.org/stable/modules/preprocessing.html\n",
            "Please also refer to the documentation for alternative solver options:\n",
            "    https://scikit-learn.org/stable/modules/linear_model.html#logistic-regression\n",
            "  extra_warning_msg=_LOGISTIC_SOLVER_CONVERGENCE_MSG)\n"
          ],
          "name": "stderr"
        },
        {
          "output_type": "execute_result",
          "data": {
            "text/plain": [
              "LogisticRegression(C=1.0, class_weight=None, dual=False, fit_intercept=True,\n",
              "                   intercept_scaling=1, l1_ratio=None, max_iter=100,\n",
              "                   multi_class='auto', n_jobs=None, penalty='l2',\n",
              "                   random_state=None, solver='lbfgs', tol=0.0001, verbose=0,\n",
              "                   warm_start=False)"
            ]
          },
          "metadata": {
            "tags": []
          },
          "execution_count": 20
        }
      ]
    },
    {
      "cell_type": "code",
      "metadata": {
        "id": "TToO6PWQXoMk",
        "outputId": "958fd87c-22b9-406c-b689-1e74855a9879",
        "colab": {
          "base_uri": "https://localhost:8080/"
        }
      },
      "source": [
        "lr.score(X_test,Y_test)"
      ],
      "execution_count": 21,
      "outputs": [
        {
          "output_type": "execute_result",
          "data": {
            "text/plain": [
              "0.9863013698630136"
            ]
          },
          "metadata": {
            "tags": []
          },
          "execution_count": 21
        }
      ]
    },
    {
      "cell_type": "markdown",
      "metadata": {
        "id": "BoTNxHNie6wE"
      },
      "source": [
        "GaussianNB"
      ]
    },
    {
      "cell_type": "code",
      "metadata": {
        "id": "Aku21TLNX1GZ"
      },
      "source": [
        "from sklearn.naive_bayes import GaussianNB"
      ],
      "execution_count": 22,
      "outputs": []
    },
    {
      "cell_type": "code",
      "metadata": {
        "id": "BwE_nRddX8mC"
      },
      "source": [
        "X_train,X_test,Y_train,Y_test = train_test_split(X,Y,test_size=0.2)"
      ],
      "execution_count": 23,
      "outputs": []
    },
    {
      "cell_type": "code",
      "metadata": {
        "id": "I04P1KzUX-_Y"
      },
      "source": [
        "gnb = GaussianNB() "
      ],
      "execution_count": 24,
      "outputs": []
    },
    {
      "cell_type": "code",
      "metadata": {
        "id": "KtPo5tiUYFWQ",
        "outputId": "2ddfecb5-d4ef-4512-cbac-04072df4431c",
        "colab": {
          "base_uri": "https://localhost:8080/"
        }
      },
      "source": [
        "gnb.fit(X_train,Y_train)"
      ],
      "execution_count": 25,
      "outputs": [
        {
          "output_type": "execute_result",
          "data": {
            "text/plain": [
              "GaussianNB(priors=None, var_smoothing=1e-09)"
            ]
          },
          "metadata": {
            "tags": []
          },
          "execution_count": 25
        }
      ]
    },
    {
      "cell_type": "code",
      "metadata": {
        "id": "RHqQNb0IYKAM",
        "outputId": "0f2c6e58-4acc-4c33-f41b-d4791596e527",
        "colab": {
          "base_uri": "https://localhost:8080/"
        }
      },
      "source": [
        "gnb.score(X_test,Y_test)"
      ],
      "execution_count": 26,
      "outputs": [
        {
          "output_type": "execute_result",
          "data": {
            "text/plain": [
              "0.8904109589041096"
            ]
          },
          "metadata": {
            "tags": []
          },
          "execution_count": 26
        }
      ]
    },
    {
      "cell_type": "code",
      "metadata": {
        "id": "UhTZ91R8mnw3"
      },
      "source": [
        "from sklearn.metrics import f1_score, precision_score, recall_score"
      ],
      "execution_count": 39,
      "outputs": []
    },
    {
      "cell_type": "code",
      "metadata": {
        "id": "P7dMPAxcmwLM",
        "outputId": "93703f3e-3258-4cdd-d759-ed6a300ed563",
        "colab": {
          "base_uri": "https://localhost:8080/"
        }
      },
      "source": [
        "recall_score(Y_test,lr.predict(X_test),average='micro')"
      ],
      "execution_count": 40,
      "outputs": [
        {
          "output_type": "execute_result",
          "data": {
            "text/plain": [
              "0.9863013698630136"
            ]
          },
          "metadata": {
            "tags": []
          },
          "execution_count": 40
        }
      ]
    },
    {
      "cell_type": "code",
      "metadata": {
        "id": "-ecIzps7m1rC",
        "outputId": "b584636c-4c7b-4241-8b64-4b8f6079fd2d",
        "colab": {
          "base_uri": "https://localhost:8080/"
        }
      },
      "source": [
        "precision_score(Y_test,lr.predict(X_test),average='micro')"
      ],
      "execution_count": 41,
      "outputs": [
        {
          "output_type": "execute_result",
          "data": {
            "text/plain": [
              "0.9863013698630136"
            ]
          },
          "metadata": {
            "tags": []
          },
          "execution_count": 41
        }
      ]
    },
    {
      "cell_type": "code",
      "metadata": {
        "id": "k-SFo2_Mm9MY",
        "outputId": "10c90e68-e990-40fa-ffc0-87b2dcd8ae3a",
        "colab": {
          "base_uri": "https://localhost:8080/"
        }
      },
      "source": [
        "f1_score(Y_test,lr.predict(X_test),average='micro')"
      ],
      "execution_count": 42,
      "outputs": [
        {
          "output_type": "execute_result",
          "data": {
            "text/plain": [
              "0.9863013698630136"
            ]
          },
          "metadata": {
            "tags": []
          },
          "execution_count": 42
        }
      ]
    },
    {
      "cell_type": "markdown",
      "metadata": {
        "id": "O4DweRbvfeQ5"
      },
      "source": [
        "ROC&AUC"
      ]
    },
    {
      "cell_type": "code",
      "metadata": {
        "id": "lofLSC-VftDF"
      },
      "source": [
        "from sklearn.metrics import roc_curve, auc"
      ],
      "execution_count": 27,
      "outputs": []
    },
    {
      "cell_type": "code",
      "metadata": {
        "id": "aCpnTEYGf3AC"
      },
      "source": [
        "Y_lr_score = lr.predict_proba(X_test)"
      ],
      "execution_count": 28,
      "outputs": []
    },
    {
      "cell_type": "code",
      "metadata": {
        "id": "dGiNMtVkf61F"
      },
      "source": [
        "Y_gnb_score = gnb.predict_proba(X_test)"
      ],
      "execution_count": 29,
      "outputs": []
    },
    {
      "cell_type": "code",
      "metadata": {
        "id": "bHeHbazLgCbK"
      },
      "source": [
        "from sklearn.metrics import precision_score"
      ],
      "execution_count": 30,
      "outputs": []
    },
    {
      "cell_type": "code",
      "metadata": {
        "id": "0dNnhEyDgMXv"
      },
      "source": [
        "fpr_gnb, tpr_gnb,thresholds_gnb = roc_curve(Y_test, Y_gnb_score[:,1],pos_label=6)"
      ],
      "execution_count": 32,
      "outputs": []
    },
    {
      "cell_type": "code",
      "metadata": {
        "id": "yvqjKkHfgOzU",
        "outputId": "67570193-990d-4a47-935e-1dfe9c4f533e",
        "colab": {
          "base_uri": "https://localhost:8080/"
        }
      },
      "source": [
        "fpr_gnb"
      ],
      "execution_count": 33,
      "outputs": [
        {
          "output_type": "execute_result",
          "data": {
            "text/plain": [
              "array([0.        , 0.02857143, 0.2       , 0.2       , 1.        ])"
            ]
          },
          "metadata": {
            "tags": []
          },
          "execution_count": 33
        }
      ]
    },
    {
      "cell_type": "code",
      "metadata": {
        "id": "IuPq9WnEgQ63",
        "outputId": "bfb03da4-00af-4f17-e34f-12924800a0a0",
        "colab": {
          "base_uri": "https://localhost:8080/"
        }
      },
      "source": [
        "tpr_gnb"
      ],
      "execution_count": 34,
      "outputs": [
        {
          "output_type": "execute_result",
          "data": {
            "text/plain": [
              "array([0., 0., 0., 1., 1.])"
            ]
          },
          "metadata": {
            "tags": []
          },
          "execution_count": 34
        }
      ]
    },
    {
      "cell_type": "code",
      "metadata": {
        "id": "odteLTDDgT7k",
        "outputId": "4f443f0f-d8b8-4a77-ea07-624a62fbc97a",
        "colab": {
          "base_uri": "https://localhost:8080/"
        }
      },
      "source": [
        "auc(fpr_gnb,tpr_gnb)"
      ],
      "execution_count": 35,
      "outputs": [
        {
          "output_type": "execute_result",
          "data": {
            "text/plain": [
              "0.8"
            ]
          },
          "metadata": {
            "tags": []
          },
          "execution_count": 35
        }
      ]
    },
    {
      "cell_type": "code",
      "metadata": {
        "id": "ADRVDiGIgWOo"
      },
      "source": [
        "import matplotlib.pyplot as plt"
      ],
      "execution_count": 36,
      "outputs": []
    },
    {
      "cell_type": "code",
      "metadata": {
        "id": "4vEVRID8gXjT",
        "outputId": "18135dd2-06e9-45cc-e96b-aa25c0e2390c",
        "colab": {
          "base_uri": "https://localhost:8080/",
          "height": 530
        }
      },
      "source": [
        "plt.figure(figsize=(8, 8))\n",
        "plt.plot(fpr_gnb, tpr_gnb, color='red', label='GNB (AUC: %.2f)' % auc(fpr_gnb, tpr_gnb))\n",
        "plt.plot([0, 1], [0, 1], color='blue', linestyle='--')\n",
        "plt.xlim([0.0, 1.0])\n",
        "plt.ylim([0.0, 1.0])\n",
        "plt.title('ROC Curve')\n",
        "plt.xlabel('False Positive Rate')\n",
        "plt.ylabel('True Positive Rate')\n",
        "plt.legend(loc=\"lower right\")"
      ],
      "execution_count": 38,
      "outputs": [
        {
          "output_type": "execute_result",
          "data": {
            "text/plain": [
              "<matplotlib.legend.Legend at 0x7f524efe6860>"
            ]
          },
          "metadata": {
            "tags": []
          },
          "execution_count": 38
        },
        {
          "output_type": "display_data",
          "data": {
            "image/png": "[encoded data removed]",
            "text/plain": [
              "<Figure size 576x576 with 1 Axes>"
            ]
          },
          "metadata": {
            "tags": [],
            "needs_background": "light"
          }
        }
      ]
    }
  ]
}